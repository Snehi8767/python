{
 "cells": [
  {
   "cell_type": "code",
   "execution_count": 7,
   "id": "476a792c-b7ff-4f9a-9493-7cb485e91a38",
   "metadata": {},
   "outputs": [],
   "source": [
    "l = [1,2,3,4,1.6,'hello',[10,30,7,True]]\n"
   ]
  },
  {
   "cell_type": "code",
   "execution_count": 8,
   "id": "c53f1b7b-2008-4844-8aa3-d7ac2443647b",
   "metadata": {},
   "outputs": [
    {
     "name": "stdout",
     "output_type": "stream",
     "text": [
      "1\n",
      "2\n",
      "3\n",
      "4\n",
      "1.6\n",
      "hello\n",
      "[10, 30, 7, True]\n"
     ]
    }
   ],
   "source": [
    "for i in l:\n",
    "    print(i)"
   ]
  },
  {
   "cell_type": "code",
   "execution_count": 9,
   "id": "6db14393-d329-4633-b4e8-3fec1b1f4d51",
   "metadata": {},
   "outputs": [],
   "source": [
    "l1= []\n",
    "for i in l:\n",
    "    if type(i)== int:\n",
    "        l1.append(i)\n",
    "    if type(i) == list:\n",
    "        for num in i:\n",
    "            if type(num) == int:\n",
    "                l1.append(num)\n",
    "        "
   ]
  },
  {
   "cell_type": "code",
   "execution_count": 10,
   "id": "b77c68a6-6116-4ab9-8931-255c6668596d",
   "metadata": {},
   "outputs": [
    {
     "data": {
      "text/plain": [
       "[1, 2, 3, 4, 10, 30, 7]"
      ]
     },
     "execution_count": 10,
     "metadata": {},
     "output_type": "execute_result"
    }
   ],
   "source": [
    "l1"
   ]
  },
  {
   "cell_type": "code",
   "execution_count": 11,
   "id": "798678e2-4918-46dd-a04a-f2c464d4ba17",
   "metadata": {},
   "outputs": [],
   "source": [
    "def string_fliter(*args):\n",
    "    l = []\n",
    "    for i in args:\n",
    "        if type(i) == str:\n",
    "            l.append(i)\n",
    "    return l"
   ]
  },
  {
   "cell_type": "code",
   "execution_count": 12,
   "id": "cef95c85-7ccf-4c3a-be19-1eff7717baea",
   "metadata": {},
   "outputs": [
    {
     "data": {
      "text/plain": [
       "['Hello', 'code', 'data', 'science']"
      ]
     },
     "execution_count": 12,
     "metadata": {},
     "output_type": "execute_result"
    }
   ],
   "source": [
    "string_fliter(1,3,'Hello','code',7.0,'data','science')"
   ]
  },
  {
   "cell_type": "code",
   "execution_count": 13,
   "id": "8fc209b4-bc4e-42ac-ad85-ded4a3083f53",
   "metadata": {},
   "outputs": [
    {
     "name": "stdout",
     "output_type": "stream",
     "text": [
      "h\n",
      "e\n",
      "l\n",
      "l\n",
      "o\n"
     ]
    }
   ],
   "source": [
    "for i in 'hello':\n",
    "    print(i)"
   ]
  },
  {
   "cell_type": "code",
   "execution_count": 14,
   "id": "2dbea409-3ed2-4075-86b4-19cacf7a937c",
   "metadata": {},
   "outputs": [],
   "source": [
    "def string_fliter(*args):\n",
    "    l = []\n",
    "    for i in args:\n",
    "        if type(i) == str:\n",
    "            l.append(i)\n",
    "    return l"
   ]
  },
  {
   "cell_type": "code",
   "execution_count": 18,
   "id": "593c818a-d381-44e0-a716-579d75ac1dca",
   "metadata": {},
   "outputs": [
    {
     "data": {
      "text/plain": [
       "['hey', 'hiii']"
      ]
     },
     "execution_count": 18,
     "metadata": {},
     "output_type": "execute_result"
    }
   ],
   "source": [
    "string_fliter(1,3,'hey',40,'hiii',True,)"
   ]
  },
  {
   "cell_type": "code",
   "execution_count": 16,
   "id": "4b965d5d-62d7-4a3e-a722-fd39506f05a5",
   "metadata": {},
   "outputs": [],
   "source": [
    "def sum_data(* args):\n",
    "    sum = 0\n",
    "    for i in args:\n",
    "        sum = sum + i\n",
    "    return sum"
   ]
  },
  {
   "cell_type": "code",
   "execution_count": 17,
   "id": "91e004e5-8aae-4386-b099-444e288c20ab",
   "metadata": {},
   "outputs": [
    {
     "data": {
      "text/plain": [
       "69"
      ]
     },
     "execution_count": 17,
     "metadata": {},
     "output_type": "execute_result"
    }
   ],
   "source": [
    "sum_data(1,20,3,40,5)"
   ]
  },
  {
   "cell_type": "code",
   "execution_count": 30,
   "id": "c8572686-58d1-4409-93be-cd15f2cd4357",
   "metadata": {},
   "outputs": [],
   "source": [
    "def string_filter_char(*args):\n",
    "    l = []\n",
    "    for i in args:\n",
    "        if type(i) == str:\n",
    "            for char in i :\n",
    "                l.append(char)\n",
    "        return l"
   ]
  },
  {
   "cell_type": "code",
   "execution_count": 31,
   "id": "baf28e88-9ac9-4b93-a5e9-83f39ef581be",
   "metadata": {},
   "outputs": [
    {
     "data": {
      "text/plain": [
       "['d', 'a', 't', 'a']"
      ]
     },
     "execution_count": 31,
     "metadata": {},
     "output_type": "execute_result"
    }
   ],
   "source": [
    "string_filter_char('data','sneha',45,20,'savita')"
   ]
  },
  {
   "cell_type": "code",
   "execution_count": null,
   "id": "ac0429a0-3943-47be-a3cb-aec4a47e285f",
   "metadata": {},
   "outputs": [],
   "source": []
  },
  {
   "cell_type": "code",
   "execution_count": 6,
   "id": "6c0ff6d6-3be5-4f6d-bda1-f5e336a84229",
   "metadata": {},
   "outputs": [],
   "source": [
    "# in -build functions"
   ]
  },
  {
   "cell_type": "code",
   "execution_count": 9,
   "id": "73c0c59c-071f-41c8-a297-f20a3e8679ca",
   "metadata": {},
   "outputs": [],
   "source": [
    "a = 'hello'"
   ]
  },
  {
   "cell_type": "code",
   "execution_count": 10,
   "id": "9e3aaab0-32c6-411e-8671-9b431f24b77d",
   "metadata": {},
   "outputs": [
    {
     "data": {
      "text/plain": [
       "'Hello'"
      ]
     },
     "execution_count": 10,
     "metadata": {},
     "output_type": "execute_result"
    }
   ],
   "source": [
    "'hello'.capitalize()"
   ]
  },
  {
   "cell_type": "code",
   "execution_count": 14,
   "id": "7cd1251f-1f93-4055-9b59-adbdfb4bc9c8",
   "metadata": {},
   "outputs": [
    {
     "data": {
      "text/plain": [
       "True"
      ]
     },
     "execution_count": 14,
     "metadata": {},
     "output_type": "execute_result"
    }
   ],
   "source": [
    "a.isalnum()"
   ]
  },
  {
   "cell_type": "code",
   "execution_count": 15,
   "id": "87cbc4b3-5f7e-400f-a268-dee14c0e1170",
   "metadata": {},
   "outputs": [
    {
     "data": {
      "text/plain": [
       "True"
      ]
     },
     "execution_count": 15,
     "metadata": {},
     "output_type": "execute_result"
    }
   ],
   "source": [
    "a.islower()"
   ]
  },
  {
   "cell_type": "code",
   "execution_count": 16,
   "id": "ef8ddb42-a24c-4ef3-b6bf-2a36fd64c9fd",
   "metadata": {},
   "outputs": [
    {
     "data": {
      "text/plain": [
       "False"
      ]
     },
     "execution_count": 16,
     "metadata": {},
     "output_type": "execute_result"
    }
   ],
   "source": [
    "'Hello'.islower()"
   ]
  },
  {
   "cell_type": "code",
   "execution_count": 17,
   "id": "4ddececa-3b99-4185-ad7e-2b0c3f00dd50",
   "metadata": {},
   "outputs": [
    {
     "data": {
      "text/plain": [
       "'**Hello***'"
      ]
     },
     "execution_count": 17,
     "metadata": {},
     "output_type": "execute_result"
    }
   ],
   "source": [
    "'Hello'.center(10,'*')"
   ]
  },
  {
   "cell_type": "code",
   "execution_count": 18,
   "id": "99f73d38-e823-44d2-93e6-04387ad2957d",
   "metadata": {},
   "outputs": [
    {
     "data": {
      "text/plain": [
       "'@@@@@@@@code@@@@@@@@'"
      ]
     },
     "execution_count": 18,
     "metadata": {},
     "output_type": "execute_result"
    }
   ],
   "source": [
    "'code'.center(20,'@')"
   ]
  },
  {
   "cell_type": "code",
   "execution_count": 23,
   "id": "8ab5737d-706d-4a2e-8fa4-ea8611fb47bd",
   "metadata": {},
   "outputs": [],
   "source": [
    "x='10-02-2025'.split('-')   #split the value "
   ]
  },
  {
   "cell_type": "code",
   "execution_count": 24,
   "id": "f937059d-b4bb-4c3c-8c67-dba7a96dc7eb",
   "metadata": {},
   "outputs": [
    {
     "data": {
      "text/plain": [
       "['10', '02', '2025']"
      ]
     },
     "execution_count": 24,
     "metadata": {},
     "output_type": "execute_result"
    }
   ],
   "source": [
    "x"
   ]
  },
  {
   "cell_type": "code",
   "execution_count": 25,
   "id": "e7915ab1-bea1-4d09-9d32-e38cb6525250",
   "metadata": {},
   "outputs": [
    {
     "data": {
      "text/plain": [
       "'02'"
      ]
     },
     "execution_count": 25,
     "metadata": {},
     "output_type": "execute_result"
    }
   ],
   "source": [
    "x[1]"
   ]
  },
  {
   "cell_type": "code",
   "execution_count": 26,
   "id": "cb422a22-c480-4dc0-97a3-0eebb5850adf",
   "metadata": {},
   "outputs": [
    {
     "data": {
      "text/plain": [
       "['hey', 'we', 'are', 'learining', 'python', 'function']"
      ]
     },
     "execution_count": 26,
     "metadata": {},
     "output_type": "execute_result"
    }
   ],
   "source": [
    "'hey we are learining python function'.split(' ')"
   ]
  },
  {
   "cell_type": "code",
   "execution_count": 28,
   "id": "3bfa70c4-2514-4b8f-9c35-36c8055360d1",
   "metadata": {},
   "outputs": [],
   "source": [
    "sentence = \"\"\" Hey.\n",
    "how are you?.\n",
    "i am fine .\n",
    "what are doing here.\n",
    "see you later.\"\"\""
   ]
  },
  {
   "cell_type": "code",
   "execution_count": 29,
   "id": "41d98609-0d53-4129-ae8a-bd0af0551b12",
   "metadata": {},
   "outputs": [
    {
     "data": {
      "text/plain": [
       "[' Hey',\n",
       " '\\nhow are you?',\n",
       " '\\ni am fine ',\n",
       " '\\nwhat are doing here',\n",
       " '\\nsee you later',\n",
       " '']"
      ]
     },
     "execution_count": 29,
     "metadata": {},
     "output_type": "execute_result"
    }
   ],
   "source": [
    "sentence.split('.')"
   ]
  },
  {
   "cell_type": "code",
   "execution_count": 30,
   "id": "ec452348-7b7e-4ffa-994f-3df0325832c2",
   "metadata": {},
   "outputs": [
    {
     "data": {
      "text/plain": [
       "False"
      ]
     },
     "execution_count": 30,
     "metadata": {},
     "output_type": "execute_result"
    }
   ],
   "source": [
    "'hello'.isdigit()"
   ]
  },
  {
   "cell_type": "code",
   "execution_count": 31,
   "id": "713dbb54-e9ea-41fd-849a-3c64bdae6967",
   "metadata": {},
   "outputs": [
    {
     "data": {
      "text/plain": [
       "True"
      ]
     },
     "execution_count": 31,
     "metadata": {},
     "output_type": "execute_result"
    }
   ],
   "source": [
    "'1'.isdecimal()"
   ]
  },
  {
   "cell_type": "code",
   "execution_count": 32,
   "id": "f282f05d-d2f9-4413-9490-9098baa4ed11",
   "metadata": {},
   "outputs": [
    {
     "data": {
      "text/plain": [
       "False"
      ]
     },
     "execution_count": 32,
     "metadata": {},
     "output_type": "execute_result"
    }
   ],
   "source": [
    "'1.5'.isalpha()"
   ]
  },
  {
   "cell_type": "code",
   "execution_count": 33,
   "id": "f975affa-b4f3-4bd2-99ff-5275ebe511dd",
   "metadata": {},
   "outputs": [
    {
     "data": {
      "text/plain": [
       "True"
      ]
     },
     "execution_count": 33,
     "metadata": {},
     "output_type": "execute_result"
    }
   ],
   "source": [
    "'sneha'.isalpha()"
   ]
  },
  {
   "cell_type": "code",
   "execution_count": 34,
   "id": "fec9bcdb-5c0b-4bf1-8d8b-ab6c742ffabc",
   "metadata": {},
   "outputs": [
    {
     "data": {
      "text/plain": [
       "True"
      ]
     },
     "execution_count": 34,
     "metadata": {},
     "output_type": "execute_result"
    }
   ],
   "source": [
    "'Hello'.istitle()"
   ]
  },
  {
   "cell_type": "code",
   "execution_count": 37,
   "id": "ad78139e-1026-4d98-a072-bc1ca7af2927",
   "metadata": {},
   "outputs": [
    {
     "data": {
      "text/plain": [
       "6"
      ]
     },
     "execution_count": 37,
     "metadata": {},
     "output_type": "execute_result"
    }
   ],
   "source": [
    "'heyyyyyy'.count('y')"
   ]
  },
  {
   "cell_type": "code",
   "execution_count": null,
   "id": "5ae9f49f-215a-4dc7-87f5-2c06a1487683",
   "metadata": {},
   "outputs": [],
   "source": []
  }
 ],
 "metadata": {
  "kernelspec": {
   "display_name": "Python 3 (ipykernel)",
   "language": "python",
   "name": "python3"
  },
  "language_info": {
   "codemirror_mode": {
    "name": "ipython",
    "version": 3
   },
   "file_extension": ".py",
   "mimetype": "text/x-python",
   "name": "python",
   "nbconvert_exporter": "python",
   "pygments_lexer": "ipython3",
   "version": "3.12.7"
  }
 },
 "nbformat": 4,
 "nbformat_minor": 5
}
