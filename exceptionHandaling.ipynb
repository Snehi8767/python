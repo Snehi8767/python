{
 "cells": [
  {
   "cell_type": "code",
   "execution_count": 2,
   "id": "bb5c3a61-f4de-4eb7-b627-f46a0961a458",
   "metadata": {},
   "outputs": [
    {
     "ename": "NameError",
     "evalue": "name 'l' is not defined",
     "output_type": "error",
     "traceback": [
      "\u001b[1;31m---------------------------------------------------------------------------\u001b[0m",
      "\u001b[1;31mNameError\u001b[0m                                 Traceback (most recent call last)",
      "Cell \u001b[1;32mIn[2], line 1\u001b[0m\n\u001b[1;32m----> 1\u001b[0m \u001b[38;5;28;01mfor\u001b[39;00m i \u001b[38;5;129;01min\u001b[39;00m l:\n\u001b[0;32m      2\u001b[0m     \u001b[38;5;28mprint\u001b[39m(i)\n",
      "\u001b[1;31mNameError\u001b[0m: name 'l' is not defined"
     ]
    }
   ],
   "source": [
    "for i in l:\n",
    "    print(i)"
   ]
  },
  {
   "cell_type": "code",
   "execution_count": 3,
   "id": "da639ab1-4724-41a9-b6c6-2b168aff5724",
   "metadata": {},
   "outputs": [],
   "source": [
    "l = 'hello'"
   ]
  },
  {
   "cell_type": "code",
   "execution_count": 4,
   "id": "d3b31db6-a9fc-41c0-b437-23736daf4830",
   "metadata": {},
   "outputs": [
    {
     "ename": "ZeroDivisionError",
     "evalue": "division by zero",
     "output_type": "error",
     "traceback": [
      "\u001b[1;31m---------------------------------------------------------------------------\u001b[0m",
      "\u001b[1;31mZeroDivisionError\u001b[0m                         Traceback (most recent call last)",
      "Cell \u001b[1;32mIn[4], line 1\u001b[0m\n\u001b[1;32m----> 1\u001b[0m \u001b[38;5;241m5\u001b[39m\u001b[38;5;241m/\u001b[39m\u001b[38;5;241m0\u001b[39m\n",
      "\u001b[1;31mZeroDivisionError\u001b[0m: division by zero"
     ]
    }
   ],
   "source": [
    "5/0"
   ]
  },
  {
   "cell_type": "code",
   "execution_count": 5,
   "id": "d9e13469-8ba7-4e74-b048-362e5da554f1",
   "metadata": {},
   "outputs": [
    {
     "ename": "SyntaxError",
     "evalue": "incomplete input (1925085379.py, line 1)",
     "output_type": "error",
     "traceback": [
      "\u001b[1;36m  Cell \u001b[1;32mIn[5], line 1\u001b[1;36m\u001b[0m\n\u001b[1;33m    for i in range(5):\u001b[0m\n\u001b[1;37m                      ^\u001b[0m\n\u001b[1;31mSyntaxError\u001b[0m\u001b[1;31m:\u001b[0m incomplete input\n"
     ]
    }
   ],
   "source": [
    "for i in range(5):"
   ]
  },
  {
   "cell_type": "code",
   "execution_count": 6,
   "id": "a033c1d0-e5ea-4416-a1ae-57604c734f28",
   "metadata": {},
   "outputs": [
    {
     "name": "stdin",
     "output_type": "stream",
     "text": [
      "write int number only kdd\n"
     ]
    },
    {
     "ename": "ValueError",
     "evalue": "invalid literal for int() with base 10: 'kdd'",
     "output_type": "error",
     "traceback": [
      "\u001b[1;31m---------------------------------------------------------------------------\u001b[0m",
      "\u001b[1;31mValueError\u001b[0m                                Traceback (most recent call last)",
      "Cell \u001b[1;32mIn[6], line 1\u001b[0m\n\u001b[1;32m----> 1\u001b[0m a \u001b[38;5;241m=\u001b[39m \u001b[38;5;28mint\u001b[39m(\u001b[38;5;28minput\u001b[39m(\u001b[38;5;124m'\u001b[39m\u001b[38;5;124mwrite int number only\u001b[39m\u001b[38;5;124m'\u001b[39m))\n",
      "\u001b[1;31mValueError\u001b[0m: invalid literal for int() with base 10: 'kdd'"
     ]
    }
   ],
   "source": [
    "a = int(input('write int number only'))"
   ]
  },
  {
   "cell_type": "code",
   "execution_count": 7,
   "id": "9303db81-6601-476d-83c2-462344f73897",
   "metadata": {},
   "outputs": [
    {
     "name": "stdout",
     "output_type": "stream",
     "text": [
      "hello\n"
     ]
    }
   ],
   "source": [
    "print('hello')"
   ]
  },
  {
   "cell_type": "code",
   "execution_count": 10,
   "id": "b0fe57de-6a02-458d-a230-40189a61cd7e",
   "metadata": {},
   "outputs": [
    {
     "name": "stdin",
     "output_type": "stream",
     "text": [
      "write int number only jftbh\n"
     ]
    },
    {
     "name": "stdout",
     "output_type": "stream",
     "text": [
      "there is a error ay try block of a input whoch should be int only\n"
     ]
    }
   ],
   "source": [
    "try:\n",
    "    a = int(input('write int number only'))\n",
    "except:\n",
    "    print('there is a error ay try block of a input whoch should be int only')"
   ]
  },
  {
   "cell_type": "code",
   "execution_count": 11,
   "id": "d378f159-e91b-4d40-9075-3827b30af8ef",
   "metadata": {},
   "outputs": [
    {
     "name": "stdin",
     "output_type": "stream",
     "text": [
      "write int number only hhbhbh\n"
     ]
    },
    {
     "name": "stdout",
     "output_type": "stream",
     "text": [
      "invalid literal for int() with base 10: 'hhbhbh'\n"
     ]
    }
   ],
   "source": [
    "try:\n",
    "    a = int(input('write int number only'))\n",
    "except Exception as e:\n",
    "    print(e)"
   ]
  },
  {
   "cell_type": "code",
   "execution_count": 24,
   "id": "a78ee96e-77fd-4792-a372-111ece2c9770",
   "metadata": {},
   "outputs": [
    {
     "name": "stdin",
     "output_type": "stream",
     "text": [
      " 40\n",
      " 20\n"
     ]
    }
   ],
   "source": [
    "try:\n",
    "    a = int(input())\n",
    "    b = int(input())\n",
    "    result = a/b\n",
    "except Exception as error:\n",
    "    print(error)\n",
    "    "
   ]
  },
  {
   "cell_type": "code",
   "execution_count": 25,
   "id": "2d7f2814-4754-4b0f-a499-2704542b96d7",
   "metadata": {},
   "outputs": [
    {
     "data": {
      "text/plain": [
       "2.0"
      ]
     },
     "execution_count": 25,
     "metadata": {},
     "output_type": "execute_result"
    }
   ],
   "source": [
    "result"
   ]
  },
  {
   "cell_type": "code",
   "execution_count": 19,
   "id": "94276290-1722-4ef3-9a61-561b12ebe17b",
   "metadata": {},
   "outputs": [
    {
     "name": "stdin",
     "output_type": "stream",
     "text": [
      " fhgdf\n"
     ]
    },
    {
     "name": "stdout",
     "output_type": "stream",
     "text": [
      "invalid literal for int() with base 10: 'fhgdf'\n",
      "problem in try block while taking input\n"
     ]
    }
   ],
   "source": [
    "try:\n",
    "    a = int(input())\n",
    "    b = int(input())\n",
    "    result = a/b\n",
    "except Exception as error:\n",
    "    print(error)\n",
    "    print('problem in try block while taking input')"
   ]
  },
  {
   "cell_type": "code",
   "execution_count": 26,
   "id": "07c3bcdd-7cc9-495e-a2e8-7034df4b89af",
   "metadata": {},
   "outputs": [],
   "source": [
    "def test(a,b):\n",
    "    try:\n",
    "        print(a+b)\n",
    "    except Exception as e:\n",
    "        print(e)"
   ]
  },
  {
   "cell_type": "code",
   "execution_count": 27,
   "id": "4da8e5d4-c2e1-43c6-9c05-855c968d5daa",
   "metadata": {},
   "outputs": [
    {
     "name": "stdout",
     "output_type": "stream",
     "text": [
      "unsupported operand type(s) for +: 'int' and 'str'\n"
     ]
    }
   ],
   "source": [
    "test(1,'Hello')"
   ]
  },
  {
   "cell_type": "code",
   "execution_count": 28,
   "id": "15497de8-d980-4a59-b147-31a5f5aa1c52",
   "metadata": {},
   "outputs": [
    {
     "name": "stdout",
     "output_type": "stream",
     "text": [
      "30\n"
     ]
    }
   ],
   "source": [
    "test(10,20)"
   ]
  },
  {
   "cell_type": "code",
   "execution_count": 29,
   "id": "b2a4813e-5f05-4f7a-9532-d2d28f166aed",
   "metadata": {},
   "outputs": [],
   "source": [
    "def test2(a,b):\n",
    "    print(a+b)"
   ]
  },
  {
   "cell_type": "code",
   "execution_count": 30,
   "id": "5113b4d6-b526-41b4-a21d-3e34fc267263",
   "metadata": {},
   "outputs": [
    {
     "name": "stdout",
     "output_type": "stream",
     "text": [
      "70\n"
     ]
    }
   ],
   "source": [
    "test2(40,30)"
   ]
  },
  {
   "cell_type": "code",
   "execution_count": 31,
   "id": "dd9444e1-fed0-47d3-aa59-31a632ca452d",
   "metadata": {},
   "outputs": [
    {
     "name": "stdin",
     "output_type": "stream",
     "text": [
      " 10\n",
      " 20\n"
     ]
    },
    {
     "name": "stdout",
     "output_type": "stream",
     "text": [
      "30\n",
      "Project Completed\n"
     ]
    }
   ],
   "source": [
    "try:\n",
    "    a = int(input())\n",
    "    b = int(input())\n",
    "    print(a + b)\n",
    "except Exception as e:\n",
    "    print(e)\n",
    "finally:\n",
    "    print('Project Completed')"
   ]
  },
  {
   "cell_type": "code",
   "execution_count": 32,
   "id": "16a8281f-3fee-45c0-adf9-65d7acc0bbdf",
   "metadata": {},
   "outputs": [
    {
     "name": "stdin",
     "output_type": "stream",
     "text": [
      " jhgyfy\n"
     ]
    },
    {
     "name": "stdout",
     "output_type": "stream",
     "text": [
      "invalid literal for int() with base 10: 'jhgyfy'\n",
      "Project Completed\n"
     ]
    }
   ],
   "source": [
    "try:\n",
    "    a = int(input())\n",
    "    b = int(input())\n",
    "    print(a + b)\n",
    "except Exception as e:\n",
    "    print(e)\n",
    "finally:\n",
    "    print('Project Completed')"
   ]
  },
  {
   "cell_type": "code",
   "execution_count": 36,
   "id": "23fc61c2-b9f0-45de-a47e-a2a5653abc91",
   "metadata": {},
   "outputs": [
    {
     "name": "stdout",
     "output_type": "stream",
     "text": [
      "Indian-origin religions Hinduism, Jainism, Buddhism, and Sikhism,[4] are all based on the concepts of dharma and karma.\n",
      "\n",
      "Ahimsa, the philosophy of nonviolence, is an important aspect of native Indian faiths whose most well-known proponent was Shri Mahatma Gandhi, who used civil disobedience to unite India during the Indian independence movement\n",
      " – \n",
      ".\n",
      "File closed\n"
     ]
    }
   ],
   "source": [
    "try:\n",
    "    f = open('test2.csv', mode='r+')\n",
    "    print(f.read())\n",
    "except Exception as e:\n",
    "    print(e)\n",
    "finally:\n",
    "    f.close()\n",
    "    print('File closed')\n"
   ]
  },
  {
   "cell_type": "code",
   "execution_count": 37,
   "id": "5a7a3015-0743-414a-b708-5a4bf3acd2ea",
   "metadata": {},
   "outputs": [
    {
     "name": "stdout",
     "output_type": "stream",
     "text": [
      "not readable\n",
      "File closed\n"
     ]
    }
   ],
   "source": [
    "try:\n",
    "    f = open('test.csv', mode='w')\n",
    "    print(f.read())\n",
    "except Exception as e:\n",
    "    print(e)\n",
    "finally:\n",
    "    f.close()\n",
    "    print('File closed')"
   ]
  },
  {
   "cell_type": "code",
   "execution_count": 38,
   "id": "9f7baa06-cf3b-4a40-890c-7c5cdd721a92",
   "metadata": {},
   "outputs": [],
   "source": [
    "# Try to create 5 functions using exception handling"
   ]
  },
  {
   "cell_type": "code",
   "execution_count": 39,
   "id": "356b2cbf-dd5b-488f-86c3-6af6a22671f0",
   "metadata": {},
   "outputs": [],
   "source": [
    "def add(a,b):\n",
    "    try:\n",
    "        print(a+b)\n",
    "    except Exception as e:\n",
    "        print(e)\n",
    "    finally:\n",
    "        print('Function/ Project Closed')\n"
   ]
  },
  {
   "cell_type": "code",
   "execution_count": 40,
   "id": "b3439b81-83de-4aac-8988-ff117b549d34",
   "metadata": {},
   "outputs": [
    {
     "name": "stdout",
     "output_type": "stream",
     "text": [
      "60\n",
      "Function/ Project Closed\n"
     ]
    }
   ],
   "source": [
    "add(10,50)"
   ]
  },
  {
   "cell_type": "code",
   "execution_count": 41,
   "id": "10e3e856-c472-4a98-acc0-a4eda6fc3e6d",
   "metadata": {},
   "outputs": [
    {
     "name": "stdout",
     "output_type": "stream",
     "text": [
      "unsupported operand type(s) for +: 'int' and 'str'\n",
      "Function/ Project Closed\n"
     ]
    }
   ],
   "source": [
    "add(10,'hii')"
   ]
  },
  {
   "cell_type": "code",
   "execution_count": 42,
   "id": "83152ad3-e313-4540-bc4d-e0eff6d2aba5",
   "metadata": {},
   "outputs": [],
   "source": [
    "def test4(*args):\n",
    "    try:\n",
    "        for i in args:\n",
    "                print(z)\n",
    "    except Exception as e:\n",
    "        print(e)"
   ]
  },
  {
   "cell_type": "code",
   "execution_count": 43,
   "id": "32f607dd-4a41-4cbe-be22-e85e60d7ddd5",
   "metadata": {},
   "outputs": [
    {
     "name": "stdout",
     "output_type": "stream",
     "text": [
      "name 'z' is not defined\n"
     ]
    }
   ],
   "source": [
    "test4(10,20,30,40)"
   ]
  },
  {
   "cell_type": "code",
   "execution_count": null,
   "id": "82fc2270-4d90-4c5a-a2a1-e2cce80ed744",
   "metadata": {},
   "outputs": [],
   "source": []
  }
 ],
 "metadata": {
  "kernelspec": {
   "display_name": "Python 3 (ipykernel)",
   "language": "python",
   "name": "python3"
  },
  "language_info": {
   "codemirror_mode": {
    "name": "ipython",
    "version": 3
   },
   "file_extension": ".py",
   "mimetype": "text/x-python",
   "name": "python",
   "nbconvert_exporter": "python",
   "pygments_lexer": "ipython3",
   "version": "3.12.7"
  }
 },
 "nbformat": 4,
 "nbformat_minor": 5
}
