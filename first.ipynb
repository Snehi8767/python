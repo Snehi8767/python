{
 "cells": [
  {
   "cell_type": "markdown",
   "id": "5113e02e-63fb-4448-af90-2b86e1f0bc40",
   "metadata": {},
   "source": [
    "# data Types "
   ]
  },
  {
   "cell_type": "markdown",
   "id": "96e881fc-d19b-4a1c-982e-fafef1dff7fc",
   "metadata": {},
   "source": [
    "There are differnt types of data types. like int,string, boolean."
   ]
  },
  {
   "cell_type": "markdown",
   "id": "236932fd-8bab-42f4-af33-a7e5fbf2ec45",
   "metadata": {},
   "source": [
    "# 1.Integer"
   ]
  },
  {
   "cell_type": "markdown",
   "id": "22b1dc01-e102-4de7-984a-22bbec24e2b7",
   "metadata": {},
   "source": [
    "A whole number of or complete number."
   ]
  },
  {
   "cell_type": "code",
   "execution_count": 4,
   "id": "aeb09037-695c-4803-84c0-923a9c07b3b8",
   "metadata": {},
   "outputs": [
    {
     "data": {
      "text/plain": [
       "int"
      ]
     },
     "execution_count": 4,
     "metadata": {},
     "output_type": "execute_result"
    }
   ],
   "source": [
    "type(5)"
   ]
  },
  {
   "cell_type": "markdown",
   "id": "7204901d-6427-46d9-b1ea-a066802ef093",
   "metadata": {},
   "source": [
    "# 2.Float"
   ]
  },
  {
   "cell_type": "markdown",
   "id": "89089985-ba0b-46a5-ba7b-be793738bb3f",
   "metadata": {},
   "source": [
    "It's a decimal format"
   ]
  },
  {
   "cell_type": "raw",
   "id": "60f45444-5ec5-4033-a094-db748524c577",
   "metadata": {},
   "source": [
    "Height\n",
    "6.3,4.3"
   ]
  },
  {
   "cell_type": "code",
   "execution_count": 5,
   "id": "2cf6795b-0910-455c-98cf-4054e5fd16f1",
   "metadata": {},
   "outputs": [
    {
     "data": {
      "text/plain": [
       "float"
      ]
     },
     "execution_count": 5,
     "metadata": {},
     "output_type": "execute_result"
    }
   ],
   "source": [
    "type(6.4)"
   ]
  },
  {
   "cell_type": "markdown",
   "id": "f7eeb0c4-794a-4892-a120-2188ebc923ce",
   "metadata": {},
   "source": [
    "# 3. Complex"
   ]
  },
  {
   "cell_type": "markdown",
   "id": "9688bf4c-367e-4653-a10a-d6014a33f08c",
   "metadata": {},
   "source": [
    "vector values"
   ]
  },
  {
   "cell_type": "code",
   "execution_count": 7,
   "id": "dd6bf594-bb5d-4062-b9f5-03853b6c9cb6",
   "metadata": {},
   "outputs": [
    {
     "data": {
      "text/plain": [
       "complex"
      ]
     },
     "execution_count": 7,
     "metadata": {},
     "output_type": "execute_result"
    }
   ],
   "source": [
    "type(10+5j)"
   ]
  },
  {
   "cell_type": "markdown",
   "id": "b17bad9d-442f-4ab7-9c62-b80806d7468f",
   "metadata": {},
   "source": [
    "# 4.String"
   ]
  },
  {
   "cell_type": "markdown",
   "id": "5141d479-d4cf-491d-befd-57c04c24b345",
   "metadata": {},
   "source": [
    "Word, character, sentence"
   ]
  },
  {
   "cell_type": "code",
   "execution_count": 8,
   "id": "983900e8-1ae4-4d7f-bf9f-467d31ee5195",
   "metadata": {},
   "outputs": [
    {
     "data": {
      "text/plain": [
       "'Hello Python'"
      ]
     },
     "execution_count": 8,
     "metadata": {},
     "output_type": "execute_result"
    }
   ],
   "source": [
    "'Hello Python'"
   ]
  },
  {
   "cell_type": "code",
   "execution_count": 9,
   "id": "3fdbe60e-ce4d-43f6-96e9-0264b46d1c91",
   "metadata": {},
   "outputs": [
    {
     "data": {
      "text/plain": [
       "'Today we are learing data types in python.'"
      ]
     },
     "execution_count": 9,
     "metadata": {},
     "output_type": "execute_result"
    }
   ],
   "source": [
    "\"Today we are learing data types in python.\""
   ]
  },
  {
   "cell_type": "code",
   "execution_count": 10,
   "id": "0eb369ce-7aab-49c3-95e3-d89410665a3b",
   "metadata": {},
   "outputs": [
    {
     "name": "stdout",
     "output_type": "stream",
     "text": [
      "Today is good day. I hope all day is just like today.\n"
     ]
    }
   ],
   "source": [
    "print('''Today is good day. I hope all day is just like today.''')"
   ]
  },
  {
   "cell_type": "markdown",
   "id": "20612973-f49d-4eb0-ac81-3e68acd3d0ef",
   "metadata": {},
   "source": [
    "# 5.Boolean Values"
   ]
  },
  {
   "cell_type": "markdown",
   "id": "96855195-a9c8-4b8b-820e-71890be99b66",
   "metadata": {},
   "source": [
    "values like true and false."
   ]
  },
  {
   "cell_type": "code",
   "execution_count": 12,
   "id": "a6178395-dc9b-4bf7-8b53-6d2c09f8140d",
   "metadata": {},
   "outputs": [
    {
     "data": {
      "text/plain": [
       "True"
      ]
     },
     "execution_count": 12,
     "metadata": {},
     "output_type": "execute_result"
    }
   ],
   "source": [
    "10<60"
   ]
  },
  {
   "cell_type": "code",
   "execution_count": 13,
   "id": "2b53c85b-3f05-47fd-a47b-8592bef55e7f",
   "metadata": {},
   "outputs": [
    {
     "data": {
      "text/plain": [
       "True"
      ]
     },
     "execution_count": 13,
     "metadata": {},
     "output_type": "execute_result"
    }
   ],
   "source": [
    "90>30"
   ]
  },
  {
   "cell_type": "code",
   "execution_count": 14,
   "id": "a29b0373-874e-45ba-8fa6-6ce5547696a6",
   "metadata": {},
   "outputs": [
    {
     "data": {
      "text/plain": [
       "False"
      ]
     },
     "execution_count": 14,
     "metadata": {},
     "output_type": "execute_result"
    }
   ],
   "source": [
    "10>80"
   ]
  },
  {
   "cell_type": "code",
   "execution_count": 1,
   "id": "912f1bf9-6bfe-40ae-b2db-448cdb92eea4",
   "metadata": {},
   "outputs": [
    {
     "name": "stdout",
     "output_type": "stream",
     "text": [
      "10\n"
     ]
    }
   ],
   "source": [
    "print(10)"
   ]
  },
  {
   "cell_type": "markdown",
   "id": "431ba6d3-9836-4991-a36a-07ae5a9078f3",
   "metadata": {},
   "source": [
    "# variable"
   ]
  },
  {
   "cell_type": "code",
   "execution_count": 2,
   "id": "73e022df-10e5-4037-af85-bf0570a417b4",
   "metadata": {},
   "outputs": [],
   "source": [
    "a = 10"
   ]
  },
  {
   "cell_type": "code",
   "execution_count": 3,
   "id": "0d3367ea-41e3-434c-ae54-fecea30aaa97",
   "metadata": {},
   "outputs": [
    {
     "name": "stdout",
     "output_type": "stream",
     "text": [
      "10\n"
     ]
    }
   ],
   "source": [
    "print(a)"
   ]
  },
  {
   "cell_type": "code",
   "execution_count": 4,
   "id": "9b847ccb-8139-499c-b69f-de3c630bc957",
   "metadata": {},
   "outputs": [],
   "source": [
    "first_name = 'sneha'"
   ]
  },
  {
   "cell_type": "code",
   "execution_count": 5,
   "id": "24160a9a-2a97-4efc-a819-9be26c15e97e",
   "metadata": {},
   "outputs": [
    {
     "name": "stdout",
     "output_type": "stream",
     "text": [
      "sneha\n"
     ]
    }
   ],
   "source": [
    "print(first_name)"
   ]
  },
  {
   "cell_type": "markdown",
   "id": "d2967781-c874-4dc2-a1e9-e40a6b974d1b",
   "metadata": {},
   "source": [
    "# Operation in python"
   ]
  },
  {
   "cell_type": "code",
   "execution_count": 6,
   "id": "a8e96295-7fe7-4444-bb52-1255bcb31e97",
   "metadata": {},
   "outputs": [],
   "source": [
    "a = 5\n",
    "b = 10"
   ]
  },
  {
   "cell_type": "code",
   "execution_count": 7,
   "id": "106cb6dc-efc1-4acf-b6b7-cc3c8c9de5cd",
   "metadata": {},
   "outputs": [
    {
     "name": "stdout",
     "output_type": "stream",
     "text": [
      "15\n"
     ]
    }
   ],
   "source": [
    "print(a+b)"
   ]
  },
  {
   "cell_type": "code",
   "execution_count": 8,
   "id": "6db9f191-8609-46eb-9ff2-59a189eca601",
   "metadata": {},
   "outputs": [
    {
     "name": "stdout",
     "output_type": "stream",
     "text": [
      "-5\n"
     ]
    }
   ],
   "source": [
    "print(a-b)"
   ]
  },
  {
   "cell_type": "code",
   "execution_count": 9,
   "id": "424119dd-f2cc-4f35-a783-ab676e2773db",
   "metadata": {},
   "outputs": [
    {
     "name": "stdout",
     "output_type": "stream",
     "text": [
      "50\n"
     ]
    }
   ],
   "source": [
    "print(a * b)"
   ]
  },
  {
   "cell_type": "code",
   "execution_count": 10,
   "id": "8ee9b0fd-f176-4485-9cda-c1f1c36c9aa3",
   "metadata": {},
   "outputs": [
    {
     "name": "stdout",
     "output_type": "stream",
     "text": [
      "0.5\n"
     ]
    }
   ],
   "source": [
    "print(a / b)"
   ]
  },
  {
   "cell_type": "code",
   "execution_count": 11,
   "id": "d5f3fab5-dd15-4eb9-a03a-14162b433902",
   "metadata": {},
   "outputs": [
    {
     "name": "stdout",
     "output_type": "stream",
     "text": [
      "5\n"
     ]
    }
   ],
   "source": [
    "print(a % b)"
   ]
  },
  {
   "cell_type": "code",
   "execution_count": 12,
   "id": "c8fc03cf-fceb-493b-91bb-4d9410afebcf",
   "metadata": {},
   "outputs": [],
   "source": [
    "c = a + b "
   ]
  },
  {
   "cell_type": "code",
   "execution_count": 13,
   "id": "845a4ddd-935c-41f0-be45-bf868ec1d9ae",
   "metadata": {},
   "outputs": [
    {
     "name": "stdout",
     "output_type": "stream",
     "text": [
      "15\n"
     ]
    }
   ],
   "source": [
    "print(c)"
   ]
  },
  {
   "cell_type": "code",
   "execution_count": 14,
   "id": "489d61d1-0330-42e9-bc4c-bf84955ec311",
   "metadata": {},
   "outputs": [],
   "source": [
    "name = 'hello'"
   ]
  },
  {
   "cell_type": "code",
   "execution_count": 15,
   "id": "c7c211b8-5d5c-4206-9b39-a2a3279fbcef",
   "metadata": {},
   "outputs": [
    {
     "name": "stdout",
     "output_type": "stream",
     "text": [
      "hello\n"
     ]
    }
   ],
   "source": [
    "print(name)"
   ]
  },
  {
   "cell_type": "code",
   "execution_count": 16,
   "id": "57284eaf-1604-421a-b083-6722b4b90dbb",
   "metadata": {},
   "outputs": [],
   "source": [
    "first_name = 'sneha'\n",
    "last_name = 'chaudhari'"
   ]
  },
  {
   "cell_type": "code",
   "execution_count": 17,
   "id": "f293a0ef-e8d6-4aab-8ad0-b82b3fe50514",
   "metadata": {},
   "outputs": [
    {
     "name": "stdout",
     "output_type": "stream",
     "text": [
      "snehachaudhari\n"
     ]
    }
   ],
   "source": [
    "print(first_name + last_name) # string + string"
   ]
  },
  {
   "cell_type": "code",
   "execution_count": 18,
   "id": "9931066d-dd57-484a-9576-71d2f5dd261f",
   "metadata": {},
   "outputs": [
    {
     "data": {
      "text/plain": [
       "15.5"
      ]
     },
     "execution_count": 18,
     "metadata": {},
     "output_type": "execute_result"
    }
   ],
   "source": [
    "10 + 5.5 # int + float"
   ]
  },
  {
   "cell_type": "code",
   "execution_count": 19,
   "id": "95235d74-eefd-4139-89ef-3c7cb2be5b3d",
   "metadata": {},
   "outputs": [
    {
     "name": "stdout",
     "output_type": "stream",
     "text": [
      "sneha chaudhari\n"
     ]
    }
   ],
   "source": [
    "print(first_name + ' ' + last_name)"
   ]
  },
  {
   "cell_type": "code",
   "execution_count": 20,
   "id": "2503a0c7-6edd-4b7a-acb0-44c275543a4a",
   "metadata": {},
   "outputs": [
    {
     "name": "stdout",
     "output_type": "stream",
     "text": [
      "snehasnehasneha\n"
     ]
    }
   ],
   "source": [
    "print(first_name * 3)"
   ]
  },
  {
   "cell_type": "code",
   "execution_count": 21,
   "id": "a44ab254-1a58-4472-84a1-0fed6d71737c",
   "metadata": {},
   "outputs": [
    {
     "name": "stdout",
     "output_type": "stream",
     "text": [
      "________________________________________________________________________________\n"
     ]
    }
   ],
   "source": [
    "print('_' * 80)"
   ]
  },
  {
   "cell_type": "code",
   "execution_count": 22,
   "id": "53871d5d-8f60-4849-8cdc-2f0c6d8f5c60",
   "metadata": {},
   "outputs": [
    {
     "ename": "TypeError",
     "evalue": "can only concatenate str (not \"float\") to str",
     "output_type": "error",
     "traceback": [
      "\u001b[1;31m---------------------------------------------------------------------------\u001b[0m",
      "\u001b[1;31mTypeError\u001b[0m                                 Traceback (most recent call last)",
      "Cell \u001b[1;32mIn[22], line 1\u001b[0m\n\u001b[1;32m----> 1\u001b[0m \u001b[38;5;28mprint\u001b[39m(first_name \u001b[38;5;241m+\u001b[39m \u001b[38;5;241m6.7\u001b[39m)\n",
      "\u001b[1;31mTypeError\u001b[0m: can only concatenate str (not \"float\") to str"
     ]
    }
   ],
   "source": [
    "print(first_name + 6.7) # incorrect"
   ]
  },
  {
   "cell_type": "code",
   "execution_count": 23,
   "id": "8f7897e8-b044-4b3f-a4ee-4f7c3a275ae7",
   "metadata": {},
   "outputs": [],
   "source": [
    "marks = 70"
   ]
  },
  {
   "cell_type": "code",
   "execution_count": 27,
   "id": "ac552f3c-8f2b-4f8d-bfb0-b55212559b0f",
   "metadata": {},
   "outputs": [
    {
     "name": "stdout",
     "output_type": "stream",
     "text": [
      "you got 70\n"
     ]
    }
   ],
   "source": [
    "print('you got',marks)"
   ]
  },
  {
   "cell_type": "code",
   "execution_count": 28,
   "id": "11c605c8-66d9-479c-bd4d-59599d58faff",
   "metadata": {},
   "outputs": [],
   "source": [
    "age = 23"
   ]
  },
  {
   "cell_type": "code",
   "execution_count": 29,
   "id": "7a28eabd-f97d-49d2-ab08-29844e69e047",
   "metadata": {},
   "outputs": [
    {
     "name": "stdin",
     "output_type": "stream",
     "text": [
      "write your first name sneha\n",
      "write your last name chaudhari\n"
     ]
    }
   ],
   "source": [
    "first_name = input('write your first name')\n",
    "last_name = input('write your last name')"
   ]
  },
  {
   "cell_type": "code",
   "execution_count": 30,
   "id": "f7473dd0-a8d7-4033-b29d-85233f8a314d",
   "metadata": {},
   "outputs": [
    {
     "name": "stdin",
     "output_type": "stream",
     "text": [
      "enter your age 23\n"
     ]
    }
   ],
   "source": [
    "age = input('enter your age')"
   ]
  },
  {
   "cell_type": "code",
   "execution_count": 31,
   "id": "3aa2a0f6-dd2e-436d-af5c-a0a6584faba7",
   "metadata": {},
   "outputs": [
    {
     "data": {
      "text/plain": [
       "str"
      ]
     },
     "execution_count": 31,
     "metadata": {},
     "output_type": "execute_result"
    }
   ],
   "source": [
    "type(age)"
   ]
  },
  {
   "cell_type": "code",
   "execution_count": 32,
   "id": "914a88fb-cef2-46f0-a062-42df022c1331",
   "metadata": {},
   "outputs": [
    {
     "name": "stdin",
     "output_type": "stream",
     "text": [
      "Enter your age 45\n"
     ]
    }
   ],
   "source": [
    "age = int(input('Enter your age'))"
   ]
  },
  {
   "cell_type": "code",
   "execution_count": 40,
   "id": "d72fbbde-318e-4926-aac3-6eda4d6b485b",
   "metadata": {},
   "outputs": [
    {
     "data": {
      "text/plain": [
       "int"
      ]
     },
     "execution_count": 40,
     "metadata": {},
     "output_type": "execute_result"
    }
   ],
   "source": [
    "type(age)"
   ]
  },
  {
   "cell_type": "code",
   "execution_count": 41,
   "id": "9e1ef8c6-9dd1-49a7-a504-4bce10f992a9",
   "metadata": {},
   "outputs": [
    {
     "name": "stdout",
     "output_type": "stream",
     "text": [
      "your good name is sneha and your age is  45\n"
     ]
    }
   ],
   "source": [
    "print('your good name is',first_name , 'and your age is ',age)"
   ]
  },
  {
   "cell_type": "code",
   "execution_count": 34,
   "id": "3e90a845-54ec-42b9-a9ad-72f76e553faa",
   "metadata": {},
   "outputs": [
    {
     "name": "stdin",
     "output_type": "stream",
     "text": [
      "Enter your weight 26\n"
     ]
    }
   ],
   "source": [
    "weight = float(input('Enter your weight'))"
   ]
  },
  {
   "cell_type": "code",
   "execution_count": 35,
   "id": "6463249b-8c2b-4659-b95a-47b139d147ba",
   "metadata": {},
   "outputs": [
    {
     "name": "stdout",
     "output_type": "stream",
     "text": [
      "26.0\n"
     ]
    }
   ],
   "source": [
    "print(weight)"
   ]
  },
  {
   "cell_type": "code",
   "execution_count": 36,
   "id": "64634f6b-c218-4d24-aeb9-02f68e89e580",
   "metadata": {},
   "outputs": [
    {
     "data": {
      "text/plain": [
       "float"
      ]
     },
     "execution_count": 36,
     "metadata": {},
     "output_type": "execute_result"
    }
   ],
   "source": [
    "type(weight)"
   ]
  },
  {
   "cell_type": "code",
   "execution_count": 39,
   "id": "cf2dc5f3-b9d5-40fd-892d-6ff4bbd158cb",
   "metadata": {},
   "outputs": [
    {
     "name": "stdin",
     "output_type": "stream",
     "text": [
      "Enter your school name bigce collage of engineering solaur,\n",
      "Enter your standard number 10\n"
     ]
    },
    {
     "name": "stdout",
     "output_type": "stream",
     "text": [
      "your school name is bigce collage of engineering solaur, And your standard is 10 class\n"
     ]
    }
   ],
   "source": [
    "school_name = input('Enter your school name')\n",
    "standard = int(input('Enter your standard number'))\n",
    "print('your school name is', school_name,'And your standard is',standard,'class')"
   ]
  },
  {
   "cell_type": "code",
   "execution_count": 2,
   "id": "af18dcc8-d0fe-4e17-8fe9-c7624cebeb9b",
   "metadata": {},
   "outputs": [
    {
     "name": "stdout",
     "output_type": "stream",
     "text": [
      "Enter your name:\n"
     ]
    },
    {
     "name": "stdin",
     "output_type": "stream",
     "text": [
      " sneha\n"
     ]
    },
    {
     "name": "stdout",
     "output_type": "stream",
     "text": [
      "hello,sneha\n"
     ]
    }
   ],
   "source": [
    "print('Enter your name:')\n",
    "x= input()\n",
    "print('hello,' + x)"
   ]
  },
  {
   "cell_type": "code",
   "execution_count": null,
   "id": "768753c1-1e0e-48a4-b26e-39eacc0bee87",
   "metadata": {},
   "outputs": [],
   "source": []
  },
  {
   "cell_type": "code",
   "execution_count": null,
   "id": "20c46320-cc82-421c-88fc-264f4597326f",
   "metadata": {},
   "outputs": [],
   "source": []
  }
 ],
 "metadata": {
  "kernelspec": {
   "display_name": "Python 3 (ipykernel)",
   "language": "python",
   "name": "python3"
  },
  "language_info": {
   "codemirror_mode": {
    "name": "ipython",
    "version": 3
   },
   "file_extension": ".py",
   "mimetype": "text/x-python",
   "name": "python",
   "nbconvert_exporter": "python",
   "pygments_lexer": "ipython3",
   "version": "3.12.7"
  }
 },
 "nbformat": 4,
 "nbformat_minor": 5
}
