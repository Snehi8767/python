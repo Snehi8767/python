{
 "cells": [
  {
   "cell_type": "code",
   "execution_count": 1,
   "id": "12454ae2-f6d4-45d1-a3b9-79a83354bc8a",
   "metadata": {},
   "outputs": [],
   "source": [
    "d = ['A', 'B', 'C','D']"
   ]
  },
  {
   "cell_type": "code",
   "execution_count": 2,
   "id": "6b0d6dbd-faab-44d4-843d-3e225b190330",
   "metadata": {},
   "outputs": [
    {
     "data": {
      "text/plain": [
       "'B'"
      ]
     },
     "execution_count": 2,
     "metadata": {},
     "output_type": "execute_result"
    }
   ],
   "source": [
    "d[1]"
   ]
  },
  {
   "cell_type": "code",
   "execution_count": 4,
   "id": "a8dabe7c-a1ec-4769-9381-44f6ad63a8e8",
   "metadata": {},
   "outputs": [
    {
     "data": {
      "text/plain": [
       "['A', 'B', 'C', 'D']"
      ]
     },
     "execution_count": 4,
     "metadata": {},
     "output_type": "execute_result"
    }
   ],
   "source": [
    "d"
   ]
  },
  {
   "cell_type": "code",
   "execution_count": 4,
   "id": "81b5be0e-59af-49de-9945-d000e7c36386",
   "metadata": {},
   "outputs": [
    {
     "data": {
      "text/plain": [
       "['A', 'B', 'C']"
      ]
     },
     "execution_count": 4,
     "metadata": {},
     "output_type": "execute_result"
    }
   ],
   "source": [
    "d[0:3]"
   ]
  },
  {
   "cell_type": "code",
   "execution_count": 5,
   "id": "0ff96cd2-af7d-4fc9-9f87-2ff3bcf4486f",
   "metadata": {},
   "outputs": [
    {
     "data": {
      "text/plain": [
       "'B'"
      ]
     },
     "execution_count": 5,
     "metadata": {},
     "output_type": "execute_result"
    }
   ],
   "source": [
    "d[1]"
   ]
  },
  {
   "cell_type": "code",
   "execution_count": 6,
   "id": "24056b4f-bd35-484b-b492-4c9de4b309a3",
   "metadata": {},
   "outputs": [],
   "source": [
    "d[1] = 10"
   ]
  },
  {
   "cell_type": "code",
   "execution_count": 7,
   "id": "e1fc3c3b-fd70-46c0-a73c-4c0cd9ec546b",
   "metadata": {},
   "outputs": [
    {
     "data": {
      "text/plain": [
       "['A', 10, 'C', 'D']"
      ]
     },
     "execution_count": 7,
     "metadata": {},
     "output_type": "execute_result"
    }
   ],
   "source": [
    "d"
   ]
  },
  {
   "cell_type": "code",
   "execution_count": 8,
   "id": "efb1a267-ea96-4060-a055-f5cd2810c51a",
   "metadata": {},
   "outputs": [],
   "source": [
    "s = {'A':20,'B':30,'C':40}"
   ]
  },
  {
   "cell_type": "code",
   "execution_count": 10,
   "id": "f3c4add5-459f-4d72-8d7b-7160ccfa5937",
   "metadata": {},
   "outputs": [
    {
     "data": {
      "text/plain": [
       "40"
      ]
     },
     "execution_count": 10,
     "metadata": {},
     "output_type": "execute_result"
    }
   ],
   "source": [
    "s['C']"
   ]
  },
  {
   "cell_type": "code",
   "execution_count": 13,
   "id": "ca279b04-2e90-4382-9936-828420122ec8",
   "metadata": {},
   "outputs": [],
   "source": [
    "s['C'] = 100"
   ]
  },
  {
   "cell_type": "code",
   "execution_count": 14,
   "id": "d4b88841-b3dd-4eb7-82f6-f581e765efcf",
   "metadata": {},
   "outputs": [
    {
     "data": {
      "text/plain": [
       "{'A': 20, 'B': 30, 'C': 100}"
      ]
     },
     "execution_count": 14,
     "metadata": {},
     "output_type": "execute_result"
    }
   ],
   "source": [
    "s"
   ]
  },
  {
   "cell_type": "code",
   "execution_count": 15,
   "id": "be65a0b9-c763-4b78-bd2d-d548051a1d31",
   "metadata": {},
   "outputs": [],
   "source": [
    "s['D'] =20"
   ]
  },
  {
   "cell_type": "code",
   "execution_count": 16,
   "id": "99f74f07-e5cc-489a-add5-cf6878157c12",
   "metadata": {},
   "outputs": [
    {
     "data": {
      "text/plain": [
       "{'A': 20, 'B': 30, 'C': 100, 'D': 20}"
      ]
     },
     "execution_count": 16,
     "metadata": {},
     "output_type": "execute_result"
    }
   ],
   "source": [
    "s"
   ]
  },
  {
   "cell_type": "code",
   "execution_count": 17,
   "id": "8bc23128-d36a-4b2c-9cca-07c2dba1929a",
   "metadata": {},
   "outputs": [],
   "source": [
    "age = 20"
   ]
  },
  {
   "cell_type": "code",
   "execution_count": 18,
   "id": "ffd8865e-8b2a-47c1-89e7-fa6bfae481c2",
   "metadata": {},
   "outputs": [
    {
     "name": "stdout",
     "output_type": "stream",
     "text": [
      "adult\n"
     ]
    }
   ],
   "source": [
    "if age > 18:\n",
    "    print('adult')\n",
    "else:\n",
    "    print('student')"
   ]
  },
  {
   "cell_type": "code",
   "execution_count": 19,
   "id": "ed59048c-69bd-40a0-852c-0ab5f93ee23d",
   "metadata": {},
   "outputs": [],
   "source": [
    "l = [1,2,3,4,5,6]"
   ]
  },
  {
   "cell_type": "code",
   "execution_count": 20,
   "id": "03481bc5-47a8-4d7e-8d95-06e75d1ddaa5",
   "metadata": {},
   "outputs": [
    {
     "name": "stdout",
     "output_type": "stream",
     "text": [
      "1\n",
      "2\n",
      "3\n",
      "4\n",
      "5\n",
      "6\n"
     ]
    }
   ],
   "source": [
    "for i in l:\n",
    "    print(i)"
   ]
  },
  {
   "cell_type": "code",
   "execution_count": null,
   "id": "134b7a11-c63e-460a-aabe-3e4902657ab6",
   "metadata": {},
   "outputs": [],
   "source": []
  }
 ],
 "metadata": {
  "kernelspec": {
   "display_name": "Python 3 (ipykernel)",
   "language": "python",
   "name": "python3"
  },
  "language_info": {
   "codemirror_mode": {
    "name": "ipython",
    "version": 3
   },
   "file_extension": ".py",
   "mimetype": "text/x-python",
   "name": "python",
   "nbconvert_exporter": "python",
   "pygments_lexer": "ipython3",
   "version": "3.12.7"
  }
 },
 "nbformat": 4,
 "nbformat_minor": 5
}
