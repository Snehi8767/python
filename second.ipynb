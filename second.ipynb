{
 "cells": [
  {
   "cell_type": "code",
   "execution_count": 11,
   "id": "a53b7c95-7fb6-4786-981c-f4640277b4cc",
   "metadata": {},
   "outputs": [
    {
     "name": "stdin",
     "output_type": "stream",
     "text": [
      "Enter value 10\n",
      "Enter value2 10\n"
     ]
    }
   ],
   "source": [
    "a = int(input('Enter value'))\n",
    "b = int(input('Enter value2'))\n"
   ]
  },
  {
   "cell_type": "code",
   "execution_count": 12,
   "id": "b05c9daf-925b-4f6b-a980-d05538f71ce2",
   "metadata": {},
   "outputs": [
    {
     "name": "stdout",
     "output_type": "stream",
     "text": [
      "20\n"
     ]
    },
    {
     "data": {
      "text/plain": [
       "int"
      ]
     },
     "execution_count": 12,
     "metadata": {},
     "output_type": "execute_result"
    }
   ],
   "source": [
    "print(a+b)\n",
    "type(a)"
   ]
  },
  {
   "cell_type": "code",
   "execution_count": 6,
   "id": "cfee6ca2-0621-4141-8dd4-bc0a1cfb58b7",
   "metadata": {},
   "outputs": [],
   "source": [
    "a = 20\n",
    "b = 85"
   ]
  },
  {
   "cell_type": "code",
   "execution_count": 7,
   "id": "11d39ee1-2008-42dd-904d-88486dc75120",
   "metadata": {},
   "outputs": [
    {
     "name": "stdout",
     "output_type": "stream",
     "text": [
      "105\n"
     ]
    }
   ],
   "source": [
    "print(a + b)"
   ]
  },
  {
   "cell_type": "markdown",
   "id": "fd7d4576-b2a0-4133-8742-af8b8a26a00c",
   "metadata": {},
   "source": [
    "# Arithmatic Operators"
   ]
  },
  {
   "cell_type": "code",
   "execution_count": 13,
   "id": "96e48ee1-5d50-46eb-a3e6-caf4d1fc1367",
   "metadata": {},
   "outputs": [],
   "source": [
    "a = 2\n",
    "b = 6"
   ]
  },
  {
   "cell_type": "code",
   "execution_count": 14,
   "id": "b342d824-a308-4941-b0e0-f363db805b6f",
   "metadata": {},
   "outputs": [
    {
     "data": {
      "text/plain": [
       "8"
      ]
     },
     "execution_count": 14,
     "metadata": {},
     "output_type": "execute_result"
    }
   ],
   "source": [
    "a + b"
   ]
  },
  {
   "cell_type": "code",
   "execution_count": 15,
   "id": "bf20497e-77ff-47c9-901a-24d9a281ae72",
   "metadata": {},
   "outputs": [
    {
     "data": {
      "text/plain": [
       "-4"
      ]
     },
     "execution_count": 15,
     "metadata": {},
     "output_type": "execute_result"
    }
   ],
   "source": [
    "a-b"
   ]
  },
  {
   "cell_type": "code",
   "execution_count": 16,
   "id": "946a5b53-e51e-492b-b134-c1bf7857a5d3",
   "metadata": {},
   "outputs": [
    {
     "data": {
      "text/plain": [
       "0.3333333333333333"
      ]
     },
     "execution_count": 16,
     "metadata": {},
     "output_type": "execute_result"
    }
   ],
   "source": [
    "a/b"
   ]
  },
  {
   "cell_type": "code",
   "execution_count": 17,
   "id": "f6059d5c-ae8b-4002-8cb6-41d926c4de9b",
   "metadata": {},
   "outputs": [
    {
     "data": {
      "text/plain": [
       "2"
      ]
     },
     "execution_count": 17,
     "metadata": {},
     "output_type": "execute_result"
    }
   ],
   "source": [
    "a%b"
   ]
  },
  {
   "cell_type": "code",
   "execution_count": 18,
   "id": "7d8a9b16-613b-459c-a380-46114ba4d0f9",
   "metadata": {},
   "outputs": [
    {
     "data": {
      "text/plain": [
       "0"
      ]
     },
     "execution_count": 18,
     "metadata": {},
     "output_type": "execute_result"
    }
   ],
   "source": [
    "b%a"
   ]
  },
  {
   "cell_type": "code",
   "execution_count": 19,
   "id": "9be3526a-35d1-4786-9187-9a5228ac0d19",
   "metadata": {},
   "outputs": [
    {
     "data": {
      "text/plain": [
       "True"
      ]
     },
     "execution_count": 19,
     "metadata": {},
     "output_type": "execute_result"
    }
   ],
   "source": [
    "a<b"
   ]
  },
  {
   "cell_type": "code",
   "execution_count": 20,
   "id": "c1aae74e-6684-449b-b7b3-127540a4e18f",
   "metadata": {},
   "outputs": [
    {
     "data": {
      "text/plain": [
       "True"
      ]
     },
     "execution_count": 20,
     "metadata": {},
     "output_type": "execute_result"
    }
   ],
   "source": [
    "b>a"
   ]
  },
  {
   "cell_type": "code",
   "execution_count": 21,
   "id": "74d4c93f-eee7-49f7-b8ad-6841b1f28975",
   "metadata": {},
   "outputs": [
    {
     "data": {
      "text/plain": [
       "True"
      ]
     },
     "execution_count": 21,
     "metadata": {},
     "output_type": "execute_result"
    }
   ],
   "source": [
    "b > a"
   ]
  },
  {
   "cell_type": "code",
   "execution_count": 22,
   "id": "03cac368-763d-40c3-9d6b-36d5437f2f56",
   "metadata": {},
   "outputs": [
    {
     "data": {
      "text/plain": [
       "False"
      ]
     },
     "execution_count": 22,
     "metadata": {},
     "output_type": "execute_result"
    }
   ],
   "source": [
    "10 < 10"
   ]
  },
  {
   "cell_type": "code",
   "execution_count": 23,
   "id": "f6bca12c-1207-4be8-ab8e-b47a4fa558c0",
   "metadata": {},
   "outputs": [
    {
     "data": {
      "text/plain": [
       "True"
      ]
     },
     "execution_count": 23,
     "metadata": {},
     "output_type": "execute_result"
    }
   ],
   "source": [
    "10 <= 10"
   ]
  },
  {
   "cell_type": "code",
   "execution_count": 24,
   "id": "3c39bd3f-d3dd-4d76-a124-1b05e874d1fc",
   "metadata": {},
   "outputs": [
    {
     "data": {
      "text/plain": [
       "True"
      ]
     },
     "execution_count": 24,
     "metadata": {},
     "output_type": "execute_result"
    }
   ],
   "source": [
    "35 >= 35"
   ]
  },
  {
   "cell_type": "code",
   "execution_count": 25,
   "id": "1037ce6d-54fe-41b5-bfe5-0048aea60a37",
   "metadata": {},
   "outputs": [
    {
     "data": {
      "text/plain": [
       "True"
      ]
     },
     "execution_count": 25,
     "metadata": {},
     "output_type": "execute_result"
    }
   ],
   "source": [
    "10 == 10"
   ]
  },
  {
   "cell_type": "code",
   "execution_count": 26,
   "id": "db76ab52-b9bd-4e1f-82be-13a9b2c9f264",
   "metadata": {},
   "outputs": [
    {
     "data": {
      "text/plain": [
       "False"
      ]
     },
     "execution_count": 26,
     "metadata": {},
     "output_type": "execute_result"
    }
   ],
   "source": [
    "20 == 30"
   ]
  },
  {
   "cell_type": "code",
   "execution_count": 27,
   "id": "46806587-e80e-4d81-ae33-5f68aa076b4a",
   "metadata": {},
   "outputs": [
    {
     "data": {
      "text/plain": [
       "False"
      ]
     },
     "execution_count": 27,
     "metadata": {},
     "output_type": "execute_result"
    }
   ],
   "source": [
    "'hello' == 'Hello'"
   ]
  },
  {
   "cell_type": "code",
   "execution_count": 28,
   "id": "6d6197ea-cb38-4d91-aab4-3080945b43d2",
   "metadata": {},
   "outputs": [
    {
     "data": {
      "text/plain": [
       "True"
      ]
     },
     "execution_count": 28,
     "metadata": {},
     "output_type": "execute_result"
    }
   ],
   "source": [
    "'SNEHA' == 'SNEHA'"
   ]
  },
  {
   "cell_type": "code",
   "execution_count": 29,
   "id": "a3ab477b-1024-48ac-9ae2-64abe572d2b4",
   "metadata": {},
   "outputs": [
    {
     "ename": "NameError",
     "evalue": "name 'true' is not defined",
     "output_type": "error",
     "traceback": [
      "\u001b[1;31m---------------------------------------------------------------------------\u001b[0m",
      "\u001b[1;31mNameError\u001b[0m                                 Traceback (most recent call last)",
      "Cell \u001b[1;32mIn[29], line 1\u001b[0m\n\u001b[1;32m----> 1\u001b[0m true \u001b[38;5;129;01mand\u001b[39;00m true\n",
      "\u001b[1;31mNameError\u001b[0m: name 'true' is not defined"
     ]
    }
   ],
   "source": [
    "true and true"
   ]
  },
  {
   "cell_type": "code",
   "execution_count": 30,
   "id": "24912aa6-17a3-4722-b6d9-9a0673b637d9",
   "metadata": {},
   "outputs": [
    {
     "data": {
      "text/plain": [
       "True"
      ]
     },
     "execution_count": 30,
     "metadata": {},
     "output_type": "execute_result"
    }
   ],
   "source": [
    "True and True"
   ]
  },
  {
   "cell_type": "code",
   "execution_count": 31,
   "id": "4c46bac0-adf6-423d-a19a-4de53460e80c",
   "metadata": {},
   "outputs": [
    {
     "data": {
      "text/plain": [
       "False"
      ]
     },
     "execution_count": 31,
     "metadata": {},
     "output_type": "execute_result"
    }
   ],
   "source": [
    "False and True"
   ]
  },
  {
   "cell_type": "code",
   "execution_count": 32,
   "id": "d5074cc4-0edc-4c11-b68a-681c86ba1a45",
   "metadata": {},
   "outputs": [
    {
     "data": {
      "text/plain": [
       "False"
      ]
     },
     "execution_count": 32,
     "metadata": {},
     "output_type": "execute_result"
    }
   ],
   "source": [
    "False and False "
   ]
  },
  {
   "cell_type": "code",
   "execution_count": 33,
   "id": "17488ded-fc63-4375-9518-6c63fe503eb5",
   "metadata": {},
   "outputs": [
    {
     "data": {
      "text/plain": [
       "True"
      ]
     },
     "execution_count": 33,
     "metadata": {},
     "output_type": "execute_result"
    }
   ],
   "source": [
    "True or False"
   ]
  },
  {
   "cell_type": "code",
   "execution_count": 34,
   "id": "0152091e-beb4-48ab-ada1-6fafd0c2c598",
   "metadata": {},
   "outputs": [
    {
     "data": {
      "text/plain": [
       "False"
      ]
     },
     "execution_count": 34,
     "metadata": {},
     "output_type": "execute_result"
    }
   ],
   "source": [
    "False or False"
   ]
  },
  {
   "cell_type": "code",
   "execution_count": 35,
   "id": "96c6d2f5-3dd6-4586-940b-490bda7080a4",
   "metadata": {},
   "outputs": [
    {
     "data": {
      "text/plain": [
       "False"
      ]
     },
     "execution_count": 35,
     "metadata": {},
     "output_type": "execute_result"
    }
   ],
   "source": [
    "not True"
   ]
  },
  {
   "cell_type": "code",
   "execution_count": 36,
   "id": "49ebf2af-19a5-4667-9080-2400205a161d",
   "metadata": {},
   "outputs": [
    {
     "data": {
      "text/plain": [
       "True"
      ]
     },
     "execution_count": 36,
     "metadata": {},
     "output_type": "execute_result"
    }
   ],
   "source": [
    "not False"
   ]
  },
  {
   "cell_type": "code",
   "execution_count": 37,
   "id": "12865820-6a54-40df-96f7-724a729fe5fa",
   "metadata": {},
   "outputs": [
    {
     "data": {
      "text/plain": [
       "method"
      ]
     },
     "execution_count": 37,
     "metadata": {},
     "output_type": "execute_result"
    }
   ],
   "source": [
    "type(input)"
   ]
  },
  {
   "cell_type": "code",
   "execution_count": 41,
   "id": "f7f921ad-e8e8-4a43-88d7-20299ff3e458",
   "metadata": {},
   "outputs": [
    {
     "name": "stdin",
     "output_type": "stream",
     "text": [
      "write weight 5.2\n"
     ]
    }
   ],
   "source": [
    "height = float(input('write weight'))"
   ]
  },
  {
   "cell_type": "markdown",
   "id": "bd38767f-2fb2-4018-bcea-2837961affb7",
   "metadata": {},
   "source": [
    "# Data Structure"
   ]
  },
  {
   "cell_type": "markdown",
   "id": "a0fba77a-d60e-47f6-988c-168e3c4a4f28",
   "metadata": {},
   "source": [
    "# List"
   ]
  },
  {
   "cell_type": "raw",
   "id": "dd9e145f-cc36-4271-a09e-e7d3e5c6ad17",
   "metadata": {},
   "source": [
    "List is written in squre bracket."
   ]
  },
  {
   "cell_type": "code",
   "execution_count": 44,
   "id": "72b5c9a9-8d6f-49ff-a500-801c08f699a0",
   "metadata": {},
   "outputs": [],
   "source": [
    "a = [10,201,36,99]"
   ]
  },
  {
   "cell_type": "code",
   "execution_count": 45,
   "id": "18a121e7-ea48-4a89-bdc3-9b294faf558c",
   "metadata": {},
   "outputs": [
    {
     "data": {
      "text/plain": [
       "[10, 201, 36, 99]"
      ]
     },
     "execution_count": 45,
     "metadata": {},
     "output_type": "execute_result"
    }
   ],
   "source": [
    "a"
   ]
  },
  {
   "cell_type": "code",
   "execution_count": 46,
   "id": "d6f13311-bf55-4cb0-97e9-39b2bf7f94be",
   "metadata": {},
   "outputs": [],
   "source": [
    "names = ['sneha','akash','siddhu']"
   ]
  },
  {
   "cell_type": "code",
   "execution_count": 47,
   "id": "9cbd11f2-890d-4a56-8caa-167a4abb7203",
   "metadata": {},
   "outputs": [
    {
     "data": {
      "text/plain": [
       "['sneha', 'akash', 'siddhu']"
      ]
     },
     "execution_count": 47,
     "metadata": {},
     "output_type": "execute_result"
    }
   ],
   "source": [
    "names"
   ]
  },
  {
   "cell_type": "code",
   "execution_count": 48,
   "id": "6a5a4283-5a27-4a6e-991f-4851bd29c299",
   "metadata": {},
   "outputs": [
    {
     "data": {
      "text/plain": [
       "3"
      ]
     },
     "execution_count": 48,
     "metadata": {},
     "output_type": "execute_result"
    }
   ],
   "source": [
    "len(names)"
   ]
  },
  {
   "cell_type": "code",
   "execution_count": 49,
   "id": "dddb8bdf-5dbd-48bc-bb84-15a66306185b",
   "metadata": {},
   "outputs": [],
   "source": [
    "mix = [1,3,5,'sneha', 'monika',10,20]"
   ]
  },
  {
   "cell_type": "code",
   "execution_count": 50,
   "id": "89c66caf-2729-4142-bdd6-c111ee6fe54e",
   "metadata": {},
   "outputs": [
    {
     "data": {
      "text/plain": [
       "[1, 3, 5, 'sneha', 'monika', 10, 20]"
      ]
     },
     "execution_count": 50,
     "metadata": {},
     "output_type": "execute_result"
    }
   ],
   "source": [
    "mix"
   ]
  },
  {
   "cell_type": "code",
   "execution_count": 51,
   "id": "de3da348-348f-4eb5-a695-6eef4ff7b64d",
   "metadata": {},
   "outputs": [
    {
     "ename": "TypeError",
     "evalue": "'list' object is not callable",
     "output_type": "error",
     "traceback": [
      "\u001b[1;31m---------------------------------------------------------------------------\u001b[0m",
      "\u001b[1;31mTypeError\u001b[0m                                 Traceback (most recent call last)",
      "Cell \u001b[1;32mIn[51], line 1\u001b[0m\n\u001b[1;32m----> 1\u001b[0m mix(\u001b[38;5;28mlen\u001b[39m)\n",
      "\u001b[1;31mTypeError\u001b[0m: 'list' object is not callable"
     ]
    }
   ],
   "source": [
    "mix(len)"
   ]
  },
  {
   "cell_type": "code",
   "execution_count": 52,
   "id": "9c3cb300-3d47-4399-b3a5-7927b849a888",
   "metadata": {},
   "outputs": [
    {
     "data": {
      "text/plain": [
       "7"
      ]
     },
     "execution_count": 52,
     "metadata": {},
     "output_type": "execute_result"
    }
   ],
   "source": [
    "len(mix)"
   ]
  },
  {
   "cell_type": "code",
   "execution_count": 53,
   "id": "d4a08803-5c8a-4971-a3f6-4b6f64f621f0",
   "metadata": {},
   "outputs": [
    {
     "data": {
      "text/plain": [
       "'siddhu'"
      ]
     },
     "execution_count": 53,
     "metadata": {},
     "output_type": "execute_result"
    }
   ],
   "source": [
    "names[2]"
   ]
  },
  {
   "cell_type": "markdown",
   "id": "d35024f7-895a-4603-813a-bb47ce0910db",
   "metadata": {},
   "source": [
    "# indexing "
   ]
  },
  {
   "cell_type": "code",
   "execution_count": 54,
   "id": "6c7a5423-9da9-4f65-aadf-ad79be99d261",
   "metadata": {},
   "outputs": [
    {
     "data": {
      "text/plain": [
       "'sneha'"
      ]
     },
     "execution_count": 54,
     "metadata": {},
     "output_type": "execute_result"
    }
   ],
   "source": [
    "mix[3]"
   ]
  },
  {
   "cell_type": "code",
   "execution_count": 55,
   "id": "1d65f676-f807-46a2-a0a2-422caee481f7",
   "metadata": {},
   "outputs": [
    {
     "data": {
      "text/plain": [
       "5"
      ]
     },
     "execution_count": 55,
     "metadata": {},
     "output_type": "execute_result"
    }
   ],
   "source": [
    "mix[2]"
   ]
  },
  {
   "cell_type": "code",
   "execution_count": 56,
   "id": "9a8e9ddb-8b67-438c-a84f-f52c1f341e5a",
   "metadata": {},
   "outputs": [
    {
     "data": {
      "text/plain": [
       "20"
      ]
     },
     "execution_count": 56,
     "metadata": {},
     "output_type": "execute_result"
    }
   ],
   "source": [
    "mix[-1]"
   ]
  },
  {
   "cell_type": "code",
   "execution_count": 57,
   "id": "310f9739-9ab6-4ce1-83e0-5fd693544e75",
   "metadata": {},
   "outputs": [
    {
     "data": {
      "text/plain": [
       "[1, 3, 5]"
      ]
     },
     "execution_count": 57,
     "metadata": {},
     "output_type": "execute_result"
    }
   ],
   "source": [
    "mix[0:3]  #starting index : End index(which will not included)"
   ]
  },
  {
   "cell_type": "code",
   "execution_count": 58,
   "id": "8347ec46-a578-4795-aa6b-a1fcb5b80c28",
   "metadata": {},
   "outputs": [
    {
     "data": {
      "text/plain": [
       "['sneha', 'monika', 10, 20]"
      ]
     },
     "execution_count": 58,
     "metadata": {},
     "output_type": "execute_result"
    }
   ],
   "source": [
    "mix[3:]"
   ]
  },
  {
   "cell_type": "code",
   "execution_count": 59,
   "id": "9c2f8171-6d7f-4e77-8dbf-a23bac5f0f44",
   "metadata": {},
   "outputs": [
    {
     "data": {
      "text/plain": [
       "[1, 3, 5, 'sneha', 'monika', 10, 20]"
      ]
     },
     "execution_count": 59,
     "metadata": {},
     "output_type": "execute_result"
    }
   ],
   "source": [
    "mix[:]"
   ]
  },
  {
   "cell_type": "code",
   "execution_count": 60,
   "id": "8026e007-ba9b-4248-ab16-f459606c469b",
   "metadata": {},
   "outputs": [
    {
     "data": {
      "text/plain": [
       "[1, 3, 5, 'sneha', 'monika', 10, 20]"
      ]
     },
     "execution_count": 60,
     "metadata": {},
     "output_type": "execute_result"
    }
   ],
   "source": [
    "mix[0:7:1]"
   ]
  },
  {
   "cell_type": "code",
   "execution_count": 61,
   "id": "ac187b45-70da-4ec6-a093-d2ff94139535",
   "metadata": {},
   "outputs": [
    {
     "data": {
      "text/plain": [
       "[1, 3, 5, 'sneha', 'monika', 10, 20]"
      ]
     },
     "execution_count": 61,
     "metadata": {},
     "output_type": "execute_result"
    }
   ],
   "source": [
    "mix[0:7:1]"
   ]
  },
  {
   "cell_type": "code",
   "execution_count": 62,
   "id": "3e53205c-faa8-48f8-8975-7ff60139b522",
   "metadata": {},
   "outputs": [
    {
     "data": {
      "text/plain": [
       "['sneha', 'akash', 'siddhu']"
      ]
     },
     "execution_count": 62,
     "metadata": {},
     "output_type": "execute_result"
    }
   ],
   "source": [
    "names[0:]"
   ]
  },
  {
   "cell_type": "code",
   "execution_count": 63,
   "id": "447b686b-10ef-455b-8863-72cf90746ac3",
   "metadata": {},
   "outputs": [
    {
     "data": {
      "text/plain": [
       "['sneha', 'akash']"
      ]
     },
     "execution_count": 63,
     "metadata": {},
     "output_type": "execute_result"
    }
   ],
   "source": [
    "names[0:2:1]"
   ]
  },
  {
   "cell_type": "code",
   "execution_count": 64,
   "id": "3710a18f-7014-4ea5-b62a-fcd1d94998c5",
   "metadata": {},
   "outputs": [
    {
     "data": {
      "text/plain": [
       "['sneha', 'akash', 'siddhu']"
      ]
     },
     "execution_count": 64,
     "metadata": {},
     "output_type": "execute_result"
    }
   ],
   "source": [
    "names[0:4:1]"
   ]
  },
  {
   "cell_type": "code",
   "execution_count": 5,
   "id": "f9032903-4b6c-4894-b930-3a32f9a3ea88",
   "metadata": {},
   "outputs": [],
   "source": [
    "numbers = [10,20,30,40,50,60,70]"
   ]
  },
  {
   "cell_type": "code",
   "execution_count": 70,
   "id": "ce54cb82-6ae6-47a1-bfc0-a4af51f57670",
   "metadata": {},
   "outputs": [
    {
     "data": {
      "text/plain": [
       "[10, 20, 30, 40, 50, 60, 70]"
      ]
     },
     "execution_count": 70,
     "metadata": {},
     "output_type": "execute_result"
    }
   ],
   "source": [
    "numbers"
   ]
  },
  {
   "cell_type": "code",
   "execution_count": 71,
   "id": "5cab735e-139b-4fe1-b12d-8d1caee36884",
   "metadata": {},
   "outputs": [
    {
     "data": {
      "text/plain": [
       "7"
      ]
     },
     "execution_count": 71,
     "metadata": {},
     "output_type": "execute_result"
    }
   ],
   "source": [
    "len(numbers)"
   ]
  },
  {
   "cell_type": "code",
   "execution_count": 74,
   "id": "4eec318c-f326-4036-8412-b31c2dbe048b",
   "metadata": {},
   "outputs": [
    {
     "data": {
      "text/plain": [
       "[10, 20, 30, 40, 50, 60, 70]"
      ]
     },
     "execution_count": 74,
     "metadata": {},
     "output_type": "execute_result"
    }
   ],
   "source": [
    "numbers[0:9:1]"
   ]
  },
  {
   "cell_type": "code",
   "execution_count": 76,
   "id": "6a8672ab-24a2-426f-b1e3-3b564b01a930",
   "metadata": {},
   "outputs": [
    {
     "data": {
      "text/plain": [
       "[10, 30, 50, 70]"
      ]
     },
     "execution_count": 76,
     "metadata": {},
     "output_type": "execute_result"
    }
   ],
   "source": [
    "numbers[0:7:2]"
   ]
  },
  {
   "cell_type": "code",
   "execution_count": 2,
   "id": "f78fd741-34d2-43e8-a4e6-514ab40a5e59",
   "metadata": {},
   "outputs": [
    {
     "ename": "NameError",
     "evalue": "name 'numbers' is not defined",
     "output_type": "error",
     "traceback": [
      "\u001b[1;31m---------------------------------------------------------------------------\u001b[0m",
      "\u001b[1;31mNameError\u001b[0m                                 Traceback (most recent call last)",
      "Cell \u001b[1;32mIn[2], line 1\u001b[0m\n\u001b[1;32m----> 1\u001b[0m numbers[\u001b[38;5;241m-\u001b[39m\u001b[38;5;241m2\u001b[39m]\n",
      "\u001b[1;31mNameError\u001b[0m: name 'numbers' is not defined"
     ]
    }
   ],
   "source": [
    "numbers[-2]"
   ]
  },
  {
   "cell_type": "code",
   "execution_count": 3,
   "id": "7ca1e458-89b6-4a87-a44f-c263852a76de",
   "metadata": {},
   "outputs": [
    {
     "ename": "NameError",
     "evalue": "name 'numbers' is not defined",
     "output_type": "error",
     "traceback": [
      "\u001b[1;31m---------------------------------------------------------------------------\u001b[0m",
      "\u001b[1;31mNameError\u001b[0m                                 Traceback (most recent call last)",
      "Cell \u001b[1;32mIn[3], line 1\u001b[0m\n\u001b[1;32m----> 1\u001b[0m numbers\n",
      "\u001b[1;31mNameError\u001b[0m: name 'numbers' is not defined"
     ]
    }
   ],
   "source": [
    "numbers"
   ]
  },
  {
   "cell_type": "code",
   "execution_count": 4,
   "id": "1b802b21-b34d-41ba-8d0d-7a2582303801",
   "metadata": {},
   "outputs": [
    {
     "ename": "NameError",
     "evalue": "name 'numbers' is not defined",
     "output_type": "error",
     "traceback": [
      "\u001b[1;31m---------------------------------------------------------------------------\u001b[0m",
      "\u001b[1;31mNameError\u001b[0m                                 Traceback (most recent call last)",
      "Cell \u001b[1;32mIn[4], line 1\u001b[0m\n\u001b[1;32m----> 1\u001b[0m \u001b[38;5;28mlen\u001b[39m(numbers)\n",
      "\u001b[1;31mNameError\u001b[0m: name 'numbers' is not defined"
     ]
    }
   ],
   "source": [
    "len(numbers)"
   ]
  },
  {
   "cell_type": "code",
   "execution_count": 6,
   "id": "c4b43413-12ac-4082-a902-09e0b957512e",
   "metadata": {},
   "outputs": [],
   "source": [
    "x = [1,2,3,4,5,6,7,8]"
   ]
  },
  {
   "cell_type": "code",
   "execution_count": 7,
   "id": "89fb0b48-3a90-43b2-8184-4611457f8f5f",
   "metadata": {},
   "outputs": [
    {
     "data": {
      "text/plain": [
       "[1, 2, 3, 4, 5, 6, 7, 8]"
      ]
     },
     "execution_count": 7,
     "metadata": {},
     "output_type": "execute_result"
    }
   ],
   "source": [
    "x"
   ]
  },
  {
   "cell_type": "code",
   "execution_count": 8,
   "id": "9660002b-9d1f-4080-bfe0-286d7c6e72d2",
   "metadata": {},
   "outputs": [
    {
     "data": {
      "text/plain": [
       "[1, 2, 3]"
      ]
     },
     "execution_count": 8,
     "metadata": {},
     "output_type": "execute_result"
    }
   ],
   "source": [
    "x[0:3]"
   ]
  },
  {
   "cell_type": "code",
   "execution_count": 9,
   "id": "0a930ac7-5263-41c3-bc51-3a22e61c3f47",
   "metadata": {},
   "outputs": [
    {
     "data": {
      "text/plain": [
       "[1, 3, 5, 7]"
      ]
     },
     "execution_count": 9,
     "metadata": {},
     "output_type": "execute_result"
    }
   ],
   "source": [
    "x[::2]"
   ]
  },
  {
   "cell_type": "code",
   "execution_count": 10,
   "id": "c52ec01f-2dd3-4b6f-af0c-3c020a3d9d7d",
   "metadata": {},
   "outputs": [
    {
     "data": {
      "text/plain": [
       "[1, 4, 7]"
      ]
     },
     "execution_count": 10,
     "metadata": {},
     "output_type": "execute_result"
    }
   ],
   "source": [
    "x[::3]"
   ]
  },
  {
   "cell_type": "code",
   "execution_count": 11,
   "id": "ec83772c-2270-43a2-a2c3-19edf8bf2a55",
   "metadata": {},
   "outputs": [
    {
     "data": {
      "text/plain": [
       "[8]"
      ]
     },
     "execution_count": 11,
     "metadata": {},
     "output_type": "execute_result"
    }
   ],
   "source": [
    "x[-1::]"
   ]
  },
  {
   "cell_type": "code",
   "execution_count": 12,
   "id": "3dc43484-22b7-448f-9b5a-bac8007c427b",
   "metadata": {},
   "outputs": [
    {
     "data": {
      "text/plain": [
       "[8, 7, 6, 5, 4, 3, 2, 1]"
      ]
     },
     "execution_count": 12,
     "metadata": {},
     "output_type": "execute_result"
    }
   ],
   "source": [
    "x[-1::-1] # negative to positive direction. reverse direction.x"
   ]
  },
  {
   "cell_type": "code",
   "execution_count": 13,
   "id": "01d766fb-d948-4e76-ab74-d0d4e9100b44",
   "metadata": {},
   "outputs": [
    {
     "data": {
      "text/plain": [
       "[8, 6, 4, 2]"
      ]
     },
     "execution_count": 13,
     "metadata": {},
     "output_type": "execute_result"
    }
   ],
   "source": [
    "x[-1::-2]"
   ]
  },
  {
   "cell_type": "code",
   "execution_count": 14,
   "id": "083e1db5-b4ea-4cfd-8b06-25b59451668d",
   "metadata": {},
   "outputs": [
    {
     "data": {
      "text/plain": [
       "[8, 7, 6, 5, 4, 3, 2, 1]"
      ]
     },
     "execution_count": 14,
     "metadata": {},
     "output_type": "execute_result"
    }
   ],
   "source": [
    "x[::-1]"
   ]
  },
  {
   "cell_type": "code",
   "execution_count": 15,
   "id": "d7a68423-4a90-4d0b-bb26-2a3a3f0881b9",
   "metadata": {},
   "outputs": [],
   "source": [
    "names =['sneha','siddhu','akash','santosh']"
   ]
  },
  {
   "cell_type": "code",
   "execution_count": 16,
   "id": "19ae27c5-f9a0-44ea-8f64-b38315b70256",
   "metadata": {},
   "outputs": [
    {
     "data": {
      "text/plain": [
       "['sneha', 'siddhu', 'akash', 'santosh']"
      ]
     },
     "execution_count": 16,
     "metadata": {},
     "output_type": "execute_result"
    }
   ],
   "source": [
    "names"
   ]
  },
  {
   "cell_type": "code",
   "execution_count": 34,
   "id": "3c19c5d3-c31c-425b-89c1-4b1f409fd4a0",
   "metadata": {},
   "outputs": [],
   "source": [
    "names[0] = 'savita'"
   ]
  },
  {
   "cell_type": "code",
   "execution_count": 35,
   "id": "cb21d247-3729-40d3-a1bb-e146d4fb419d",
   "metadata": {},
   "outputs": [
    {
     "data": {
      "text/plain": [
       "['savita', 'siddhu', 'akash', 'santosh']"
      ]
     },
     "execution_count": 35,
     "metadata": {},
     "output_type": "execute_result"
    }
   ],
   "source": [
    "names"
   ]
  },
  {
   "cell_type": "markdown",
   "id": "8643dcc8-c9b6-4b82-81b9-23564de3181b",
   "metadata": {},
   "source": [
    "# nested list "
   ]
  },
  {
   "cell_type": "code",
   "execution_count": 39,
   "id": "d2933e06-c74a-48bb-bb28-48c97841b15d",
   "metadata": {},
   "outputs": [],
   "source": [
    "a =[1,2,3,4,[10,20,30],5,6]"
   ]
  },
  {
   "cell_type": "code",
   "execution_count": 40,
   "id": "9cf79b39-90b6-420f-8c6e-28ff4dddf7df",
   "metadata": {},
   "outputs": [
    {
     "data": {
      "text/plain": [
       "[1, 2, 3, 4, [10, 20, 30], 5, 6]"
      ]
     },
     "execution_count": 40,
     "metadata": {},
     "output_type": "execute_result"
    }
   ],
   "source": [
    "a"
   ]
  },
  {
   "cell_type": "code",
   "execution_count": 21,
   "id": "93d0b164-1cb1-4b5a-ac41-4bdd972a4691",
   "metadata": {},
   "outputs": [
    {
     "data": {
      "text/plain": [
       "<function list.append(object, /)>"
      ]
     },
     "execution_count": 21,
     "metadata": {},
     "output_type": "execute_result"
    }
   ],
   "source": [
    "x.append"
   ]
  },
  {
   "cell_type": "code",
   "execution_count": 22,
   "id": "58b3380c-121e-43d7-ab48-53bd3565aa26",
   "metadata": {},
   "outputs": [
    {
     "data": {
      "text/plain": [
       "[1, 2, 3, 4, 5, 6, 7, 8]"
      ]
     },
     "execution_count": 22,
     "metadata": {},
     "output_type": "execute_result"
    }
   ],
   "source": [
    "x"
   ]
  },
  {
   "cell_type": "code",
   "execution_count": 23,
   "id": "d2db6be3-120e-4269-8e91-254f38dca921",
   "metadata": {},
   "outputs": [],
   "source": [
    "x.append([10,20,30])"
   ]
  },
  {
   "cell_type": "code",
   "execution_count": 24,
   "id": "e6f2f2a4-4695-43a2-b526-f76286e48d45",
   "metadata": {},
   "outputs": [
    {
     "data": {
      "text/plain": [
       "[1, 2, 3, 4, 5, 6, 7, 8, [10, 20, 30]]"
      ]
     },
     "execution_count": 24,
     "metadata": {},
     "output_type": "execute_result"
    }
   ],
   "source": [
    "x"
   ]
  },
  {
   "cell_type": "code",
   "execution_count": 27,
   "id": "767abbd9-9de2-4daa-85ec-1394dcc600cd",
   "metadata": {},
   "outputs": [],
   "source": [
    "x.extend([80,90,45])"
   ]
  },
  {
   "cell_type": "code",
   "execution_count": 28,
   "id": "e54d90cd-fe1e-434f-b627-043aeb61e23b",
   "metadata": {},
   "outputs": [
    {
     "data": {
      "text/plain": [
       "[1, 2, 3, 4, 5, 6, 7, 8, [10, 20, 30], 80, 90, 45, 80, 90, 45]"
      ]
     },
     "execution_count": 28,
     "metadata": {},
     "output_type": "execute_result"
    }
   ],
   "source": [
    "x"
   ]
  },
  {
   "cell_type": "markdown",
   "id": "068930cb-0f73-4b0c-8cb1-bd6937a4e5b1",
   "metadata": {},
   "source": [
    "# tuple"
   ]
  },
  {
   "cell_type": "code",
   "execution_count": 4,
   "id": "71d7e345-0b1f-49ea-a126-c8a04333ec85",
   "metadata": {},
   "outputs": [],
   "source": [
    "colors = ('Red','White','Pink','Orange')"
   ]
  },
  {
   "cell_type": "code",
   "execution_count": 5,
   "id": "e61b9502-1ddc-4ab9-aad7-1a4fca1711ef",
   "metadata": {},
   "outputs": [
    {
     "data": {
      "text/plain": [
       "('Red', 'White', 'Pink', 'Orange')"
      ]
     },
     "execution_count": 5,
     "metadata": {},
     "output_type": "execute_result"
    }
   ],
   "source": [
    "colors"
   ]
  },
  {
   "cell_type": "code",
   "execution_count": 6,
   "id": "9da1cc5d-4f48-47e3-9294-75b64226fba4",
   "metadata": {},
   "outputs": [
    {
     "data": {
      "text/plain": [
       "'White'"
      ]
     },
     "execution_count": 6,
     "metadata": {},
     "output_type": "execute_result"
    }
   ],
   "source": [
    "colors[1]"
   ]
  },
  {
   "cell_type": "code",
   "execution_count": 7,
   "id": "35e7024e-ea59-4068-b239-067f79aeab19",
   "metadata": {},
   "outputs": [
    {
     "ename": "TypeError",
     "evalue": "'tuple' object does not support item assignment",
     "output_type": "error",
     "traceback": [
      "\u001b[1;31m---------------------------------------------------------------------------\u001b[0m",
      "\u001b[1;31mTypeError\u001b[0m                                 Traceback (most recent call last)",
      "Cell \u001b[1;32mIn[7], line 1\u001b[0m\n\u001b[1;32m----> 1\u001b[0m colors[\u001b[38;5;241m1\u001b[39m] \u001b[38;5;241m=\u001b[39m \u001b[38;5;124m'\u001b[39m\u001b[38;5;124mBlack\u001b[39m\u001b[38;5;124m'\u001b[39m\n",
      "\u001b[1;31mTypeError\u001b[0m: 'tuple' object does not support item assignment"
     ]
    }
   ],
   "source": [
    "colors[1] = 'Black'"
   ]
  },
  {
   "cell_type": "code",
   "execution_count": 8,
   "id": "48dfa7a9-a64c-4e1b-81ae-addf44d82440",
   "metadata": {},
   "outputs": [
    {
     "data": {
      "text/plain": [
       "('Red', 'White', 'Pink', 'Orange')"
      ]
     },
     "execution_count": 8,
     "metadata": {},
     "output_type": "execute_result"
    }
   ],
   "source": [
    "colors"
   ]
  },
  {
   "cell_type": "code",
   "execution_count": 20,
   "id": "0f1f1d64-bf9e-4b3b-883e-fe67445a97aa",
   "metadata": {},
   "outputs": [],
   "source": [
    "c = list(colors)"
   ]
  },
  {
   "cell_type": "code",
   "execution_count": 21,
   "id": "f01f447b-70bb-445e-93a8-eb248f7e3e74",
   "metadata": {},
   "outputs": [],
   "source": [
    "c.append('voilet')"
   ]
  },
  {
   "cell_type": "code",
   "execution_count": 22,
   "id": "0fcd0d36-f622-40cc-aa03-e405438da004",
   "metadata": {},
   "outputs": [],
   "source": [
    "c = tuple(c)"
   ]
  },
  {
   "cell_type": "code",
   "execution_count": 23,
   "id": "1359d19e-979f-491d-9691-cd69e018e24f",
   "metadata": {},
   "outputs": [
    {
     "data": {
      "text/plain": [
       "('Red', 'White', 'Pink', 'Orange')"
      ]
     },
     "execution_count": 23,
     "metadata": {},
     "output_type": "execute_result"
    }
   ],
   "source": [
    "colors"
   ]
  },
  {
   "cell_type": "code",
   "execution_count": 1,
   "id": "5a7cd2fb-6421-462d-97a9-441dae77788d",
   "metadata": {},
   "outputs": [
    {
     "name": "stdout",
     "output_type": "stream",
     "text": [
      "Hello World. how are you\n"
     ]
    }
   ],
   "source": [
    "print('Hello World. how are you')"
   ]
  },
  {
   "cell_type": "code",
   "execution_count": 2,
   "id": "8451e02c-875a-420e-9853-34d07732dc70",
   "metadata": {},
   "outputs": [
    {
     "name": "stdout",
     "output_type": "stream",
     "text": [
      "hello, it's me !\n"
     ]
    }
   ],
   "source": [
    "print(\"hello, it's me !\")"
   ]
  },
  {
   "cell_type": "code",
   "execution_count": null,
   "id": "9dd588c5-b866-40da-beb9-e9ddd1826225",
   "metadata": {},
   "outputs": [],
   "source": []
  }
 ],
 "metadata": {
  "kernelspec": {
   "display_name": "Python 3 (ipykernel)",
   "language": "python",
   "name": "python3"
  },
  "language_info": {
   "codemirror_mode": {
    "name": "ipython",
    "version": 3
   },
   "file_extension": ".py",
   "mimetype": "text/x-python",
   "name": "python",
   "nbconvert_exporter": "python",
   "pygments_lexer": "ipython3",
   "version": "3.12.7"
  }
 },
 "nbformat": 4,
 "nbformat_minor": 5
}
