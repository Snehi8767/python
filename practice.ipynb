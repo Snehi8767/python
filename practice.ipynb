{
 "cells": [
  {
   "cell_type": "code",
   "execution_count": 1,
   "id": "a8df59d9-f5f6-4f4a-a65e-c76bb5f7c0b8",
   "metadata": {},
   "outputs": [],
   "source": [
    "name = ['sneha','akas','siddhu','savita']"
   ]
  },
  {
   "cell_type": "code",
   "execution_count": 2,
   "id": "fb25e217-c17d-4ea6-8416-03ea5c470a32",
   "metadata": {},
   "outputs": [
    {
     "data": {
      "text/plain": [
       "'sneha'"
      ]
     },
     "execution_count": 2,
     "metadata": {},
     "output_type": "execute_result"
    }
   ],
   "source": [
    "name[0]"
   ]
  },
  {
   "cell_type": "code",
   "execution_count": 3,
   "id": "234e587d-a6da-47af-8abb-37d0c4912d8a",
   "metadata": {},
   "outputs": [
    {
     "data": {
      "text/plain": [
       "['sneha', 'akas', 'siddhu', 'savita']"
      ]
     },
     "execution_count": 3,
     "metadata": {},
     "output_type": "execute_result"
    }
   ],
   "source": [
    "name"
   ]
  },
  {
   "cell_type": "code",
   "execution_count": 4,
   "id": "47341fd4-836c-475e-9d66-69b6366d4816",
   "metadata": {},
   "outputs": [
    {
     "name": "stdin",
     "output_type": "stream",
     "text": [
      "Enter your name: sneha\n"
     ]
    }
   ],
   "source": [
    "name = input('Enter your name:')"
   ]
  },
  {
   "cell_type": "code",
   "execution_count": 10,
   "id": "8370dd5f-e32c-4794-8be6-cef729899a3b",
   "metadata": {},
   "outputs": [
    {
     "data": {
      "text/plain": [
       "str"
      ]
     },
     "execution_count": 10,
     "metadata": {},
     "output_type": "execute_result"
    }
   ],
   "source": [
    "type(name)"
   ]
  },
  {
   "cell_type": "code",
   "execution_count": 8,
   "id": "5876c79d-5e4f-430c-a94b-c158cf20ceb4",
   "metadata": {},
   "outputs": [
    {
     "name": "stdin",
     "output_type": "stream",
     "text": [
      "Enter your age 20\n"
     ]
    }
   ],
   "source": [
    "age = int(input('Enter your age'))"
   ]
  },
  {
   "cell_type": "code",
   "execution_count": 9,
   "id": "1f355cf9-fffc-4022-a43d-bbb54fdc1abe",
   "metadata": {},
   "outputs": [
    {
     "data": {
      "text/plain": [
       "int"
      ]
     },
     "execution_count": 9,
     "metadata": {},
     "output_type": "execute_result"
    }
   ],
   "source": [
    "type(age)"
   ]
  },
  {
   "cell_type": "code",
   "execution_count": 8,
   "id": "fa279ab9-feb5-456f-9547-b5a7727222e7",
   "metadata": {},
   "outputs": [
    {
     "name": "stdin",
     "output_type": "stream",
     "text": [
      "Enetr your age 52.2\n"
     ]
    }
   ],
   "source": [
    "weight = float(input(\"Enetr your age\"))"
   ]
  },
  {
   "cell_type": "code",
   "execution_count": 9,
   "id": "5f60398a-1a88-4037-b247-67f34aad5f3a",
   "metadata": {},
   "outputs": [
    {
     "data": {
      "text/plain": [
       "float"
      ]
     },
     "execution_count": 9,
     "metadata": {},
     "output_type": "execute_result"
    }
   ],
   "source": [
    "type(weight)"
   ]
  },
  {
   "cell_type": "code",
   "execution_count": 11,
   "id": "fb06b176-37f7-4e06-b92a-defe2a34ce14",
   "metadata": {},
   "outputs": [
    {
     "data": {
      "text/plain": [
       "True"
      ]
     },
     "execution_count": 11,
     "metadata": {},
     "output_type": "execute_result"
    }
   ],
   "source": [
    "50 >20"
   ]
  },
  {
   "cell_type": "code",
   "execution_count": 13,
   "id": "51fab365-f554-4112-a745-6ed4c573d0cf",
   "metadata": {},
   "outputs": [
    {
     "data": {
      "text/plain": [
       "False"
      ]
     },
     "execution_count": 13,
     "metadata": {},
     "output_type": "execute_result"
    }
   ],
   "source": [
    "20 > 80"
   ]
  },
  {
   "cell_type": "code",
   "execution_count": null,
   "id": "68447149-d63f-4ceb-91de-0b646a67729a",
   "metadata": {},
   "outputs": [],
   "source": [
    "# coverting tuple in list and add one element."
   ]
  },
  {
   "cell_type": "code",
   "execution_count": 14,
   "id": "6bb43b69-5327-4272-a8ee-6d7064fa49c8",
   "metadata": {},
   "outputs": [],
   "source": [
    "colors = {'Red','Pink','Orange','Black'}"
   ]
  },
  {
   "cell_type": "code",
   "execution_count": 15,
   "id": "5aec1cb9-6060-4909-a9a7-72238d35dc46",
   "metadata": {},
   "outputs": [
    {
     "data": {
      "text/plain": [
       "{'Black', 'Orange', 'Pink', 'Red'}"
      ]
     },
     "execution_count": 15,
     "metadata": {},
     "output_type": "execute_result"
    }
   ],
   "source": [
    "colors"
   ]
  },
  {
   "cell_type": "code",
   "execution_count": 29,
   "id": "8dcbd4a0-2b42-40dc-a8d4-a3f08abe418a",
   "metadata": {},
   "outputs": [],
   "source": [
    "c = list(colors)"
   ]
  },
  {
   "cell_type": "code",
   "execution_count": 30,
   "id": "dcfd15c4-505d-4a15-9891-be13a357abf8",
   "metadata": {},
   "outputs": [],
   "source": [
    "c.append(\"Blue\")"
   ]
  },
  {
   "cell_type": "code",
   "execution_count": 35,
   "id": "c0a2ba8b-f9d3-4cd0-9052-185bfceac81c",
   "metadata": {},
   "outputs": [
    {
     "data": {
      "text/plain": [
       "['Black', 'Orange', 'Red', 'Pink', 'Blue']"
      ]
     },
     "execution_count": 35,
     "metadata": {},
     "output_type": "execute_result"
    }
   ],
   "source": [
    "c"
   ]
  },
  {
   "cell_type": "code",
   "execution_count": null,
   "id": "6d517f68-4ef4-4a06-bd3f-fd9212a086e6",
   "metadata": {},
   "outputs": [],
   "source": [
    "# fetching the list from the data set."
   ]
  },
  {
   "cell_type": "code",
   "execution_count": 41,
   "id": "120772cc-81c5-4264-b43d-69b7fce5b71c",
   "metadata": {},
   "outputs": [],
   "source": [
    "a = [9,8,7,6,5,4,[10,20,30]]"
   ]
  },
  {
   "cell_type": "code",
   "execution_count": 43,
   "id": "1d616bd6-a59f-4b97-b3cd-06d2081ac6fa",
   "metadata": {},
   "outputs": [
    {
     "name": "stdout",
     "output_type": "stream",
     "text": [
      "10\n",
      "20\n",
      "30\n"
     ]
    }
   ],
   "source": [
    "for i in a:\n",
    "    if type(i) == list:\n",
    "        for num in i:\n",
    "            print(num)"
   ]
  },
  {
   "cell_type": "code",
   "execution_count": 44,
   "id": "ff392329-9061-45f4-81f8-325a82a1e4f1",
   "metadata": {},
   "outputs": [],
   "source": [
    "# dectionary"
   ]
  },
  {
   "cell_type": "code",
   "execution_count": 45,
   "id": "b1ddca15-05d4-4e8e-842c-6b75575dc3f4",
   "metadata": {},
   "outputs": [],
   "source": [
    "E = {'D':20,'S':60,'W':90,'O':50}"
   ]
  },
  {
   "cell_type": "code",
   "execution_count": 47,
   "id": "ef7f20da-55e3-4def-bb96-ac88f47f6be4",
   "metadata": {},
   "outputs": [
    {
     "data": {
      "text/plain": [
       "20"
      ]
     },
     "execution_count": 47,
     "metadata": {},
     "output_type": "execute_result"
    }
   ],
   "source": [
    "E['D']"
   ]
  },
  {
   "cell_type": "code",
   "execution_count": 49,
   "id": "128ccc85-cc3f-4fcd-8169-052ba90c3fef",
   "metadata": {},
   "outputs": [],
   "source": [
    "E['O'] = 40"
   ]
  },
  {
   "cell_type": "code",
   "execution_count": 50,
   "id": "904aa788-61d1-42d7-92e0-7e476f56bc73",
   "metadata": {},
   "outputs": [
    {
     "data": {
      "text/plain": [
       "{'D': 20, 'S': 60, 'W': 90, 'O': 40}"
      ]
     },
     "execution_count": 50,
     "metadata": {},
     "output_type": "execute_result"
    }
   ],
   "source": [
    "E"
   ]
  },
  {
   "cell_type": "code",
   "execution_count": 51,
   "id": "cd064e6b-4f5f-442a-946a-4068ce30bf38",
   "metadata": {},
   "outputs": [],
   "source": [
    "E['N'] = 70"
   ]
  },
  {
   "cell_type": "code",
   "execution_count": 52,
   "id": "725bc046-8ad7-483c-be83-4f0d04cc929a",
   "metadata": {},
   "outputs": [
    {
     "data": {
      "text/plain": [
       "{'D': 20, 'S': 60, 'W': 90, 'O': 40, 'N': 70}"
      ]
     },
     "execution_count": 52,
     "metadata": {},
     "output_type": "execute_result"
    }
   ],
   "source": [
    "E"
   ]
  },
  {
   "cell_type": "code",
   "execution_count": 53,
   "id": "9ffae743-2c66-40c5-a5bd-2df329689a21",
   "metadata": {},
   "outputs": [],
   "source": [
    "#Set"
   ]
  },
  {
   "cell_type": "code",
   "execution_count": 54,
   "id": "a295bfe7-d251-40e5-8ea3-498d963f17a2",
   "metadata": {},
   "outputs": [],
   "source": [
    "s = {1,1,2,3,3,4,5,6,6}"
   ]
  },
  {
   "cell_type": "code",
   "execution_count": 55,
   "id": "c368cc1a-5ab0-4421-897a-8ff443a67a02",
   "metadata": {},
   "outputs": [
    {
     "data": {
      "text/plain": [
       "set"
      ]
     },
     "execution_count": 55,
     "metadata": {},
     "output_type": "execute_result"
    }
   ],
   "source": [
    "type(s)"
   ]
  },
  {
   "cell_type": "code",
   "execution_count": 56,
   "id": "7cd4dde5-cddc-4841-b6bd-a9fdf04f38c7",
   "metadata": {},
   "outputs": [
    {
     "data": {
      "text/plain": [
       "{1, 2, 3, 4, 5, 6}"
      ]
     },
     "execution_count": 56,
     "metadata": {},
     "output_type": "execute_result"
    }
   ],
   "source": [
    "s"
   ]
  },
  {
   "cell_type": "code",
   "execution_count": 57,
   "id": "c032b2d6-7a96-4a29-b5cb-2c8c9b0e461c",
   "metadata": {},
   "outputs": [],
   "source": [
    "b ={10,2,30,4,6,7}"
   ]
  },
  {
   "cell_type": "code",
   "execution_count": 58,
   "id": "0a654ce1-f4fc-4e97-a48d-82079749a8f1",
   "metadata": {},
   "outputs": [
    {
     "data": {
      "text/plain": [
       "{1, 2, 3, 4, 5, 6, 7, 10, 30}"
      ]
     },
     "execution_count": 58,
     "metadata": {},
     "output_type": "execute_result"
    }
   ],
   "source": [
    "s.union(b)"
   ]
  },
  {
   "cell_type": "code",
   "execution_count": 59,
   "id": "e0ad0f63-3115-4f0d-afed-8e9d4c39b314",
   "metadata": {},
   "outputs": [
    {
     "data": {
      "text/plain": [
       "{2, 4, 6}"
      ]
     },
     "execution_count": 59,
     "metadata": {},
     "output_type": "execute_result"
    }
   ],
   "source": [
    "s.intersection(b)"
   ]
  },
  {
   "cell_type": "code",
   "execution_count": 61,
   "id": "0192b333-2b89-43c2-b6b4-5826369ba59a",
   "metadata": {},
   "outputs": [],
   "source": [
    "s.add(44)"
   ]
  },
  {
   "cell_type": "code",
   "execution_count": 62,
   "id": "6d1d1572-5a8d-44c6-985e-c3caf2b30fae",
   "metadata": {},
   "outputs": [
    {
     "data": {
      "text/plain": [
       "{1, 2, 3, 4, 5, 6, 44}"
      ]
     },
     "execution_count": 62,
     "metadata": {},
     "output_type": "execute_result"
    }
   ],
   "source": [
    "s"
   ]
  },
  {
   "cell_type": "code",
   "execution_count": 63,
   "id": "e718f201-21ef-4410-abe3-f7c1661c0d93",
   "metadata": {},
   "outputs": [],
   "source": [
    "# if- else"
   ]
  },
  {
   "cell_type": "code",
   "execution_count": 2,
   "id": "11b1ff0f-0426-4d0b-94f4-361a3344beed",
   "metadata": {},
   "outputs": [],
   "source": [
    "marks = 68"
   ]
  },
  {
   "cell_type": "code",
   "execution_count": 3,
   "id": "8909073d-451f-496a-9bf4-581ee76371d1",
   "metadata": {},
   "outputs": [
    {
     "name": "stdout",
     "output_type": "stream",
     "text": [
      "pass\n"
     ]
    }
   ],
   "source": [
    "if marks > 60:\n",
    "    print('pass')\n",
    "else:\n",
    "    print('Fail')"
   ]
  },
  {
   "cell_type": "code",
   "execution_count": null,
   "id": "d568615d-6eb2-4130-99dd-96dda8fb482e",
   "metadata": {},
   "outputs": [],
   "source": [
    "# multiple condition ,elif, if ,else"
   ]
  },
  {
   "cell_type": "code",
   "execution_count": 75,
   "id": "1ae04702-9d32-4226-9039-86396725d8c8",
   "metadata": {},
   "outputs": [],
   "source": [
    "age = 10"
   ]
  },
  {
   "cell_type": "code",
   "execution_count": 76,
   "id": "95bfeb8c-7840-4a2a-8810-8c8558b78260",
   "metadata": {},
   "outputs": [
    {
     "name": "stdout",
     "output_type": "stream",
     "text": [
      "Teenage\n"
     ]
    }
   ],
   "source": [
    "if age > 90:\n",
    "    print('old person')\n",
    "elif age > 39:\n",
    "    print('Working')\n",
    "elif age > 15:\n",
    "    print('Student')\n",
    "else:\n",
    "    print('Teenage')"
   ]
  },
  {
   "cell_type": "code",
   "execution_count": 77,
   "id": "dfd84b03-8e4b-48fc-a231-574ee8876e5b",
   "metadata": {},
   "outputs": [],
   "source": [
    "# for loop"
   ]
  },
  {
   "cell_type": "code",
   "execution_count": 78,
   "id": "68b9ad6b-f7c3-4efd-81e4-ee2a4a96e376",
   "metadata": {},
   "outputs": [
    {
     "name": "stdout",
     "output_type": "stream",
     "text": [
      "d\n",
      "a\n",
      "t\n",
      "a\n"
     ]
    }
   ],
   "source": [
    "for i in 'data':\n",
    "    print(i)"
   ]
  },
  {
   "cell_type": "code",
   "execution_count": 79,
   "id": "bf660a48-b1a0-48c8-a7fe-68bf9ed8f8ee",
   "metadata": {},
   "outputs": [
    {
     "name": "stdout",
     "output_type": "stream",
     "text": [
      "1\n",
      "2\n",
      "3\n",
      "4\n",
      "5\n",
      "6\n",
      "7\n",
      "8\n",
      "9\n",
      "10\n",
      "11\n",
      "12\n",
      "13\n",
      "14\n"
     ]
    }
   ],
   "source": [
    "for i in range(1,15):\n",
    "    print(i)"
   ]
  },
  {
   "cell_type": "code",
   "execution_count": 80,
   "id": "e96a4376-bd60-4ed1-b188-2ee349b5d464",
   "metadata": {},
   "outputs": [
    {
     "name": "stdout",
     "output_type": "stream",
     "text": [
      "HEY How are you\n",
      "HEY How are you\n",
      "HEY How are you\n",
      "HEY How are you\n",
      "HEY How are you\n",
      "HEY How are you\n"
     ]
    }
   ],
   "source": [
    "for i in range(6):\n",
    "    print(\"HEY How are you\")"
   ]
  },
  {
   "cell_type": "code",
   "execution_count": 81,
   "id": "7069a2f9-0f9a-489a-bc61-1dbdafd30990",
   "metadata": {},
   "outputs": [],
   "source": [
    "# nested loop"
   ]
  },
  {
   "cell_type": "code",
   "execution_count": 92,
   "id": "5940e412-ba59-4c8b-b33c-fab668341b49",
   "metadata": {},
   "outputs": [],
   "source": [
    "l = [10,33.11,55,99,71,'sneha',44.+4j]"
   ]
  },
  {
   "cell_type": "code",
   "execution_count": 93,
   "id": "db3499a9-a621-4e30-8533-9546352360d4",
   "metadata": {},
   "outputs": [
    {
     "name": "stdout",
     "output_type": "stream",
     "text": [
      "10\n",
      "33.11\n",
      "55\n",
      "99\n",
      "71\n"
     ]
    }
   ],
   "source": [
    "for i in l:\n",
    "    if type(i) == int:\n",
    "        print(i)\n",
    "    elif type(i) == float:\n",
    "         print(i)"
   ]
  },
  {
   "cell_type": "code",
   "execution_count": 97,
   "id": "3ee8388c-fbec-46a9-9b1a-13a264fffe8f",
   "metadata": {},
   "outputs": [
    {
     "name": "stdout",
     "output_type": "stream",
     "text": [
      "1\n",
      "2\n",
      "3\n",
      "4\n",
      "5\n",
      "6\n"
     ]
    }
   ],
   "source": [
    "for i in range(1,10):\n",
    "    if i == 7:\n",
    "        break\n",
    "    print(i)\n",
    "    "
   ]
  },
  {
   "cell_type": "code",
   "execution_count": 1,
   "id": "32d5f8f6-ba72-42d9-ad06-63ab1deba58e",
   "metadata": {},
   "outputs": [
    {
     "name": "stdout",
     "output_type": "stream",
     "text": [
      "20\n",
      "21\n",
      "23\n",
      "24\n",
      "25\n",
      "26\n",
      "27\n",
      "28\n",
      "29\n"
     ]
    }
   ],
   "source": [
    "for i in range(20,30):\n",
    "    if i == 22:\n",
    "        continue\n",
    "    print(i)"
   ]
  },
  {
   "cell_type": "code",
   "execution_count": 1,
   "id": "9b714989-29b0-4fd6-b127-dda6a1d35d2c",
   "metadata": {},
   "outputs": [],
   "source": [
    "s = [10,20,30,]"
   ]
  },
  {
   "cell_type": "code",
   "execution_count": 2,
   "id": "ddbca897-f6e1-4bd9-b622-3d40d0677836",
   "metadata": {},
   "outputs": [],
   "source": [
    "s.extend([80,60,90])"
   ]
  },
  {
   "cell_type": "code",
   "execution_count": 3,
   "id": "29a6c905-f8c9-40c2-852a-0da6403488e4",
   "metadata": {},
   "outputs": [
    {
     "data": {
      "text/plain": [
       "[10, 20, 30, 80, 60, 90]"
      ]
     },
     "execution_count": 3,
     "metadata": {},
     "output_type": "execute_result"
    }
   ],
   "source": [
    "s"
   ]
  },
  {
   "cell_type": "code",
   "execution_count": 1,
   "id": "befff6d7-b61f-4593-a83c-1554ea6cd1d1",
   "metadata": {},
   "outputs": [],
   "source": [
    "l = [1,2,3,4,5]"
   ]
  },
  {
   "cell_type": "code",
   "execution_count": 2,
   "id": "225019bf-d9aa-47ac-9f65-6c48eca8e31a",
   "metadata": {},
   "outputs": [
    {
     "name": "stdout",
     "output_type": "stream",
     "text": [
      "1\n",
      "2\n",
      "3\n",
      "4\n",
      "5\n"
     ]
    }
   ],
   "source": [
    "for i in l:\n",
    "    print(i)"
   ]
  },
  {
   "cell_type": "code",
   "execution_count": 2,
   "id": "9d128f4b-15b5-427d-ade7-c0c1bfbf17ba",
   "metadata": {},
   "outputs": [],
   "source": [
    "l = ['Hello',1.5,11,22,True,[1.0,2,3,'how']]"
   ]
  },
  {
   "cell_type": "code",
   "execution_count": 9,
   "id": "b8ce6a39-2178-471f-8137-5e517718270e",
   "metadata": {},
   "outputs": [
    {
     "name": "stdout",
     "output_type": "stream",
     "text": [
      "11\n",
      "22\n",
      "2\n",
      "3\n"
     ]
    }
   ],
   "source": [
    "for i in l:\n",
    "    if type(i) == int:\n",
    "        print(i)\n",
    "        \n",
    "    elif  type(i) == list:\n",
    "        for num in i:\n",
    "            if type(num) == int:\n",
    "                print(num)\n",
    "        "
   ]
  },
  {
   "cell_type": "code",
   "execution_count": 7,
   "id": "fea59be2-ba87-415a-a926-e8168dde4c38",
   "metadata": {},
   "outputs": [
    {
     "name": "stdout",
     "output_type": "stream",
     "text": [
      "1.0\n",
      "2\n",
      "3\n",
      "how\n"
     ]
    }
   ],
   "source": [
    "for i in l:\n",
    "    if type(i) == list:\n",
    "        for num in i:\n",
    "            print(num)"
   ]
  },
  {
   "cell_type": "code",
   "execution_count": 14,
   "id": "740fc72f-54f7-4289-8fc9-a12daf066eba",
   "metadata": {},
   "outputs": [
    {
     "name": "stdout",
     "output_type": "stream",
     "text": [
      "1.5\n",
      "11\n",
      "22\n",
      "2\n",
      "3\n",
      "1.0\n"
     ]
    }
   ],
   "source": [
    "for i in l:\n",
    "    if type(i) == int:\n",
    "        print(i)\n",
    "    elif type(i) == float:\n",
    "        print(i)\n",
    "    elif type(i) == list:\n",
    "        for num in i:\n",
    "            if type(num) == int:\n",
    "                print(num)\n",
    "        for num in i:\n",
    "            if type(num) == float:\n",
    "                print(num)"
   ]
  },
  {
   "cell_type": "code",
   "execution_count": 15,
   "id": "cceac4e1-7e68-4ec0-8a52-5ab1f5d0a06a",
   "metadata": {},
   "outputs": [
    {
     "name": "stdout",
     "output_type": "stream",
     "text": [
      "H\n",
      "e\n",
      "l\n",
      "l\n",
      "o\n"
     ]
    }
   ],
   "source": [
    "for i in l:\n",
    "    if type(i) == str:\n",
    "        for char in i:\n",
    "            print(char)"
   ]
  },
  {
   "cell_type": "code",
   "execution_count": 16,
   "id": "a7cf07ed-3e2f-4af5-b9dd-95db9f6f9734",
   "metadata": {},
   "outputs": [
    {
     "name": "stdout",
     "output_type": "stream",
     "text": [
      "Hello\n"
     ]
    }
   ],
   "source": [
    "for i in l:\n",
    "    if type(i) == str:\n",
    "        print(i)"
   ]
  },
  {
   "cell_type": "code",
   "execution_count": 19,
   "id": "68258a35-06eb-4352-befe-e7b3803eb94b",
   "metadata": {},
   "outputs": [
    {
     "name": "stdout",
     "output_type": "stream",
     "text": [
      "Hello\n",
      "how\n"
     ]
    }
   ],
   "source": [
    "for i in l:\n",
    "    if type(i) == str:\n",
    "        print(i)\n",
    "    elif type(i) ==list:\n",
    "        for char in i:\n",
    "            if type(char) == str:\n",
    "                print(char)\n",
    "                "
   ]
  },
  {
   "cell_type": "code",
   "execution_count": 17,
   "id": "48d2f065-6ebc-4bd1-8a27-3fc7961ff68c",
   "metadata": {},
   "outputs": [],
   "source": [
    "def docstring():\n",
    "    \"\"\" this is practice file for test.\n",
    "    today is my test on basic question\"\"\"\n",
    "    print('test on basic question')"
   ]
  },
  {
   "cell_type": "code",
   "execution_count": 19,
   "id": "c8546d7f-d1c0-4e29-aea0-52abe5e7d0c1",
   "metadata": {},
   "outputs": [],
   "source": [
    "def hello():\n",
    "    \"\"\"Hello this is practice file.\n",
    "    today is our test on all basic question\"\"\"\n",
    "    print('all basic question')"
   ]
  },
  {
   "cell_type": "code",
   "execution_count": 23,
   "id": "bcb672cb-f387-4618-b78b-7bf8f17e64d7",
   "metadata": {},
   "outputs": [
    {
     "ename": "TypeError",
     "evalue": "print() takes 0 positional arguments but 1 was given",
     "output_type": "error",
     "traceback": [
      "\u001b[1;31m---------------------------------------------------------------------------\u001b[0m",
      "\u001b[1;31mTypeError\u001b[0m                                 Traceback (most recent call last)",
      "Cell \u001b[1;32mIn[23], line 1\u001b[0m\n\u001b[1;32m----> 1\u001b[0m hello()\n",
      "Cell \u001b[1;32mIn[21], line 4\u001b[0m, in \u001b[0;36mhello\u001b[1;34m()\u001b[0m\n\u001b[0;32m      1\u001b[0m \u001b[38;5;28;01mdef\u001b[39;00m \u001b[38;5;21mhello\u001b[39m():\n\u001b[0;32m      2\u001b[0m \u001b[38;5;250m    \u001b[39m\u001b[38;5;124;03m\"\"\"this is my hello function.\u001b[39;00m\n\u001b[0;32m      3\u001b[0m \u001b[38;5;124;03m    this is going to write hello python name\"\"\"\u001b[39;00m\n\u001b[1;32m----> 4\u001b[0m     \u001b[38;5;28mprint\u001b[39m(\u001b[38;5;124m'\u001b[39m\u001b[38;5;124m hello python name\u001b[39m\u001b[38;5;124m'\u001b[39m)\n",
      "\u001b[1;31mTypeError\u001b[0m: print() takes 0 positional arguments but 1 was given"
     ]
    }
   ],
   "source": [
    "hello()"
   ]
  },
  {
   "cell_type": "code",
   "execution_count": 24,
   "id": "af08ddf2-e730-4dfc-9dcb-2e3163159be1",
   "metadata": {},
   "outputs": [],
   "source": [
    "def local():\n",
    "    l = []    # loal variable\n",
    "    return 'hii'"
   ]
  },
  {
   "cell_type": "code",
   "execution_count": 26,
   "id": "b3a4848d-6e7c-4f77-948c-3c762c8e86ab",
   "metadata": {},
   "outputs": [],
   "source": [
    "k = [1,2,3,4,5]  # global"
   ]
  },
  {
   "cell_type": "code",
   "execution_count": 27,
   "id": "1cfdb067-dc8a-4a44-b7f0-5bd46a347f3f",
   "metadata": {},
   "outputs": [
    {
     "data": {
      "text/plain": [
       "[1, 2, 3, 4, 5]"
      ]
     },
     "execution_count": 27,
     "metadata": {},
     "output_type": "execute_result"
    }
   ],
   "source": [
    "k"
   ]
  },
  {
   "cell_type": "code",
   "execution_count": 38,
   "id": "33d97733-2310-4705-b630-479ce7d26413",
   "metadata": {},
   "outputs": [],
   "source": [
    "def even_odd(x):\n",
    "    if x%2 == 0:\n",
    "        return 'even number',x\n",
    "    else:\n",
    "        return 'odd number',x"
   ]
  },
  {
   "cell_type": "code",
   "execution_count": 39,
   "id": "41369488-ac90-4c01-839c-eabfdb8de64b",
   "metadata": {},
   "outputs": [
    {
     "data": {
      "text/plain": [
       "('even number', 10)"
      ]
     },
     "execution_count": 39,
     "metadata": {},
     "output_type": "execute_result"
    }
   ],
   "source": [
    "even_odd(10)"
   ]
  },
  {
   "cell_type": "code",
   "execution_count": 40,
   "id": "bfd864e1-6557-4f60-a742-72e9251f6b9e",
   "metadata": {},
   "outputs": [],
   "source": [
    "def square(a):\n",
    "    return a* a"
   ]
  },
  {
   "cell_type": "code",
   "execution_count": 41,
   "id": "8315f5e5-0519-4186-b534-4e10d704bdfd",
   "metadata": {},
   "outputs": [
    {
     "data": {
      "text/plain": [
       "9"
      ]
     },
     "execution_count": 41,
     "metadata": {},
     "output_type": "execute_result"
    }
   ],
   "source": [
    "square(3)"
   ]
  },
  {
   "cell_type": "code",
   "execution_count": 42,
   "id": "77b8d5a0-38be-4684-a930-a61d9201df39",
   "metadata": {},
   "outputs": [],
   "source": [
    "def even_odd(*args):\n",
    "    even =[]\n",
    "    odd = []\n",
    "    for i in args:\n",
    "        if i % 2 == 0:\n",
    "            even.append(i)\n",
    "        else:\n",
    "            odd.append(i)\n",
    "            return even,'even number',odd ,'odd number '"
   ]
  },
  {
   "cell_type": "code",
   "execution_count": 43,
   "id": "dd2e7a5d-2ba6-4d94-8445-ade0a3b46176",
   "metadata": {},
   "outputs": [
    {
     "data": {
      "text/plain": [
       "([10, 20], 'even number', [55], 'odd number ')"
      ]
     },
     "execution_count": 43,
     "metadata": {},
     "output_type": "execute_result"
    }
   ],
   "source": [
    "even_odd(10,20,55,34,7,4,33)"
   ]
  },
  {
   "cell_type": "code",
   "execution_count": null,
   "id": "2edd04db-eeb0-481f-9297-d53d89d48895",
   "metadata": {},
   "outputs": [],
   "source": []
  }
 ],
 "metadata": {
  "kernelspec": {
   "display_name": "Python 3 (ipykernel)",
   "language": "python",
   "name": "python3"
  },
  "language_info": {
   "codemirror_mode": {
    "name": "ipython",
    "version": 3
   },
   "file_extension": ".py",
   "mimetype": "text/x-python",
   "name": "python",
   "nbconvert_exporter": "python",
   "pygments_lexer": "ipython3",
   "version": "3.12.7"
  }
 },
 "nbformat": 4,
 "nbformat_minor": 5
}
