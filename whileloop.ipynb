{
 "cells": [
  {
   "cell_type": "markdown",
   "id": "c0c4e120-66e0-4a0d-9f43-e35c33d300c3",
   "metadata": {},
   "source": [
    "# while loop"
   ]
  },
  {
   "cell_type": "code",
   "execution_count": 1,
   "id": "351970a9-354b-4acd-aa59-af52ad4fc67e",
   "metadata": {},
   "outputs": [],
   "source": [
    "age = 15"
   ]
  },
  {
   "cell_type": "code",
   "execution_count": 2,
   "id": "8174c0c9-cc64-435c-8689-4226f1e7cb17",
   "metadata": {},
   "outputs": [
    {
     "name": "stdout",
     "output_type": "stream",
     "text": [
      "student 15\n",
      "student 16\n",
      "student 17\n"
     ]
    }
   ],
   "source": [
    "while age < 18:\n",
    "    print('student', age)\n",
    "    age = age + 1"
   ]
  },
  {
   "cell_type": "code",
   "execution_count": 3,
   "id": "783ea5a9-d0cd-4cf1-add2-24bed4567590",
   "metadata": {},
   "outputs": [],
   "source": [
    "marks = 40"
   ]
  },
  {
   "cell_type": "code",
   "execution_count": 4,
   "id": "83ed7cf5-93ab-40db-9860-ed7f44a14c0d",
   "metadata": {},
   "outputs": [
    {
     "name": "stdout",
     "output_type": "stream",
     "text": [
      "40\n",
      "39\n",
      "38\n",
      "37\n",
      "36\n"
     ]
    }
   ],
   "source": [
    "while marks > 35:\n",
    "    print(marks)\n",
    "    marks = marks - 1"
   ]
  },
  {
   "cell_type": "code",
   "execution_count": 6,
   "id": "036a28f6-3ad3-46f2-af76-a4fb233c73f2",
   "metadata": {},
   "outputs": [
    {
     "data": {
      "text/plain": [
       "True"
      ]
     },
     "execution_count": 6,
     "metadata": {},
     "output_type": "execute_result"
    }
   ],
   "source": [
    "'hello' == 'hello'"
   ]
  },
  {
   "cell_type": "code",
   "execution_count": 7,
   "id": "6f7dfeeb-855a-48f7-8b15-a2e843266ab3",
   "metadata": {},
   "outputs": [
    {
     "data": {
      "text/plain": [
       "False"
      ]
     },
     "execution_count": 7,
     "metadata": {},
     "output_type": "execute_result"
    }
   ],
   "source": [
    "'hello' != 'hello'"
   ]
  },
  {
   "cell_type": "code",
   "execution_count": 11,
   "id": "2445707d-b3c4-451c-ae7b-51ef3d31e03a",
   "metadata": {},
   "outputs": [
    {
     "name": "stdout",
     "output_type": "stream",
     "text": [
      "Hello\n"
     ]
    },
    {
     "name": "stdin",
     "output_type": "stream",
     "text": [
      "Enter \"stop\" to exit loop hello\n"
     ]
    },
    {
     "name": "stdout",
     "output_type": "stream",
     "text": [
      "hello\n"
     ]
    },
    {
     "name": "stdin",
     "output_type": "stream",
     "text": [
      "Enter \"stop\" to exit loop stop\n"
     ]
    }
   ],
   "source": [
    "button = 'Hello'\n",
    "while button != 'stop':\n",
    "    print(button)\n",
    "    button = input('Enter \"stop\" to exit loop')"
   ]
  },
  {
   "cell_type": "code",
   "execution_count": 9,
   "id": "bff77cb2-1556-4f36-abe3-9a4598034318",
   "metadata": {},
   "outputs": [
    {
     "data": {
      "text/plain": [
       "True"
      ]
     },
     "execution_count": 9,
     "metadata": {},
     "output_type": "execute_result"
    }
   ],
   "source": [
    "'Hello' != 'stop'"
   ]
  },
  {
   "cell_type": "code",
   "execution_count": 10,
   "id": "8e97121c-1fdc-41f3-8839-3a349eb47705",
   "metadata": {},
   "outputs": [
    {
     "data": {
      "text/plain": [
       "False"
      ]
     },
     "execution_count": 10,
     "metadata": {},
     "output_type": "execute_result"
    }
   ],
   "source": [
    "'stop' != 'stop'"
   ]
  },
  {
   "cell_type": "code",
   "execution_count": 10,
   "id": "2e90cda0-9cdd-4181-aa0e-65f5663c5160",
   "metadata": {},
   "outputs": [],
   "source": [
    "num = 10"
   ]
  },
  {
   "cell_type": "code",
   "execution_count": 11,
   "id": "287655de-3c33-4514-ae1c-a903446a2b28",
   "metadata": {},
   "outputs": [
    {
     "name": "stdout",
     "output_type": "stream",
     "text": [
      "10\n",
      "9\n",
      "8\n",
      "7\n",
      "6\n",
      "5\n",
      "4\n",
      "3\n",
      "2\n",
      "1\n"
     ]
    }
   ],
   "source": [
    "while num > 0:\n",
    "    print(num)\n",
    "    num = num - 1"
   ]
  },
  {
   "cell_type": "code",
   "execution_count": 16,
   "id": "40d36255-6a3a-411d-9d24-acfc8ed54c16",
   "metadata": {},
   "outputs": [
    {
     "data": {
      "text/plain": [
       "True"
      ]
     },
     "execution_count": 16,
     "metadata": {},
     "output_type": "execute_result"
    }
   ],
   "source": [
    "0 == 0"
   ]
  },
  {
   "cell_type": "code",
   "execution_count": 17,
   "id": "a39e8c7a-4609-4001-a203-e15259676cd3",
   "metadata": {},
   "outputs": [],
   "source": [
    "# sum of 10 numbers"
   ]
  },
  {
   "cell_type": "code",
   "execution_count": 4,
   "id": "68acd69a-520a-4d3b-b5bd-f44c1b81ce88",
   "metadata": {},
   "outputs": [],
   "source": [
    "num = 10\n",
    "sum = 0\n",
    "while num > 0:\n",
    "    sum = sum + num\n",
    "    num = num - 1"
   ]
  },
  {
   "cell_type": "code",
   "execution_count": 5,
   "id": "8f53c6fc-9936-49fd-9cc7-1a25d375a01c",
   "metadata": {},
   "outputs": [
    {
     "data": {
      "text/plain": [
       "55"
      ]
     },
     "execution_count": 5,
     "metadata": {},
     "output_type": "execute_result"
    }
   ],
   "source": [
    "sum"
   ]
  },
  {
   "cell_type": "code",
   "execution_count": 23,
   "id": "617502e6-44fc-440f-b968-91e34e32e188",
   "metadata": {},
   "outputs": [],
   "source": [
    "sum = 0\n",
    "for i in range(1,16):\n",
    "    sum = sum + i         #sum += i\n",
    "    "
   ]
  },
  {
   "cell_type": "code",
   "execution_count": 24,
   "id": "c11b7a82-a1a4-49c7-97bd-f22a2a6b8461",
   "metadata": {},
   "outputs": [
    {
     "data": {
      "text/plain": [
       "120"
      ]
     },
     "execution_count": 24,
     "metadata": {},
     "output_type": "execute_result"
    }
   ],
   "source": [
    "sum"
   ]
  },
  {
   "cell_type": "code",
   "execution_count": 29,
   "id": "cb961f4d-ab01-47f1-a1fe-5fddd98418fb",
   "metadata": {},
   "outputs": [],
   "source": [
    "# sum of natural number"
   ]
  },
  {
   "cell_type": "code",
   "execution_count": 33,
   "id": "e8359e1a-b43e-4e6f-b1af-650688fd8a3d",
   "metadata": {},
   "outputs": [],
   "source": [
    " n = 15"
   ]
  },
  {
   "cell_type": "code",
   "execution_count": 34,
   "id": "b65ee5b0-64be-4d12-b58e-3dd8a034fb6c",
   "metadata": {},
   "outputs": [
    {
     "data": {
      "text/plain": [
       "120.0"
      ]
     },
     "execution_count": 34,
     "metadata": {},
     "output_type": "execute_result"
    }
   ],
   "source": [
    "n * (n+1) / 2"
   ]
  },
  {
   "cell_type": "code",
   "execution_count": 35,
   "id": "e1c3157a-dba9-402d-8523-7c2b85bfc556",
   "metadata": {},
   "outputs": [],
   "source": [
    "# break , Continue, pass"
   ]
  },
  {
   "cell_type": "markdown",
   "id": "dd4e0e08-7fb2-4cea-b025-4f678d4a4824",
   "metadata": {},
   "source": [
    "# Break"
   ]
  },
  {
   "cell_type": "code",
   "execution_count": 80,
   "id": "f3689a7a-ecaa-4165-9d9d-f785187e1f93",
   "metadata": {},
   "outputs": [
    {
     "name": "stdout",
     "output_type": "stream",
     "text": [
      "1\n",
      "2\n"
     ]
    }
   ],
   "source": [
    "for i in range (1,5):\n",
    "    if i == 3:\n",
    "        break\n",
    "    print(i)"
   ]
  },
  {
   "cell_type": "code",
   "execution_count": 81,
   "id": "db573dea-c0ba-4ceb-b5fc-31f7bc12b690",
   "metadata": {},
   "outputs": [
    {
     "name": "stdout",
     "output_type": "stream",
     "text": [
      "D\n",
      "a\n",
      "t\n",
      "a\n",
      " \n",
      "S\n"
     ]
    }
   ],
   "source": [
    "for i in 'Data Science':\n",
    "    if i =='c':\n",
    "        break\n",
    "    print(i)"
   ]
  },
  {
   "cell_type": "markdown",
   "id": "b1a9e587-7429-4517-a974-ac649b04ba5f",
   "metadata": {},
   "source": [
    "# Continue"
   ]
  },
  {
   "cell_type": "code",
   "execution_count": 96,
   "id": "60192d75-3e68-42e3-be2c-efb3bc0222bf",
   "metadata": {},
   "outputs": [
    {
     "name": "stdout",
     "output_type": "stream",
     "text": [
      "1\n",
      "2\n",
      "4\n"
     ]
    }
   ],
   "source": [
    "for i in range(1,5):\n",
    "    if i == 3:\n",
    "        continue\n",
    "    print(i)"
   ]
  },
  {
   "cell_type": "code",
   "execution_count": 99,
   "id": "d6f5b251-4336-4f7f-9182-4ccaa94b024e",
   "metadata": {},
   "outputs": [
    {
     "name": "stdout",
     "output_type": "stream",
     "text": [
      "d\n",
      "t\n",
      " \n",
      "s\n",
      "c\n",
      "i\n",
      "e\n",
      "n\n",
      "c\n",
      "e\n"
     ]
    }
   ],
   "source": [
    "for i in 'data science':\n",
    "    if i == 'a':\n",
    "        continue\n",
    "    print(i)"
   ]
  },
  {
   "cell_type": "code",
   "execution_count": 77,
   "id": "0fa09968-dae1-4ee4-acc2-1d4817fe0c3f",
   "metadata": {},
   "outputs": [],
   "source": [
    "#pass    ----> timepass meaingless -----> fill the block of code"
   ]
  },
  {
   "cell_type": "code",
   "execution_count": 7,
   "id": "3d45f48f-8504-4ef6-8b77-da308eca3ba6",
   "metadata": {},
   "outputs": [],
   "source": [
    "for i in range(1,5):\n",
    "    if i == 3:\n",
    "        pass"
   ]
  },
  {
   "cell_type": "code",
   "execution_count": 3,
   "id": "22198fc4-370a-4b68-a5eb-adfc5da589b7",
   "metadata": {},
   "outputs": [
    {
     "name": "stdout",
     "output_type": "stream",
     "text": [
      "d\n",
      "a\n",
      "t\n",
      "a\n",
      " \n"
     ]
    }
   ],
   "source": [
    "for i in 'data science':\n",
    "    if i == 's':\n",
    "        break\n",
    "    print(i)"
   ]
  },
  {
   "cell_type": "code",
   "execution_count": 6,
   "id": "23f14c5a-8098-4df9-8929-a95645dc03c0",
   "metadata": {},
   "outputs": [
    {
     "name": "stdout",
     "output_type": "stream",
     "text": [
      "1\n",
      "2\n",
      "3\n",
      "4\n"
     ]
    }
   ],
   "source": [
    "for i in range(1,10):\n",
    "    if i == 5:\n",
    "        break\n",
    "    print(i)\n",
    "    \n"
   ]
  },
  {
   "cell_type": "code",
   "execution_count": 8,
   "id": "2ff4ff16-f3bd-4d5e-add2-6286d5fe28f0",
   "metadata": {},
   "outputs": [
    {
     "ename": "SyntaxError",
     "evalue": "incomplete input (3802962731.py, line 3)",
     "output_type": "error",
     "traceback": [
      "\u001b[1;36m  Cell \u001b[1;32mIn[8], line 3\u001b[1;36m\u001b[0m\n\u001b[1;33m    \u001b[0m\n\u001b[1;37m    ^\u001b[0m\n\u001b[1;31mSyntaxError\u001b[0m\u001b[1;31m:\u001b[0m incomplete input\n"
     ]
    }
   ],
   "source": [
    "for i in range(1,5):\n",
    "    if i == 3:\n",
    "        "
   ]
  },
  {
   "cell_type": "code",
   "execution_count": 9,
   "id": "773b4044-c80c-40e3-ba21-374035a4941f",
   "metadata": {},
   "outputs": [],
   "source": [
    "for i in range(1,5):\n",
    "    pass"
   ]
  },
  {
   "cell_type": "code",
   "execution_count": 2,
   "id": "4e14bde9-f34f-46b2-8ec7-d044d88c9cd6",
   "metadata": {},
   "outputs": [
    {
     "name": "stdin",
     "output_type": "stream",
     "text": [
      "Enter your age 52\n"
     ]
    }
   ],
   "source": [
    "age = int(input('Enter your age'))"
   ]
  },
  {
   "cell_type": "code",
   "execution_count": 4,
   "id": "29fac820-6e00-4be8-bf95-c50b41d7aa10",
   "metadata": {},
   "outputs": [
    {
     "data": {
      "text/plain": [
       "30"
      ]
     },
     "execution_count": 4,
     "metadata": {},
     "output_type": "execute_result"
    }
   ],
   "source": [
    "10 + 20 "
   ]
  },
  {
   "cell_type": "code",
   "execution_count": 6,
   "id": "5d42daa1-877d-49ed-bb7e-27f00b02c34c",
   "metadata": {},
   "outputs": [],
   "source": [
    "l = [1,2,3,[10,20,30],4,5]"
   ]
  },
  {
   "cell_type": "code",
   "execution_count": 7,
   "id": "d6e42cef-1d13-4399-ae3a-9075f749763d",
   "metadata": {},
   "outputs": [
    {
     "name": "stdout",
     "output_type": "stream",
     "text": [
      "10\n",
      "20\n",
      "30\n"
     ]
    }
   ],
   "source": [
    "for i in l:\n",
    "    if type(i) == list:\n",
    "        for num in i:\n",
    "            print(num)\n",
    "            "
   ]
  },
  {
   "cell_type": "code",
   "execution_count": 8,
   "id": "d80305f1-23d0-48e5-ad55-cabba71ce781",
   "metadata": {},
   "outputs": [],
   "source": [
    "d = {'A':20,'B':30,'D':40}"
   ]
  },
  {
   "cell_type": "code",
   "execution_count": 13,
   "id": "6e39448a-d140-4b2c-82f5-3056b5735eb0",
   "metadata": {},
   "outputs": [
    {
     "data": {
      "text/plain": [
       "{'A': 20, 'B': 30, 'D': 40}"
      ]
     },
     "execution_count": 13,
     "metadata": {},
     "output_type": "execute_result"
    }
   ],
   "source": [
    "d"
   ]
  },
  {
   "cell_type": "code",
   "execution_count": 16,
   "id": "9403cced-4bd5-4879-8847-999d2bdfea70",
   "metadata": {},
   "outputs": [
    {
     "data": {
      "text/plain": [
       "30"
      ]
     },
     "execution_count": 16,
     "metadata": {},
     "output_type": "execute_result"
    }
   ],
   "source": [
    "d ['B']"
   ]
  },
  {
   "cell_type": "code",
   "execution_count": 17,
   "id": "16600780-807f-41dc-aa43-062f844f1322",
   "metadata": {},
   "outputs": [],
   "source": [
    "d['D'] =70"
   ]
  },
  {
   "cell_type": "code",
   "execution_count": 18,
   "id": "b33e9c26-8ac0-444d-bafb-ffbec0ce8913",
   "metadata": {},
   "outputs": [
    {
     "data": {
      "text/plain": [
       "{'A': 20, 'B': 30, 'D': 70}"
      ]
     },
     "execution_count": 18,
     "metadata": {},
     "output_type": "execute_result"
    }
   ],
   "source": [
    "d"
   ]
  },
  {
   "cell_type": "code",
   "execution_count": 19,
   "id": "aa300b1f-b73d-4a3f-a9d6-b59fa00cd6ea",
   "metadata": {},
   "outputs": [],
   "source": [
    "d['E'] = 90"
   ]
  },
  {
   "cell_type": "code",
   "execution_count": null,
   "id": "6a683f15-4781-4243-bba2-339bf0258e00",
   "metadata": {},
   "outputs": [],
   "source": [
    "d"
   ]
  },
  {
   "cell_type": "code",
   "execution_count": null,
   "id": "b62a7132-474f-4e0c-b2ec-55a68c3727b7",
   "metadata": {},
   "outputs": [],
   "source": []
  },
  {
   "cell_type": "code",
   "execution_count": null,
   "id": "4acff74e-481a-4ac4-90bb-3328a3140b26",
   "metadata": {},
   "outputs": [],
   "source": []
  }
 ],
 "metadata": {
  "kernelspec": {
   "display_name": "Python 3 (ipykernel)",
   "language": "python",
   "name": "python3"
  },
  "language_info": {
   "codemirror_mode": {
    "name": "ipython",
    "version": 3
   },
   "file_extension": ".py",
   "mimetype": "text/x-python",
   "name": "python",
   "nbconvert_exporter": "python",
   "pygments_lexer": "ipython3",
   "version": "3.12.7"
  }
 },
 "nbformat": 4,
 "nbformat_minor": 5
}
