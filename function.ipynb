{
 "cells": [
  {
   "cell_type": "code",
   "execution_count": 1,
   "id": "0447d9d3-0ee0-4edf-8e82-bac457fcc7b4",
   "metadata": {},
   "outputs": [
    {
     "data": {
      "text/plain": [
       "0"
      ]
     },
     "execution_count": 1,
     "metadata": {},
     "output_type": "execute_result"
    }
   ],
   "source": [
    "10 % 2"
   ]
  },
  {
   "cell_type": "code",
   "execution_count": 2,
   "id": "50898c30-5758-443e-b9c4-367604f70e78",
   "metadata": {},
   "outputs": [
    {
     "data": {
      "text/plain": [
       "1"
      ]
     },
     "execution_count": 2,
     "metadata": {},
     "output_type": "execute_result"
    }
   ],
   "source": [
    "9%2"
   ]
  },
  {
   "cell_type": "code",
   "execution_count": 8,
   "id": "dad1d055-de54-4d83-b1e4-ff34a42e4650",
   "metadata": {},
   "outputs": [],
   "source": [
    "num = 42"
   ]
  },
  {
   "cell_type": "code",
   "execution_count": 9,
   "id": "8beec0ce-a635-4d50-8ddb-7f1296a19756",
   "metadata": {},
   "outputs": [
    {
     "name": "stdout",
     "output_type": "stream",
     "text": [
      "Even no 42\n"
     ]
    }
   ],
   "source": [
    "if num % 2 == 0:\n",
    "    print('Even no', num)\n",
    "else:\n",
    "    print('odd no',num)"
   ]
  },
  {
   "cell_type": "code",
   "execution_count": 10,
   "id": "44d43fd6-2dd9-48cf-9cfe-545581f646bc",
   "metadata": {},
   "outputs": [
    {
     "data": {
      "text/plain": [
       "0"
      ]
     },
     "execution_count": 10,
     "metadata": {},
     "output_type": "execute_result"
    }
   ],
   "source": [
    "num % 2"
   ]
  },
  {
   "cell_type": "code",
   "execution_count": 11,
   "id": "c07fe208-2e6c-4e35-a07c-670bbb7ee1b7",
   "metadata": {},
   "outputs": [
    {
     "data": {
      "text/plain": [
       "True"
      ]
     },
     "execution_count": 11,
     "metadata": {},
     "output_type": "execute_result"
    }
   ],
   "source": [
    "0 == 0"
   ]
  },
  {
   "cell_type": "code",
   "execution_count": 12,
   "id": "ee229f44-53c2-4516-878a-a47d6341e16d",
   "metadata": {},
   "outputs": [
    {
     "name": "stdout",
     "output_type": "stream",
     "text": [
      "odd number 3\n"
     ]
    }
   ],
   "source": [
    "num =3\n",
    "if num % 2 ==0:\n",
    "    print('Even number',num)\n",
    "else:\n",
    "    print('odd number',num)"
   ]
  },
  {
   "cell_type": "code",
   "execution_count": 17,
   "id": "b1cabfd5-6dbc-49d6-89e3-319ae273e294",
   "metadata": {},
   "outputs": [
    {
     "name": "stdout",
     "output_type": "stream",
     "text": [
      "Odd number 3\n"
     ]
    }
   ],
   "source": [
    "num =3\n",
    "if num % 2 == 1:\n",
    "    print('Odd number',num)\n",
    "else:\n",
    "    print('Even number',num)"
   ]
  },
  {
   "cell_type": "code",
   "execution_count": 18,
   "id": "44d1f447-368c-4a05-b1e6-3085df2cd213",
   "metadata": {},
   "outputs": [],
   "source": [
    "l = [1,3,6,3,7,8,2,5]"
   ]
  },
  {
   "cell_type": "code",
   "execution_count": 19,
   "id": "a51dbaa2-c264-4b9b-80d8-2fde021c1361",
   "metadata": {},
   "outputs": [
    {
     "name": "stdout",
     "output_type": "stream",
     "text": [
      "1\n",
      "3\n",
      "6\n",
      "3\n",
      "7\n",
      "8\n",
      "2\n",
      "5\n"
     ]
    }
   ],
   "source": [
    "for i in l:\n",
    "    print(i)"
   ]
  },
  {
   "cell_type": "code",
   "execution_count": 21,
   "id": "bb19ff44-376f-4ced-b3db-2c8d0edf67f6",
   "metadata": {},
   "outputs": [
    {
     "name": "stdout",
     "output_type": "stream",
     "text": [
      "6 Even number\n",
      "8 Even number\n",
      "2 Even number\n"
     ]
    }
   ],
   "source": [
    "for i in l:\n",
    "    if i % 2 == 0:\n",
    "        print(i,'Even number')"
   ]
  },
  {
   "cell_type": "code",
   "execution_count": 22,
   "id": "946270ae-21bc-492d-9b06-61b266679d32",
   "metadata": {},
   "outputs": [
    {
     "data": {
      "text/plain": [
       "[1, 3, 6, 3, 7, 8, 2, 5]"
      ]
     },
     "execution_count": 22,
     "metadata": {},
     "output_type": "execute_result"
    }
   ],
   "source": [
    "l"
   ]
  },
  {
   "cell_type": "code",
   "execution_count": 24,
   "id": "d60c13ac-9512-442d-a561-f3fffeca605d",
   "metadata": {},
   "outputs": [
    {
     "data": {
      "text/plain": [
       "1"
      ]
     },
     "execution_count": 24,
     "metadata": {},
     "output_type": "execute_result"
    }
   ],
   "source": [
    "l.count(1)"
   ]
  },
  {
   "cell_type": "code",
   "execution_count": 25,
   "id": "74349a9d-8e34-4529-97b1-bdbb018e2ac0",
   "metadata": {},
   "outputs": [
    {
     "data": {
      "text/plain": [
       "[1, 3, 6, 3, 7, 8, 2, 5]"
      ]
     },
     "execution_count": 25,
     "metadata": {},
     "output_type": "execute_result"
    }
   ],
   "source": [
    "l"
   ]
  },
  {
   "cell_type": "code",
   "execution_count": 26,
   "id": "5e94e3cd-7b3d-4678-b569-34e5b117d1ea",
   "metadata": {},
   "outputs": [
    {
     "data": {
      "text/plain": [
       "5"
      ]
     },
     "execution_count": 26,
     "metadata": {},
     "output_type": "execute_result"
    }
   ],
   "source": [
    "len('hello')"
   ]
  },
  {
   "cell_type": "markdown",
   "id": "68bd524f-deab-4fde-9c6d-9aa9f8aa21c2",
   "metadata": {},
   "source": [
    "# defining function"
   ]
  },
  {
   "cell_type": "code",
   "execution_count": 28,
   "id": "673f71c5-6973-4962-ba42-6906b9cee1a7",
   "metadata": {},
   "outputs": [],
   "source": [
    "def test():\n",
    "    print('Hello')"
   ]
  },
  {
   "cell_type": "code",
   "execution_count": 29,
   "id": "63118bcd-1f91-403e-b0d2-42f4c5f6b286",
   "metadata": {},
   "outputs": [
    {
     "name": "stdout",
     "output_type": "stream",
     "text": [
      "Hello\n"
     ]
    }
   ],
   "source": [
    "test()"
   ]
  },
  {
   "cell_type": "code",
   "execution_count": 30,
   "id": "409fd9f0-f32d-49d2-8e28-f3dcb9a51e5b",
   "metadata": {},
   "outputs": [],
   "source": [
    "def code1():\n",
    "    print('This is my code1 function')"
   ]
  },
  {
   "cell_type": "code",
   "execution_count": 31,
   "id": "62f38b86-62a7-4d32-9d46-a0291f413810",
   "metadata": {},
   "outputs": [
    {
     "name": "stdout",
     "output_type": "stream",
     "text": [
      "This is my code1 function\n"
     ]
    }
   ],
   "source": [
    "code1()"
   ]
  },
  {
   "cell_type": "markdown",
   "id": "5850b8de-12ba-451d-a630-0e1f4d1fc474",
   "metadata": {},
   "source": [
    "# how to right dockstring / description of function"
   ]
  },
  {
   "cell_type": "code",
   "execution_count": 100,
   "id": "dec358a6-a06a-4e02-8c34-1489c5a024b9",
   "metadata": {},
   "outputs": [],
   "source": [
    "def hello():\n",
    "    \"\"\"this is my hello function.\n",
    "    this is going to write hello python name\"\"\"\n",
    "    print(' hello python name')"
   ]
  },
  {
   "cell_type": "code",
   "execution_count": 34,
   "id": "406500a5-e6d4-4bfa-89ae-3873a3ce5fd7",
   "metadata": {},
   "outputs": [
    {
     "name": "stdout",
     "output_type": "stream",
     "text": [
      " hello python name\n"
     ]
    }
   ],
   "source": [
    "hello()"
   ]
  },
  {
   "cell_type": "raw",
   "id": "18db588a-aef7-426d-a696-9d8f5bb7e936",
   "metadata": {},
   "source": [
    "# questions\n",
    "1.what is function?\n",
    "----> function is going to execute specific task.\n",
    "----> execute block of code\n",
    "\n",
    "2. how to write function dockstring/description?\n",
    "--->In a triple quatas we will write it down.\n",
    "\n",
    "3. how to create a function?\n",
    "--> by writing def then function name () : then block of code."
   ]
  },
  {
   "cell_type": "code",
   "execution_count": 36,
   "id": "70b7a298-3a84-4b2d-a622-85ab8a923e82",
   "metadata": {},
   "outputs": [
    {
     "name": "stdout",
     "output_type": "stream",
     "text": [
      "Hello\n",
      "This is my code1 function\n"
     ]
    },
    {
     "ename": "TypeError",
     "evalue": "unsupported operand type(s) for +: 'NoneType' and 'NoneType'",
     "output_type": "error",
     "traceback": [
      "\u001b[1;31m---------------------------------------------------------------------------\u001b[0m",
      "\u001b[1;31mTypeError\u001b[0m                                 Traceback (most recent call last)",
      "Cell \u001b[1;32mIn[36], line 1\u001b[0m\n\u001b[1;32m----> 1\u001b[0m test() \u001b[38;5;241m+\u001b[39m  code1()\n",
      "\u001b[1;31mTypeError\u001b[0m: unsupported operand type(s) for +: 'NoneType' and 'NoneType'"
     ]
    }
   ],
   "source": [
    "test() +  code1()"
   ]
  },
  {
   "cell_type": "code",
   "execution_count": 37,
   "id": "dc564e08-5138-4128-b415-39a1c931fc2d",
   "metadata": {},
   "outputs": [
    {
     "name": "stdout",
     "output_type": "stream",
     "text": [
      "Hello\n"
     ]
    },
    {
     "data": {
      "text/plain": [
       "NoneType"
      ]
     },
     "execution_count": 37,
     "metadata": {},
     "output_type": "execute_result"
    }
   ],
   "source": [
    "type(test())"
   ]
  },
  {
   "cell_type": "code",
   "execution_count": 38,
   "id": "b288f5c3-58dd-4f97-9659-5e3768a3318e",
   "metadata": {},
   "outputs": [
    {
     "name": "stdout",
     "output_type": "stream",
     "text": [
      "This is my code1 function\n"
     ]
    },
    {
     "data": {
      "text/plain": [
       "NoneType"
      ]
     },
     "execution_count": 38,
     "metadata": {},
     "output_type": "execute_result"
    }
   ],
   "source": [
    "type(code1())"
   ]
  },
  {
   "cell_type": "code",
   "execution_count": 42,
   "id": "d5cd8f29-0c6d-407c-928f-e4f51b1ff5cd",
   "metadata": {},
   "outputs": [],
   "source": [
    "def test2():\n",
    "    print(5)"
   ]
  },
  {
   "cell_type": "code",
   "execution_count": 44,
   "id": "a1fb2bad-b7bd-4b69-907c-6c32f8d5fe4c",
   "metadata": {},
   "outputs": [
    {
     "name": "stdout",
     "output_type": "stream",
     "text": [
      "5\n"
     ]
    }
   ],
   "source": [
    "test2()"
   ]
  },
  {
   "cell_type": "code",
   "execution_count": 45,
   "id": "28829891-4d65-4497-af3b-02b08b880a43",
   "metadata": {},
   "outputs": [
    {
     "name": "stdout",
     "output_type": "stream",
     "text": [
      "5\n"
     ]
    },
    {
     "data": {
      "text/plain": [
       "NoneType"
      ]
     },
     "execution_count": 45,
     "metadata": {},
     "output_type": "execute_result"
    }
   ],
   "source": [
    "type(test2())"
   ]
  },
  {
   "cell_type": "code",
   "execution_count": 46,
   "id": "4aad0335-6e74-4b9e-b51f-7415c260d066",
   "metadata": {},
   "outputs": [],
   "source": [
    "def test3():\n",
    "    return 5"
   ]
  },
  {
   "cell_type": "code",
   "execution_count": 47,
   "id": "0265d62e-ec86-45a9-a647-009dbb839126",
   "metadata": {},
   "outputs": [
    {
     "data": {
      "text/plain": [
       "5"
      ]
     },
     "execution_count": 47,
     "metadata": {},
     "output_type": "execute_result"
    }
   ],
   "source": [
    "test3()"
   ]
  },
  {
   "cell_type": "code",
   "execution_count": 48,
   "id": "a39f3bcf-f24d-4e50-ba11-744fe57350f4",
   "metadata": {},
   "outputs": [
    {
     "data": {
      "text/plain": [
       "int"
      ]
     },
     "execution_count": 48,
     "metadata": {},
     "output_type": "execute_result"
    }
   ],
   "source": [
    "type(test3())"
   ]
  },
  {
   "cell_type": "code",
   "execution_count": 49,
   "id": "38f95b59-0365-429f-9f5c-74ca93d6f00a",
   "metadata": {},
   "outputs": [],
   "source": [
    "def test4():\n",
    "    return 10"
   ]
  },
  {
   "cell_type": "code",
   "execution_count": 50,
   "id": "43c851c6-42db-4add-a22c-f86722e1044d",
   "metadata": {},
   "outputs": [
    {
     "data": {
      "text/plain": [
       "10"
      ]
     },
     "execution_count": 50,
     "metadata": {},
     "output_type": "execute_result"
    }
   ],
   "source": [
    "test4()"
   ]
  },
  {
   "cell_type": "code",
   "execution_count": 51,
   "id": "bc45e6b1-9145-4cc5-8ce4-743cb04bf739",
   "metadata": {},
   "outputs": [
    {
     "data": {
      "text/plain": [
       "15"
      ]
     },
     "execution_count": 51,
     "metadata": {},
     "output_type": "execute_result"
    }
   ],
   "source": [
    "test3() + test4()"
   ]
  },
  {
   "cell_type": "code",
   "execution_count": 52,
   "id": "90561e7d-d4a8-4219-ad2d-1424e7b8cf25",
   "metadata": {},
   "outputs": [],
   "source": [
    "# how to take the argument in function"
   ]
  },
  {
   "cell_type": "code",
   "execution_count": 53,
   "id": "96e32646-44cf-4717-b146-8e3379b90b83",
   "metadata": {},
   "outputs": [],
   "source": [
    "def test5(a):\n",
    "    return a"
   ]
  },
  {
   "cell_type": "code",
   "execution_count": 55,
   "id": "55474605-e2bb-40f1-80b3-8c74e0126b22",
   "metadata": {},
   "outputs": [
    {
     "data": {
      "text/plain": [
       "10"
      ]
     },
     "execution_count": 55,
     "metadata": {},
     "output_type": "execute_result"
    }
   ],
   "source": [
    "test5(10)"
   ]
  },
  {
   "cell_type": "code",
   "execution_count": 56,
   "id": "a7dbad1f-58ec-4e31-8a00-c526ab928432",
   "metadata": {},
   "outputs": [
    {
     "data": {
      "text/plain": [
       "'hello'"
      ]
     },
     "execution_count": 56,
     "metadata": {},
     "output_type": "execute_result"
    }
   ],
   "source": [
    "test5('hello')"
   ]
  },
  {
   "cell_type": "code",
   "execution_count": 58,
   "id": "b111701b-282d-4f70-9449-acf4499a4582",
   "metadata": {},
   "outputs": [],
   "source": [
    "def test6(a,b):\n",
    "    return a,b"
   ]
  },
  {
   "cell_type": "code",
   "execution_count": 59,
   "id": "3fac911d-a7d4-424f-8637-f4a9ec3ac171",
   "metadata": {},
   "outputs": [
    {
     "data": {
      "text/plain": [
       "(5, 1)"
      ]
     },
     "execution_count": 59,
     "metadata": {},
     "output_type": "execute_result"
    }
   ],
   "source": [
    "test6(5,1)"
   ]
  },
  {
   "cell_type": "code",
   "execution_count": 60,
   "id": "0679bf64-0fe9-4b9f-b5f1-d93eb8c7e357",
   "metadata": {},
   "outputs": [],
   "source": [
    "def test7(a,b):\n",
    "    return a + b"
   ]
  },
  {
   "cell_type": "code",
   "execution_count": 61,
   "id": "5cd7540b-72f0-4465-a55e-0fb5a6171c54",
   "metadata": {},
   "outputs": [
    {
     "data": {
      "text/plain": [
       "12"
      ]
     },
     "execution_count": 61,
     "metadata": {},
     "output_type": "execute_result"
    }
   ],
   "source": [
    "test7(2,10)"
   ]
  },
  {
   "cell_type": "code",
   "execution_count": 62,
   "id": "588ca00b-f52b-4e64-b1d0-9ad5412da87b",
   "metadata": {},
   "outputs": [],
   "source": [
    "def test8(a,b):\n",
    "    total = a + b\n",
    "    return total"
   ]
  },
  {
   "cell_type": "code",
   "execution_count": 63,
   "id": "84a726b1-ff0d-495e-8c30-b331f10cb786",
   "metadata": {},
   "outputs": [
    {
     "data": {
      "text/plain": [
       "19"
      ]
     },
     "execution_count": 63,
     "metadata": {},
     "output_type": "execute_result"
    }
   ],
   "source": [
    "test8(13,6)"
   ]
  },
  {
   "cell_type": "code",
   "execution_count": 64,
   "id": "b0e7cbfa-d40b-4a28-9043-ca5032a1c467",
   "metadata": {},
   "outputs": [],
   "source": [
    "# square of number "
   ]
  },
  {
   "cell_type": "code",
   "execution_count": 65,
   "id": "44deae28-c04d-4eca-90aa-c809b9d38bd9",
   "metadata": {},
   "outputs": [
    {
     "data": {
      "text/plain": [
       "4"
      ]
     },
     "execution_count": 65,
     "metadata": {},
     "output_type": "execute_result"
    }
   ],
   "source": [
    "2 * 2"
   ]
  },
  {
   "cell_type": "code",
   "execution_count": 67,
   "id": "29bbd481-8d1e-4f90-a430-c1c17a842d8c",
   "metadata": {},
   "outputs": [],
   "source": [
    "def square(a):\n",
    "    return a * a\n",
    "    "
   ]
  },
  {
   "cell_type": "code",
   "execution_count": 68,
   "id": "41e8e4b0-ca74-48e6-a4b3-3e868a8e8ae5",
   "metadata": {},
   "outputs": [
    {
     "data": {
      "text/plain": [
       "9"
      ]
     },
     "execution_count": 68,
     "metadata": {},
     "output_type": "execute_result"
    }
   ],
   "source": [
    "square(3)"
   ]
  },
  {
   "cell_type": "code",
   "execution_count": 1,
   "id": "c8d7646c-412d-4c73-8538-5675ba34ee50",
   "metadata": {},
   "outputs": [],
   "source": [
    "# creat the fuction for addition 2 number\n",
    "# creat the fuction for sub 2 number\n",
    "# creat the fuction for multiplication 2 number\n",
    "# creat the fuction for cube 2 number # a ** 3"
   ]
  },
  {
   "cell_type": "code",
   "execution_count": 2,
   "id": "0f37232d-fd7f-4157-8067-1206cda3fba2",
   "metadata": {},
   "outputs": [],
   "source": [
    "def addition(a,b):\n",
    "    result = a+b\n",
    "    return result"
   ]
  },
  {
   "cell_type": "code",
   "execution_count": 3,
   "id": "c9b112c8-80fe-4fa8-8bb1-8a9aa17b1985",
   "metadata": {},
   "outputs": [
    {
     "data": {
      "text/plain": [
       "30"
      ]
     },
     "execution_count": 3,
     "metadata": {},
     "output_type": "execute_result"
    }
   ],
   "source": [
    "addition(10,20)"
   ]
  },
  {
   "cell_type": "code",
   "execution_count": 6,
   "id": "dc486e4a-5630-4947-bda0-72a298631b85",
   "metadata": {},
   "outputs": [],
   "source": [
    "def sub(a,b):\n",
    "    return a - b\n",
    "    "
   ]
  },
  {
   "cell_type": "code",
   "execution_count": 10,
   "id": "f015bcec-af71-455e-8b50-9fb852f11fcf",
   "metadata": {},
   "outputs": [
    {
     "data": {
      "text/plain": [
       "30"
      ]
     },
     "execution_count": 10,
     "metadata": {},
     "output_type": "execute_result"
    }
   ],
   "source": [
    "sub(40,10)"
   ]
  },
  {
   "cell_type": "code",
   "execution_count": 11,
   "id": "6e3eb82e-24f3-4261-b1e9-51dcb0af591f",
   "metadata": {},
   "outputs": [],
   "source": [
    "def multiplication(p,q):\n",
    "    total = p * q\n",
    "    return total"
   ]
  },
  {
   "cell_type": "code",
   "execution_count": 13,
   "id": "7626d66c-87f2-47b7-ad3e-53e286f85903",
   "metadata": {},
   "outputs": [
    {
     "data": {
      "text/plain": [
       "200"
      ]
     },
     "execution_count": 13,
     "metadata": {},
     "output_type": "execute_result"
    }
   ],
   "source": [
    "multiplication(10,20)"
   ]
  },
  {
   "cell_type": "code",
   "execution_count": 30,
   "id": "fd90c855-358f-4f28-a7fa-9723d656b18a",
   "metadata": {},
   "outputs": [],
   "source": [
    "def cube(a):\n",
    "    result =a ** 3 \n",
    "    return result"
   ]
  },
  {
   "cell_type": "code",
   "execution_count": 31,
   "id": "65a0049f-6d85-4898-97ce-2686c2c72510",
   "metadata": {},
   "outputs": [
    {
     "data": {
      "text/plain": [
       "64"
      ]
     },
     "execution_count": 31,
     "metadata": {},
     "output_type": "execute_result"
    }
   ],
   "source": [
    "cube(4)"
   ]
  },
  {
   "cell_type": "code",
   "execution_count": 32,
   "id": "50859e67-99d2-4376-bad6-cdafe6b5cfb8",
   "metadata": {},
   "outputs": [],
   "source": [
    "# even_odd"
   ]
  },
  {
   "cell_type": "code",
   "execution_count": 37,
   "id": "1a4b4176-3667-412e-8262-1f3582a2f413",
   "metadata": {},
   "outputs": [],
   "source": [
    "def even_odd(x):\n",
    "    if x % 2 == 0:\n",
    "       return 'even number',x\n",
    "    else:\n",
    "      return 'odd number',x"
   ]
  },
  {
   "cell_type": "code",
   "execution_count": 38,
   "id": "7fda7f0d-2fc3-48b7-b3e9-17f488a8493e",
   "metadata": {},
   "outputs": [
    {
     "data": {
      "text/plain": [
       "('odd number', 3)"
      ]
     },
     "execution_count": 38,
     "metadata": {},
     "output_type": "execute_result"
    }
   ],
   "source": [
    "even_odd(3)"
   ]
  },
  {
   "cell_type": "code",
   "execution_count": 39,
   "id": "61565406-09cc-4172-b5b0-5a6d50454320",
   "metadata": {},
   "outputs": [
    {
     "data": {
      "text/plain": [
       "('even number', 4)"
      ]
     },
     "execution_count": 39,
     "metadata": {},
     "output_type": "execute_result"
    }
   ],
   "source": [
    "even_odd(4)"
   ]
  },
  {
   "cell_type": "code",
   "execution_count": 40,
   "id": "bb5bab9c-b843-47d2-b8a2-71351a3ccbf2",
   "metadata": {},
   "outputs": [],
   "source": [
    "# multiple arguments"
   ]
  },
  {
   "cell_type": "code",
   "execution_count": 41,
   "id": "e6231121-2c77-442b-9dac-91c562cdbda9",
   "metadata": {},
   "outputs": [],
   "source": [
    "def test(a,b,c):\n",
    "    return a,b,c"
   ]
  },
  {
   "cell_type": "code",
   "execution_count": 42,
   "id": "1372ceb9-cb34-4f20-bef9-5db15b192c31",
   "metadata": {},
   "outputs": [
    {
     "data": {
      "text/plain": [
       "(1, 2, 3)"
      ]
     },
     "execution_count": 42,
     "metadata": {},
     "output_type": "execute_result"
    }
   ],
   "source": [
    "test(1,2,3)"
   ]
  },
  {
   "cell_type": "code",
   "execution_count": 43,
   "id": "2deaf849-3123-4a3d-a35b-9ee5f12f4573",
   "metadata": {},
   "outputs": [],
   "source": [
    "# *args"
   ]
  },
  {
   "cell_type": "code",
   "execution_count": 44,
   "id": "47c9cf1c-f7b3-4835-9c88-8e5a76ebd175",
   "metadata": {},
   "outputs": [],
   "source": [
    "def test2(*args):\n",
    "    return args"
   ]
  },
  {
   "cell_type": "code",
   "execution_count": 45,
   "id": "18386dd2-3f2c-43bf-a246-be340e2236be",
   "metadata": {},
   "outputs": [
    {
     "data": {
      "text/plain": [
       "(1, 2, 3, 4, 5, 6, 4, 5, 7, 8, 9, 10, 'hello')"
      ]
     },
     "execution_count": 45,
     "metadata": {},
     "output_type": "execute_result"
    }
   ],
   "source": [
    "test2(1,2,3,4,5,6,4,5,7,8,9,10,'hello')"
   ]
  },
  {
   "cell_type": "code",
   "execution_count": 46,
   "id": "a4268cab-368e-473a-b6dc-4df90d770d52",
   "metadata": {},
   "outputs": [],
   "source": [
    "def test3(a,*args):\n",
    "    return a , args"
   ]
  },
  {
   "cell_type": "code",
   "execution_count": 47,
   "id": "461f9343-e385-45bc-9e63-b160e8f6d33b",
   "metadata": {},
   "outputs": [
    {
     "data": {
      "text/plain": [
       "(1, (2, 3, 4, 56))"
      ]
     },
     "execution_count": 47,
     "metadata": {},
     "output_type": "execute_result"
    }
   ],
   "source": [
    "test3(1,2,3,4,56,)"
   ]
  },
  {
   "cell_type": "code",
   "execution_count": 48,
   "id": "9ad81f9e-5b8d-4c92-a6f2-6f80dd973f71",
   "metadata": {},
   "outputs": [],
   "source": [
    "def test4(a,b,c,*args):\n",
    "    return a,b,c,args"
   ]
  },
  {
   "cell_type": "code",
   "execution_count": 49,
   "id": "60e5ff11-70b9-46d4-aaf9-54bb56bc4b27",
   "metadata": {},
   "outputs": [
    {
     "data": {
      "text/plain": [
       "(12, 1, 23, (4, 5, 6))"
      ]
     },
     "execution_count": 49,
     "metadata": {},
     "output_type": "execute_result"
    }
   ],
   "source": [
    "test4(12,1,23,4,5,6)"
   ]
  },
  {
   "cell_type": "code",
   "execution_count": 50,
   "id": "239400db-72a1-4714-97a1-dd2ec03fed75",
   "metadata": {},
   "outputs": [],
   "source": [
    "# int type of data"
   ]
  },
  {
   "cell_type": "code",
   "execution_count": 53,
   "id": "49a34f00-267b-4eca-bfbd-d9f3883be19e",
   "metadata": {},
   "outputs": [],
   "source": [
    "def int_filter(*args):\n",
    "    l = []\n",
    "    for i in args:\n",
    "        if type(i) == int:\n",
    "            l.append(i)\n",
    "    return l"
   ]
  },
  {
   "cell_type": "code",
   "execution_count": 55,
   "id": "c2a562b5-5faf-40bb-bb94-059d8a379a53",
   "metadata": {},
   "outputs": [
    {
     "data": {
      "text/plain": [
       "[1, 30, 40, 20]"
      ]
     },
     "execution_count": 55,
     "metadata": {},
     "output_type": "execute_result"
    }
   ],
   "source": [
    "int_filter(1,1.5,'hello',10+2j,30,40,True,20)"
   ]
  },
  {
   "cell_type": "code",
   "execution_count": 56,
   "id": "171b0ef2-d089-459a-bf90-53f575cc4336",
   "metadata": {},
   "outputs": [],
   "source": [
    "def test6(**kwargs):  # key and value format (dictionary)\n",
    "    return kwargs"
   ]
  },
  {
   "cell_type": "code",
   "execution_count": 58,
   "id": "047d4915-0243-4d4b-8cd7-3e9856ba15e5",
   "metadata": {},
   "outputs": [
    {
     "data": {
      "text/plain": [
       "{'a': 5, 'b': 3, 'c': 10}"
      ]
     },
     "execution_count": 58,
     "metadata": {},
     "output_type": "execute_result"
    }
   ],
   "source": [
    "test6(a= 5,b=3,c=10)"
   ]
  },
  {
   "cell_type": "code",
   "execution_count": 59,
   "id": "cec012c2-22bd-4a12-a595-e50ea0ebe351",
   "metadata": {},
   "outputs": [],
   "source": [
    "def test7(**kwargs):  # key and value format (dictionary)\n",
    "    return kwargs.keys()"
   ]
  },
  {
   "cell_type": "code",
   "execution_count": 61,
   "id": "c866f85d-a479-48d0-a4c6-ae5303c26c6d",
   "metadata": {},
   "outputs": [
    {
     "data": {
      "text/plain": [
       "dict_keys(['a', 'b', 'c'])"
      ]
     },
     "execution_count": 61,
     "metadata": {},
     "output_type": "execute_result"
    }
   ],
   "source": [
    "test7(a= 5,b=3,c=10)"
   ]
  },
  {
   "cell_type": "code",
   "execution_count": 62,
   "id": "b7a8da75-9302-4f38-b226-bd1b4c47d57e",
   "metadata": {},
   "outputs": [],
   "source": [
    "def test8(**kwargs):  # key and value format (dictionary)\n",
    "    return kwargs.values()"
   ]
  },
  {
   "cell_type": "code",
   "execution_count": 64,
   "id": "70cb9982-88a4-4a9a-ae8d-9e0f306faa24",
   "metadata": {},
   "outputs": [
    {
     "data": {
      "text/plain": [
       "dict_values([10, 11, 30])"
      ]
     },
     "execution_count": 64,
     "metadata": {},
     "output_type": "execute_result"
    }
   ],
   "source": [
    "test8(a=10,v=11,m=30)"
   ]
  },
  {
   "cell_type": "code",
   "execution_count": 65,
   "id": "ff3d4d78-ec34-4566-821f-0a7a3e94cf42",
   "metadata": {},
   "outputs": [],
   "source": [
    "def test9(*args,**kwargs):\n",
    "    return args, kwargs"
   ]
  },
  {
   "cell_type": "code",
   "execution_count": 66,
   "id": "7ea12d41-04a7-4d06-8bb9-29c897d406db",
   "metadata": {},
   "outputs": [
    {
     "data": {
      "text/plain": [
       "((1, 2, 3, 45, 10), {'a': 33, 's': 13, 'd': 16})"
      ]
     },
     "execution_count": 66,
     "metadata": {},
     "output_type": "execute_result"
    }
   ],
   "source": [
    "test9(1,2,3,45,10,a= 33,s=13,d=16)"
   ]
  },
  {
   "cell_type": "code",
   "execution_count": 67,
   "id": "bc563248-7392-407e-91c0-ca6f86b3de9e",
   "metadata": {},
   "outputs": [],
   "source": [
    "def test10(a,*args,**kwargs):\n",
    "    return a,args,kwargs"
   ]
  },
  {
   "cell_type": "code",
   "execution_count": 69,
   "id": "78da0c24-6d24-4c79-af04-e698bdbfe831",
   "metadata": {},
   "outputs": [
    {
     "data": {
      "text/plain": [
       "(1, (2, 3, 4, 2), {'name': 'sneha', 'age': 10, 'city': 'xyz'})"
      ]
     },
     "execution_count": 69,
     "metadata": {},
     "output_type": "execute_result"
    }
   ],
   "source": [
    "test10(1,2,3,4,2,name = 'sneha',age = 10,city ='xyz')"
   ]
  },
  {
   "cell_type": "code",
   "execution_count": 90,
   "id": "8b36e692-68bd-4b2d-b624-66f112f688d0",
   "metadata": {},
   "outputs": [],
   "source": [
    "def test10(*args,a,**kwargs):\n",
    "    return a,args,kwargs"
   ]
  },
  {
   "cell_type": "code",
   "execution_count": 92,
   "id": "755a7409-8dbb-49c9-b3c1-960634be3a8a",
   "metadata": {},
   "outputs": [
    {
     "ename": "TypeError",
     "evalue": "test10() missing 1 required keyword-only argument: 'a'",
     "output_type": "error",
     "traceback": [
      "\u001b[1;31m---------------------------------------------------------------------------\u001b[0m",
      "\u001b[1;31mTypeError\u001b[0m                                 Traceback (most recent call last)",
      "Cell \u001b[1;32mIn[92], line 1\u001b[0m\n\u001b[1;32m----> 1\u001b[0m test10(\u001b[38;5;241m1\u001b[39m,\u001b[38;5;241m20\u001b[39m,\u001b[38;5;241m30\u001b[39m,\u001b[38;5;241m45\u001b[39m,k\u001b[38;5;241m=\u001b[39m \u001b[38;5;241m4\u001b[39m,s\u001b[38;5;241m=\u001b[39m\u001b[38;5;241m50\u001b[39m,b\u001b[38;5;241m=\u001b[39m\u001b[38;5;241m23\u001b[39m)\n",
      "\u001b[1;31mTypeError\u001b[0m: test10() missing 1 required keyword-only argument: 'a'"
     ]
    }
   ],
   "source": [
    "test10(1,20,30,45,k= 4,s=50,b=23)"
   ]
  },
  {
   "cell_type": "code",
   "execution_count": 73,
   "id": "5557e5f0-9986-4f07-8d3a-8cb04a76fabe",
   "metadata": {},
   "outputs": [],
   "source": [
    "# local and Global variabe"
   ]
  },
  {
   "cell_type": "code",
   "execution_count": 97,
   "id": "511f02d2-2967-4ee1-8a99-c78ffe9b8da2",
   "metadata": {},
   "outputs": [],
   "source": [
    "def xyz():\n",
    "    l = [] # local variable limited to particular function\n",
    "    return 'hello'"
   ]
  },
  {
   "cell_type": "code",
   "execution_count": 96,
   "id": "9b04c5d7-d228-4107-9e56-3d19ab9e2feb",
   "metadata": {},
   "outputs": [
    {
     "ename": "NameError",
     "evalue": "name 'l' is not defined",
     "output_type": "error",
     "traceback": [
      "\u001b[1;31m---------------------------------------------------------------------------\u001b[0m",
      "\u001b[1;31mNameError\u001b[0m                                 Traceback (most recent call last)",
      "Cell \u001b[1;32mIn[96], line 1\u001b[0m\n\u001b[1;32m----> 1\u001b[0m l\n",
      "\u001b[1;31mNameError\u001b[0m: name 'l' is not defined"
     ]
    }
   ],
   "source": [
    "l"
   ]
  },
  {
   "cell_type": "code",
   "execution_count": 78,
   "id": "72f1290c-666d-4eb3-a3d2-e82505063bff",
   "metadata": {},
   "outputs": [],
   "source": [
    "k = [1,2,3,'hello'] # global varibal"
   ]
  },
  {
   "cell_type": "code",
   "execution_count": 79,
   "id": "8575e9be-4f7a-4549-9748-e244a642eabb",
   "metadata": {},
   "outputs": [
    {
     "data": {
      "text/plain": [
       "[1, 2, 3, 'hello']"
      ]
     },
     "execution_count": 79,
     "metadata": {},
     "output_type": "execute_result"
    }
   ],
   "source": [
    "k"
   ]
  },
  {
   "cell_type": "code",
   "execution_count": 85,
   "id": "2fad1ded-8168-4916-919c-d678a8c24f0f",
   "metadata": {},
   "outputs": [],
   "source": [
    "def square(a):\n",
    "    return a * a\n",
    "    "
   ]
  },
  {
   "cell_type": "code",
   "execution_count": 88,
   "id": "ba1b86c9-4613-4fd3-a980-1e4bc12415a9",
   "metadata": {},
   "outputs": [
    {
     "data": {
      "text/plain": [
       "9"
      ]
     },
     "execution_count": 88,
     "metadata": {},
     "output_type": "execute_result"
    }
   ],
   "source": [
    "square(3)"
   ]
  },
  {
   "cell_type": "code",
   "execution_count": null,
   "id": "e5d160c7-b700-485b-aae7-8a46d3889042",
   "metadata": {},
   "outputs": [],
   "source": []
  }
 ],
 "metadata": {
  "kernelspec": {
   "display_name": "Python 3 (ipykernel)",
   "language": "python",
   "name": "python3"
  },
  "language_info": {
   "codemirror_mode": {
    "name": "ipython",
    "version": 3
   },
   "file_extension": ".py",
   "mimetype": "text/x-python",
   "name": "python",
   "nbconvert_exporter": "python",
   "pygments_lexer": "ipython3",
   "version": "3.12.7"
  }
 },
 "nbformat": 4,
 "nbformat_minor": 5
}
