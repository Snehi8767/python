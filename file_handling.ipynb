{
 "cells": [
  {
   "cell_type": "markdown",
   "id": "28f884bc-2662-43ec-83fe-3e2e5680b311",
   "metadata": {},
   "source": [
    "# File Handaling"
   ]
  },
  {
   "cell_type": "code",
   "execution_count": 1,
   "id": "57127809-e402-4d0f-ad78-f87aa5b3a20a",
   "metadata": {},
   "outputs": [],
   "source": [
    "f = open('students.cvs', mode ='w')"
   ]
  },
  {
   "cell_type": "code",
   "execution_count": 2,
   "id": "0beb7875-660a-442f-b8db-4acaf2178459",
   "metadata": {},
   "outputs": [
    {
     "data": {
      "text/plain": [
       "22"
      ]
     },
     "execution_count": 2,
     "metadata": {},
     "output_type": "execute_result"
    }
   ],
   "source": [
    "f.write('This is my first file.')"
   ]
  },
  {
   "cell_type": "code",
   "execution_count": 3,
   "id": "f6984b7b-dda3-4ac7-9b57-1ec7f3602f2f",
   "metadata": {},
   "outputs": [],
   "source": [
    "f.close()"
   ]
  },
  {
   "cell_type": "code",
   "execution_count": 4,
   "id": "adc0f7f1-1765-4406-86c1-ba55d0f2a70c",
   "metadata": {},
   "outputs": [],
   "source": [
    "f = open('students.cvs',mode ='r')"
   ]
  },
  {
   "cell_type": "code",
   "execution_count": 5,
   "id": "68bee2d2-b460-45bc-89ac-4b79bb2c0126",
   "metadata": {},
   "outputs": [
    {
     "data": {
      "text/plain": [
       "'This is my first file.'"
      ]
     },
     "execution_count": 5,
     "metadata": {},
     "output_type": "execute_result"
    }
   ],
   "source": [
    "f.read()"
   ]
  },
  {
   "cell_type": "code",
   "execution_count": 7,
   "id": "4b2d2b2a-5260-425e-9b20-25dc471af171",
   "metadata": {},
   "outputs": [
    {
     "data": {
      "text/plain": [
       "''"
      ]
     },
     "execution_count": 7,
     "metadata": {},
     "output_type": "execute_result"
    }
   ],
   "source": [
    "f.read()"
   ]
  },
  {
   "cell_type": "code",
   "execution_count": 8,
   "id": "d0c670be-1e89-4223-815c-660c823aa972",
   "metadata": {},
   "outputs": [
    {
     "data": {
      "text/plain": [
       "0"
      ]
     },
     "execution_count": 8,
     "metadata": {},
     "output_type": "execute_result"
    }
   ],
   "source": [
    "f.seek(0)"
   ]
  },
  {
   "cell_type": "code",
   "execution_count": 9,
   "id": "bea4c8c6-3e49-4694-9f06-713b047bed95",
   "metadata": {},
   "outputs": [
    {
     "data": {
      "text/plain": [
       "5"
      ]
     },
     "execution_count": 9,
     "metadata": {},
     "output_type": "execute_result"
    }
   ],
   "source": [
    "f.seek(5)"
   ]
  },
  {
   "cell_type": "code",
   "execution_count": 10,
   "id": "d0b952d4-f259-4065-8e77-9a5b8696938d",
   "metadata": {},
   "outputs": [
    {
     "data": {
      "text/plain": [
       "'is my first file.'"
      ]
     },
     "execution_count": 10,
     "metadata": {},
     "output_type": "execute_result"
    }
   ],
   "source": [
    "f.read()"
   ]
  },
  {
   "cell_type": "code",
   "execution_count": 11,
   "id": "a44117cc-6f40-4618-8b9d-cdabf3f4b9a8",
   "metadata": {},
   "outputs": [],
   "source": [
    "a = open('sentence_data.cvs', mode='w')"
   ]
  },
  {
   "cell_type": "code",
   "execution_count": 12,
   "id": "a71fef0a-9d77-49d8-8fa5-e2124d3122ef",
   "metadata": {},
   "outputs": [
    {
     "data": {
      "text/plain": [
       "65"
      ]
     },
     "execution_count": 12,
     "metadata": {},
     "output_type": "execute_result"
    }
   ],
   "source": [
    "a.write(\"\"\"this is my lines.\n",
    "hey everyone give me one chance.\n",
    "hello everyone\"\"\")"
   ]
  },
  {
   "cell_type": "code",
   "execution_count": 13,
   "id": "4e70da7f-c6cd-4bf3-b24c-7038d549e1ca",
   "metadata": {},
   "outputs": [],
   "source": [
    "a.close()"
   ]
  },
  {
   "cell_type": "code",
   "execution_count": 14,
   "id": "d5ce34c9-83bb-4272-bc88-7c0e181df048",
   "metadata": {},
   "outputs": [],
   "source": [
    "a = open('sentence_data.cvs', mode='r+')"
   ]
  },
  {
   "cell_type": "code",
   "execution_count": 15,
   "id": "28d7e8e8-fdec-498d-84ce-7b91d64623e6",
   "metadata": {},
   "outputs": [
    {
     "data": {
      "text/plain": [
       "'this is my lines.\\nhey everyone give me one chance.\\nhello everyone'"
      ]
     },
     "execution_count": 15,
     "metadata": {},
     "output_type": "execute_result"
    }
   ],
   "source": [
    "a.read()"
   ]
  },
  {
   "cell_type": "code",
   "execution_count": 16,
   "id": "b0eeaa04-d1b6-46c8-a695-9e24b38a9441",
   "metadata": {},
   "outputs": [
    {
     "data": {
      "text/plain": [
       "0"
      ]
     },
     "execution_count": 16,
     "metadata": {},
     "output_type": "execute_result"
    }
   ],
   "source": [
    "a.seek(0)"
   ]
  },
  {
   "cell_type": "code",
   "execution_count": 17,
   "id": "eae88e61-c2bb-4ce3-b412-cc8b46a4ffb8",
   "metadata": {},
   "outputs": [
    {
     "data": {
      "text/plain": [
       "'this is my lines.\\n'"
      ]
     },
     "execution_count": 17,
     "metadata": {},
     "output_type": "execute_result"
    }
   ],
   "source": [
    "a.readline()"
   ]
  },
  {
   "cell_type": "code",
   "execution_count": 18,
   "id": "7bf9315e-5c91-48f8-b237-ce70cc4f5272",
   "metadata": {},
   "outputs": [
    {
     "data": {
      "text/plain": [
       "'hey everyone give me one chance.\\n'"
      ]
     },
     "execution_count": 18,
     "metadata": {},
     "output_type": "execute_result"
    }
   ],
   "source": [
    "a.readline()"
   ]
  },
  {
   "cell_type": "code",
   "execution_count": 19,
   "id": "0a94c092-2a18-42fb-96f5-249a0c349930",
   "metadata": {},
   "outputs": [
    {
     "data": {
      "text/plain": [
       "'hello everyone'"
      ]
     },
     "execution_count": 19,
     "metadata": {},
     "output_type": "execute_result"
    }
   ],
   "source": [
    "a.readline()"
   ]
  },
  {
   "cell_type": "code",
   "execution_count": 20,
   "id": "76e7e79f-90ff-4ded-bc2e-4d362bab4947",
   "metadata": {},
   "outputs": [
    {
     "data": {
      "text/plain": [
       "0"
      ]
     },
     "execution_count": 20,
     "metadata": {},
     "output_type": "execute_result"
    }
   ],
   "source": [
    "a.seek(0)"
   ]
  },
  {
   "cell_type": "code",
   "execution_count": 22,
   "id": "1f69435f-63f4-4fc6-ab5f-09d2e41064dc",
   "metadata": {},
   "outputs": [
    {
     "data": {
      "text/plain": [
       "['hey everyone give me one chance.\\n', 'hello everyone']"
      ]
     },
     "execution_count": 22,
     "metadata": {},
     "output_type": "execute_result"
    }
   ],
   "source": [
    "a.readlines()"
   ]
  },
  {
   "cell_type": "code",
   "execution_count": null,
   "id": "4d2d8a26-5695-48a8-80c3-82fbc045e3da",
   "metadata": {},
   "outputs": [],
   "source": []
  }
 ],
 "metadata": {
  "kernelspec": {
   "display_name": "Python 3 (ipykernel)",
   "language": "python",
   "name": "python3"
  },
  "language_info": {
   "codemirror_mode": {
    "name": "ipython",
    "version": 3
   },
   "file_extension": ".py",
   "mimetype": "text/x-python",
   "name": "python",
   "nbconvert_exporter": "python",
   "pygments_lexer": "ipython3",
   "version": "3.12.7"
  }
 },
 "nbformat": 4,
 "nbformat_minor": 5
}
