{
 "cells": [
  {
   "cell_type": "code",
   "execution_count": 1,
   "id": "6549a1c1-1862-4706-a831-3b670b9c1759",
   "metadata": {},
   "outputs": [
    {
     "name": "stdout",
     "output_type": "stream",
     "text": [
      "Requirement already satisfied: numpy in c:\\users\\sneha\\anaconda3\\lib\\site-packages (1.26.4)\n",
      "Note: you may need to restart the kernel to use updated packages.\n"
     ]
    }
   ],
   "source": [
    "pip install numpy"
   ]
  },
  {
   "cell_type": "code",
   "execution_count": 3,
   "id": "a3b6d5c9-1375-47ef-bc06-d3acec712412",
   "metadata": {},
   "outputs": [],
   "source": [
    "import numpy as np"
   ]
  },
  {
   "cell_type": "code",
   "execution_count": 4,
   "id": "45e46180-8e61-4d67-886a-62c0ff764c5b",
   "metadata": {},
   "outputs": [
    {
     "data": {
      "text/plain": [
       "128.0"
      ]
     },
     "execution_count": 4,
     "metadata": {},
     "output_type": "execute_result"
    }
   ],
   "source": [
    "np.mean([73,432,53,78,4])"
   ]
  },
  {
   "cell_type": "code",
   "execution_count": 5,
   "id": "3c231ca9-43ad-4ff4-8622-429a05c7dd54",
   "metadata": {},
   "outputs": [
    {
     "data": {
      "text/plain": [
       "73.0"
      ]
     },
     "execution_count": 5,
     "metadata": {},
     "output_type": "execute_result"
    }
   ],
   "source": [
    "np.median([73,432,53,78,4])"
   ]
  },
  {
   "cell_type": "code",
   "execution_count": 6,
   "id": "140fce52-eb91-4b31-a470-2c69a7c8be2b",
   "metadata": {},
   "outputs": [
    {
     "data": {
      "text/plain": [
       "128.0"
      ]
     },
     "execution_count": 6,
     "metadata": {},
     "output_type": "execute_result"
    }
   ],
   "source": [
    "np.average([73,432,53,78,4])"
   ]
  },
  {
   "cell_type": "code",
   "execution_count": 7,
   "id": "6992ba1f-5cf4-4319-9dfe-4c2a78f1acf9",
   "metadata": {},
   "outputs": [],
   "source": [
    "l = [1,2,3,4,5]"
   ]
  },
  {
   "cell_type": "code",
   "execution_count": 9,
   "id": "a90bdff9-27f8-49f5-844b-75e26a25353e",
   "metadata": {},
   "outputs": [],
   "source": [
    "d_1 = np.array(l)"
   ]
  },
  {
   "cell_type": "code",
   "execution_count": 10,
   "id": "e4237ce6-d073-4e28-a980-caf674338fde",
   "metadata": {},
   "outputs": [
    {
     "data": {
      "text/plain": [
       "array([1, 2, 3, 4, 5])"
      ]
     },
     "execution_count": 10,
     "metadata": {},
     "output_type": "execute_result"
    }
   ],
   "source": [
    "d_1"
   ]
  },
  {
   "cell_type": "code",
   "execution_count": 12,
   "id": "7320d5f8-928c-4b31-877d-8e5560956cd4",
   "metadata": {},
   "outputs": [
    {
     "data": {
      "text/plain": [
       "1"
      ]
     },
     "execution_count": 12,
     "metadata": {},
     "output_type": "execute_result"
    }
   ],
   "source": [
    "d_1.ndim   #direction"
   ]
  },
  {
   "cell_type": "code",
   "execution_count": 18,
   "id": "0efc21c0-43d5-4f88-916f-8a0b3582d61d",
   "metadata": {},
   "outputs": [],
   "source": [
    "d_2 = np.array([[1,2,3,4,5],[10,20,30,40,50]])"
   ]
  },
  {
   "cell_type": "code",
   "execution_count": 19,
   "id": "45f5ae23-7d42-4598-a791-6c71d5773551",
   "metadata": {},
   "outputs": [
    {
     "data": {
      "text/plain": [
       "array([[ 1,  2,  3,  4,  5],\n",
       "       [10, 20, 30, 40, 50]])"
      ]
     },
     "execution_count": 19,
     "metadata": {},
     "output_type": "execute_result"
    }
   ],
   "source": [
    "d_2"
   ]
  },
  {
   "cell_type": "code",
   "execution_count": 21,
   "id": "e25d1e4b-e005-4311-b522-5b4494357ff5",
   "metadata": {},
   "outputs": [
    {
     "data": {
      "text/plain": [
       "array([['1', '2', '3', '4', '5'],\n",
       "       ['10', '20', '30', '40', '50'],\n",
       "       ['A', 'B', 'C', 'D', 'E']], dtype='<U11')"
      ]
     },
     "execution_count": 21,
     "metadata": {},
     "output_type": "execute_result"
    }
   ],
   "source": [
    "np.array([[1,2,3,4,5],[10,20,30,40,50],['A','B','C','D','E']])"
   ]
  },
  {
   "cell_type": "code",
   "execution_count": 22,
   "id": "7cbe2f36-c368-44cf-bb25-d1c964a7a2e6",
   "metadata": {},
   "outputs": [
    {
     "data": {
      "text/plain": [
       "2"
      ]
     },
     "execution_count": 22,
     "metadata": {},
     "output_type": "execute_result"
    }
   ],
   "source": [
    "d_2.ndim"
   ]
  },
  {
   "cell_type": "code",
   "execution_count": 24,
   "id": "c3d264aa-7b6d-439c-b4ef-cf5e27a4463c",
   "metadata": {},
   "outputs": [],
   "source": [
    "d_3 =np.array([[[1,2,3,4,5],[10,20,30,40,50],['A','B','C','D','E']]])"
   ]
  },
  {
   "cell_type": "code",
   "execution_count": 26,
   "id": "9fa91542-ea1b-46c5-97c2-9b5b53b70c99",
   "metadata": {},
   "outputs": [
    {
     "data": {
      "text/plain": [
       "3"
      ]
     },
     "execution_count": 26,
     "metadata": {},
     "output_type": "execute_result"
    }
   ],
   "source": [
    "d_3.ndim"
   ]
  },
  {
   "cell_type": "code",
   "execution_count": 29,
   "id": "c727eb86-bed4-4647-8703-47e99d2bc455",
   "metadata": {},
   "outputs": [
    {
     "data": {
      "text/plain": [
       "array([1, 2, 3, 4, 5])"
      ]
     },
     "execution_count": 29,
     "metadata": {},
     "output_type": "execute_result"
    }
   ],
   "source": [
    "d_1"
   ]
  },
  {
   "cell_type": "code",
   "execution_count": 28,
   "id": "ee572144-61be-40e9-9c0e-6cb188988c3c",
   "metadata": {},
   "outputs": [
    {
     "data": {
      "text/plain": [
       "1"
      ]
     },
     "execution_count": 28,
     "metadata": {},
     "output_type": "execute_result"
    }
   ],
   "source": [
    "d_1[0]"
   ]
  },
  {
   "cell_type": "code",
   "execution_count": 30,
   "id": "64e67f63-1d7c-4eed-99a9-e3536ff5e49b",
   "metadata": {},
   "outputs": [
    {
     "data": {
      "text/plain": [
       "array([16, 14, 15, 13, 14])"
      ]
     },
     "execution_count": 30,
     "metadata": {},
     "output_type": "execute_result"
    }
   ],
   "source": [
    "np.random.randint(10,20,5)"
   ]
  },
  {
   "cell_type": "code",
   "execution_count": 31,
   "id": "6ad04b29-0d2b-4b7a-8170-9edfdc86f089",
   "metadata": {},
   "outputs": [
    {
     "data": {
      "text/plain": [
       "array([2, 2, 4, 2, 2, 2, 4, 4, 1, 2])"
      ]
     },
     "execution_count": 31,
     "metadata": {},
     "output_type": "execute_result"
    }
   ],
   "source": [
    "np.random.randint(1,5,10)"
   ]
  },
  {
   "cell_type": "code",
   "execution_count": 32,
   "id": "8b8d9d46-d776-4835-971c-8615c0fb104a",
   "metadata": {},
   "outputs": [
    {
     "data": {
      "text/plain": [
       "array([0.34118711, 0.37976008, 0.43019546, 0.60158399, 0.3991546 ,\n",
       "       0.51980688, 0.4696491 , 0.3128164 , 0.10069854, 0.65868684,\n",
       "       0.20010809, 0.02176239, 0.73203867, 0.9709919 , 0.82712931,\n",
       "       0.42194226, 0.48067541, 0.50843045, 0.18628871, 0.43710632,\n",
       "       0.1920637 , 0.21274389, 0.09741239, 0.93768693, 0.02873767,\n",
       "       0.8635109 , 0.19714578, 0.73550001, 0.2097775 , 0.28562235,\n",
       "       0.66196573, 0.78240726, 0.05606049, 0.39600189, 0.93284356,\n",
       "       0.51798637, 0.89885714, 0.55290526, 0.72284159, 0.69172386,\n",
       "       0.99834389, 0.190862  , 0.42335317, 0.85240581, 0.97729043,\n",
       "       0.72632946, 0.39339994, 0.63089077, 0.0751229 , 0.55148626])"
      ]
     },
     "execution_count": 32,
     "metadata": {},
     "output_type": "execute_result"
    }
   ],
   "source": [
    "np.random.random(50)"
   ]
  },
  {
   "cell_type": "code",
   "execution_count": 33,
   "id": "be86e449-1a99-4e1b-97c2-0ce8471b6b96",
   "metadata": {},
   "outputs": [
    {
     "data": {
      "text/plain": [
       "array([[0.97399022, 0.46996546, 0.94003428]])"
      ]
     },
     "execution_count": 33,
     "metadata": {},
     "output_type": "execute_result"
    }
   ],
   "source": [
    "np.random.rand(1,3)"
   ]
  },
  {
   "cell_type": "code",
   "execution_count": 34,
   "id": "8d5a717f-e38b-4763-b715-8afba65f271f",
   "metadata": {},
   "outputs": [
    {
     "data": {
      "text/plain": [
       "array([[0.58907494, 0.65389318, 0.55179289],\n",
       "       [0.66515833, 0.09034062, 0.26966586],\n",
       "       [0.31203641, 0.46791619, 0.09650868]])"
      ]
     },
     "execution_count": 34,
     "metadata": {},
     "output_type": "execute_result"
    }
   ],
   "source": [
    "np.random.rand(3,3)"
   ]
  },
  {
   "cell_type": "code",
   "execution_count": null,
   "id": "d48ac507-51d9-461b-8e4c-978c082965e5",
   "metadata": {},
   "outputs": [],
   "source": []
  }
 ],
 "metadata": {
  "kernelspec": {
   "display_name": "Python 3 (ipykernel)",
   "language": "python",
   "name": "python3"
  },
  "language_info": {
   "codemirror_mode": {
    "name": "ipython",
    "version": 3
   },
   "file_extension": ".py",
   "mimetype": "text/x-python",
   "name": "python",
   "nbconvert_exporter": "python",
   "pygments_lexer": "ipython3",
   "version": "3.12.7"
  }
 },
 "nbformat": 4,
 "nbformat_minor": 5
}
