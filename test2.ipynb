{
 "cells": [
  {
   "cell_type": "code",
   "execution_count": 1,
   "id": "70d6b773-cc2d-409c-b7e0-b7948c5c3f25",
   "metadata": {},
   "outputs": [],
   "source": [
    "l  = [1,3,4,[10,20,30],5,6]"
   ]
  },
  {
   "cell_type": "code",
   "execution_count": 3,
   "id": "804b62d8-3d2a-4583-9d15-07d0d9de6cb9",
   "metadata": {},
   "outputs": [
    {
     "data": {
      "text/plain": [
       "4"
      ]
     },
     "execution_count": 3,
     "metadata": {},
     "output_type": "execute_result"
    }
   ],
   "source": [
    "l[2]"
   ]
  },
  {
   "cell_type": "code",
   "execution_count": 9,
   "id": "f731c117-6a7a-496b-becb-38ebae30a5cb",
   "metadata": {},
   "outputs": [
    {
     "data": {
      "text/plain": [
       "20"
      ]
     },
     "execution_count": 9,
     "metadata": {},
     "output_type": "execute_result"
    }
   ],
   "source": [
    "l[3][1]"
   ]
  },
  {
   "cell_type": "code",
   "execution_count": 10,
   "id": "ade4ccde-3538-4fc2-a3ef-37f5de3cd31e",
   "metadata": {},
   "outputs": [],
   "source": [
    "d = {'A':10,'B':20,'C':30}"
   ]
  },
  {
   "cell_type": "code",
   "execution_count": 11,
   "id": "6e7b5b78-d190-4832-9da8-0804f99d4138",
   "metadata": {},
   "outputs": [
    {
     "data": {
      "text/plain": [
       "30"
      ]
     },
     "execution_count": 11,
     "metadata": {},
     "output_type": "execute_result"
    }
   ],
   "source": [
    "d['C']"
   ]
  },
  {
   "cell_type": "code",
   "execution_count": 12,
   "id": "5375de3d-2851-46c5-a319-33ca62097ed6",
   "metadata": {},
   "outputs": [],
   "source": [
    "d['D']=40"
   ]
  },
  {
   "cell_type": "code",
   "execution_count": 13,
   "id": "391f7d46-633d-418d-b21a-1b6f807b577e",
   "metadata": {},
   "outputs": [
    {
     "data": {
      "text/plain": [
       "{'A': 10, 'B': 20, 'C': 30, 'D': 40}"
      ]
     },
     "execution_count": 13,
     "metadata": {},
     "output_type": "execute_result"
    }
   ],
   "source": [
    "d"
   ]
  },
  {
   "cell_type": "code",
   "execution_count": 14,
   "id": "1e21cd12-9d03-4ad8-82d0-58a2a83c2e28",
   "metadata": {},
   "outputs": [],
   "source": [
    "def square(a):\n",
    "    total = a * a\n",
    "    return total"
   ]
  },
  {
   "cell_type": "code",
   "execution_count": 15,
   "id": "5a68efb4-888f-4bfd-b23f-6a171792cad9",
   "metadata": {},
   "outputs": [
    {
     "data": {
      "text/plain": [
       "9"
      ]
     },
     "execution_count": 15,
     "metadata": {},
     "output_type": "execute_result"
    }
   ],
   "source": [
    "square(3)"
   ]
  },
  {
   "cell_type": "code",
   "execution_count": 16,
   "id": "cffcb547-0dbb-44f2-be60-de832526643e",
   "metadata": {},
   "outputs": [],
   "source": [
    "def infin(*args):\n",
    "    return args"
   ]
  },
  {
   "cell_type": "code",
   "execution_count": 17,
   "id": "86522764-762e-4084-8262-8a8aa5d3b99c",
   "metadata": {},
   "outputs": [
    {
     "data": {
      "text/plain": [
       "(1, 2, 3, 4, 5, 4)"
      ]
     },
     "execution_count": 17,
     "metadata": {},
     "output_type": "execute_result"
    }
   ],
   "source": [
    "infin(1,2,3,4,5,4,)"
   ]
  },
  {
   "cell_type": "code",
   "execution_count": 18,
   "id": "9c01dc00-e49e-41fb-a3c8-abbdd54d3daf",
   "metadata": {},
   "outputs": [],
   "source": [
    "def filter(*args):\n",
    "    l = []\n",
    "    for i in args:\n",
    "        if type(i)==int:\n",
    "            l.append(i)\n",
    "    return l\n",
    "        "
   ]
  },
  {
   "cell_type": "code",
   "execution_count": 19,
   "id": "16d2f78f-e2bd-47e5-b498-52d7346abeb3",
   "metadata": {},
   "outputs": [
    {
     "data": {
      "text/plain": [
       "[12]"
      ]
     },
     "execution_count": 19,
     "metadata": {},
     "output_type": "execute_result"
    }
   ],
   "source": [
    "filter(12,11.20,'true',True)"
   ]
  },
  {
   "cell_type": "code",
   "execution_count": 1,
   "id": "1aa11464-4b2c-4279-a354-7a54a4f33de7",
   "metadata": {},
   "outputs": [],
   "source": [
    "def filter1(*args):\n",
    "    l = []\n",
    "    for i in args:\n",
    "        if type(i)==str:\n",
    "            l.append(i)\n",
    "    return l"
   ]
  },
  {
   "cell_type": "code",
   "execution_count": 3,
   "id": "454cf636-8c14-4fc2-8760-d52851915636",
   "metadata": {},
   "outputs": [
    {
     "data": {
      "text/plain": [
       "['hello', 'data', 'akash']"
      ]
     },
     "execution_count": 3,
     "metadata": {},
     "output_type": "execute_result"
    }
   ],
   "source": [
    "filter1(10,20,'hello','data','akash')"
   ]
  },
  {
   "cell_type": "code",
   "execution_count": null,
   "id": "79925801-d568-4252-aca9-7107867edf06",
   "metadata": {},
   "outputs": [],
   "source": []
  }
 ],
 "metadata": {
  "kernelspec": {
   "display_name": "Python 3 (ipykernel)",
   "language": "python",
   "name": "python3"
  },
  "language_info": {
   "codemirror_mode": {
    "name": "ipython",
    "version": 3
   },
   "file_extension": ".py",
   "mimetype": "text/x-python",
   "name": "python",
   "nbconvert_exporter": "python",
   "pygments_lexer": "ipython3",
   "version": "3.12.7"
  }
 },
 "nbformat": 4,
 "nbformat_minor": 5
}
