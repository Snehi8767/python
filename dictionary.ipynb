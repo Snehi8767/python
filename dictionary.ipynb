{
 "cells": [
  {
   "cell_type": "markdown",
   "id": "6edb2502-cdac-4715-8b72-4e4551fa0136",
   "metadata": {},
   "source": [
    "# Dictionary "
   ]
  },
  {
   "cell_type": "code",
   "execution_count": 1,
   "id": "994f5f3f-c458-4835-900b-83210ef9d360",
   "metadata": {},
   "outputs": [],
   "source": [
    "d = {'A':10,'B':20,'C':30}"
   ]
  },
  {
   "cell_type": "code",
   "execution_count": 2,
   "id": "a94455ab-2ca6-4574-88e8-b75e09792e97",
   "metadata": {},
   "outputs": [
    {
     "data": {
      "text/plain": [
       "{'A': 10, 'B': 20, 'C': 30}"
      ]
     },
     "execution_count": 2,
     "metadata": {},
     "output_type": "execute_result"
    }
   ],
   "source": [
    "d"
   ]
  },
  {
   "cell_type": "code",
   "execution_count": 3,
   "id": "1cbef279-6f63-409d-a1c6-a7248a85ad5a",
   "metadata": {},
   "outputs": [
    {
     "data": {
      "text/plain": [
       "dict"
      ]
     },
     "execution_count": 3,
     "metadata": {},
     "output_type": "execute_result"
    }
   ],
   "source": [
    "type(d)"
   ]
  },
  {
   "cell_type": "code",
   "execution_count": 4,
   "id": "733f5f49-8b7e-4fa9-aaf4-58b92b2d5aa4",
   "metadata": {},
   "outputs": [
    {
     "data": {
      "text/plain": [
       "dict_values([10, 20, 30])"
      ]
     },
     "execution_count": 4,
     "metadata": {},
     "output_type": "execute_result"
    }
   ],
   "source": [
    "d.values()"
   ]
  },
  {
   "cell_type": "code",
   "execution_count": 5,
   "id": "50d1df08-14cf-430a-ac66-f9942cb0bbb7",
   "metadata": {},
   "outputs": [
    {
     "data": {
      "text/plain": [
       "dict_keys(['A', 'B', 'C'])"
      ]
     },
     "execution_count": 5,
     "metadata": {},
     "output_type": "execute_result"
    }
   ],
   "source": [
    "d.keys()"
   ]
  },
  {
   "cell_type": "code",
   "execution_count": 6,
   "id": "3809660d-ae41-4419-9db0-6cf7aeabb90a",
   "metadata": {},
   "outputs": [
    {
     "data": {
      "text/plain": [
       "10"
      ]
     },
     "execution_count": 6,
     "metadata": {},
     "output_type": "execute_result"
    }
   ],
   "source": [
    "d['A']"
   ]
  },
  {
   "cell_type": "code",
   "execution_count": 7,
   "id": "70839921-fd58-4b97-8003-c5d1ebfd4605",
   "metadata": {},
   "outputs": [],
   "source": [
    "d['E'] = 40"
   ]
  },
  {
   "cell_type": "code",
   "execution_count": 8,
   "id": "6229a15b-518c-48e2-b06a-b18ee5e79818",
   "metadata": {},
   "outputs": [
    {
     "data": {
      "text/plain": [
       "{'A': 10, 'B': 20, 'C': 30, 'E': 40}"
      ]
     },
     "execution_count": 8,
     "metadata": {},
     "output_type": "execute_result"
    }
   ],
   "source": [
    "d"
   ]
  },
  {
   "cell_type": "code",
   "execution_count": 9,
   "id": "1d9f912a-cd5f-4cc8-a990-0abed6b16a12",
   "metadata": {},
   "outputs": [],
   "source": [
    "d['E'] = 100"
   ]
  },
  {
   "cell_type": "code",
   "execution_count": 10,
   "id": "b38d96f0-642f-463e-a944-a1e5cc1a7a67",
   "metadata": {},
   "outputs": [
    {
     "data": {
      "text/plain": [
       "{'A': 10, 'B': 20, 'C': 30, 'E': 100}"
      ]
     },
     "execution_count": 10,
     "metadata": {},
     "output_type": "execute_result"
    }
   ],
   "source": [
    "d"
   ]
  },
  {
   "cell_type": "code",
   "execution_count": 11,
   "id": "28a05903-814d-40ef-ab93-b56a48f6e6b4",
   "metadata": {},
   "outputs": [],
   "source": [
    "data = {'Name':'sneha','Last_Name':'chaudhari','Age':24,'Mobile':5522664130}"
   ]
  },
  {
   "cell_type": "code",
   "execution_count": 12,
   "id": "4204735a-a1c0-44c9-8b46-b8ea45a22f7d",
   "metadata": {},
   "outputs": [
    {
     "data": {
      "text/plain": [
       "5522664130"
      ]
     },
     "execution_count": 12,
     "metadata": {},
     "output_type": "execute_result"
    }
   ],
   "source": [
    "data ['Mobile']"
   ]
  },
  {
   "cell_type": "code",
   "execution_count": 13,
   "id": "0e0999b9-d4ca-488c-9634-35a5a3a5b2a2",
   "metadata": {},
   "outputs": [],
   "source": [
    "data['Mobile'] = 9922682104"
   ]
  },
  {
   "cell_type": "code",
   "execution_count": 14,
   "id": "b1e6f78d-fc6c-4688-9278-41714dae60d7",
   "metadata": {},
   "outputs": [
    {
     "data": {
      "text/plain": [
       "{'Name': 'sneha', 'Last_Name': 'chaudhari', 'Age': 24, 'Mobile': 9922682104}"
      ]
     },
     "execution_count": 14,
     "metadata": {},
     "output_type": "execute_result"
    }
   ],
   "source": [
    "data"
   ]
  },
  {
   "cell_type": "code",
   "execution_count": 15,
   "id": "003cffcc-0702-4ce9-a841-f9b1e1c6942b",
   "metadata": {},
   "outputs": [
    {
     "name": "stdout",
     "output_type": "stream",
     "text": [
      "hellohellohello\n"
     ]
    }
   ],
   "source": [
    "print('hello'*3)"
   ]
  },
  {
   "cell_type": "markdown",
   "id": "711bb8e0-5565-4f5a-b7e9-97e42c9a16f2",
   "metadata": {},
   "source": [
    "# Conditional Statement"
   ]
  },
  {
   "cell_type": "code",
   "execution_count": 2,
   "id": "b8539c9b-ec1f-482b-bb1e-7a29a3d4cd0e",
   "metadata": {},
   "outputs": [
    {
     "name": "stdout",
     "output_type": "stream",
     "text": [
      "Not Grater\n"
     ]
    }
   ],
   "source": [
    "if 10 > 20 :\n",
    "    print('Grater')\n",
    "else:\n",
    "    print('Not Grater')"
   ]
  },
  {
   "cell_type": "code",
   "execution_count": 3,
   "id": "f2db1b82-aafe-4ec6-b3e5-bac9b2963e8f",
   "metadata": {},
   "outputs": [],
   "source": [
    "marks = 52"
   ]
  },
  {
   "cell_type": "code",
   "execution_count": 4,
   "id": "201a5fe1-28b6-48dd-89da-4468a17cd1ec",
   "metadata": {},
   "outputs": [
    {
     "name": "stdout",
     "output_type": "stream",
     "text": [
      "Pass\n"
     ]
    }
   ],
   "source": [
    "if marks > 35:\n",
    "    print('Pass')\n",
    "else:\n",
    "    print('Fail')"
   ]
  },
  {
   "cell_type": "markdown",
   "id": "cc632bd6-c73c-4cfc-9b7f-fb55413b3628",
   "metadata": {},
   "source": [
    "# practice"
   ]
  },
  {
   "cell_type": "code",
   "execution_count": 1,
   "id": "cac14bd1-a6b9-4139-848a-9da734fc91a0",
   "metadata": {},
   "outputs": [],
   "source": [
    "x = [1,2,3,4,5,6,7,8]"
   ]
  },
  {
   "cell_type": "code",
   "execution_count": 2,
   "id": "72f314a0-9c7e-4931-8291-3081b629604b",
   "metadata": {},
   "outputs": [
    {
     "data": {
      "text/plain": [
       "[8, 7, 6, 5, 4, 3, 2, 1]"
      ]
     },
     "execution_count": 2,
     "metadata": {},
     "output_type": "execute_result"
    }
   ],
   "source": [
    "x[::-1]"
   ]
  },
  {
   "cell_type": "code",
   "execution_count": 3,
   "id": "42366179-ecb7-4093-a996-b67cb486992a",
   "metadata": {},
   "outputs": [],
   "source": [
    "x.reverse()"
   ]
  },
  {
   "cell_type": "code",
   "execution_count": 6,
   "id": "4f68308a-9e91-4186-9536-0eabdf902bad",
   "metadata": {},
   "outputs": [
    {
     "data": {
      "text/plain": [
       "[8, 7, 6, 5, 4, 3, 2, 1]"
      ]
     },
     "execution_count": 6,
     "metadata": {},
     "output_type": "execute_result"
    }
   ],
   "source": [
    "x[0::]"
   ]
  },
  {
   "cell_type": "code",
   "execution_count": 7,
   "id": "dc40fad0-c94b-43af-8c8d-31045f8f8c3b",
   "metadata": {},
   "outputs": [],
   "source": [
    "x.reverse()"
   ]
  },
  {
   "cell_type": "code",
   "execution_count": 8,
   "id": "5131a9cf-816a-4e9a-8922-ebe0791677f2",
   "metadata": {},
   "outputs": [
    {
     "data": {
      "text/plain": [
       "[1, 2, 3, 4, 5, 6, 7, 8]"
      ]
     },
     "execution_count": 8,
     "metadata": {},
     "output_type": "execute_result"
    }
   ],
   "source": [
    "x"
   ]
  },
  {
   "cell_type": "code",
   "execution_count": 9,
   "id": "85530180-83c0-4679-98a4-abc3ac912331",
   "metadata": {},
   "outputs": [
    {
     "data": {
      "text/plain": [
       "1"
      ]
     },
     "execution_count": 9,
     "metadata": {},
     "output_type": "execute_result"
    }
   ],
   "source": [
    "x[0]"
   ]
  },
  {
   "cell_type": "code",
   "execution_count": 10,
   "id": "26f4fb48-b489-4ddf-9a11-6a02fd00cec8",
   "metadata": {},
   "outputs": [
    {
     "data": {
      "text/plain": [
       "[1, 2]"
      ]
     },
     "execution_count": 10,
     "metadata": {},
     "output_type": "execute_result"
    }
   ],
   "source": [
    "x[0:2]"
   ]
  },
  {
   "cell_type": "code",
   "execution_count": 11,
   "id": "ba33b761-5678-4740-b904-54c76ddf6763",
   "metadata": {},
   "outputs": [
    {
     "data": {
      "text/plain": [
       "[1]"
      ]
     },
     "execution_count": 11,
     "metadata": {},
     "output_type": "execute_result"
    }
   ],
   "source": [
    "x[0:2:2]"
   ]
  },
  {
   "cell_type": "code",
   "execution_count": 12,
   "id": "f87c4053-8e93-45ae-8eff-519a8d31a507",
   "metadata": {},
   "outputs": [
    {
     "data": {
      "text/plain": [
       "[3, 6]"
      ]
     },
     "execution_count": 12,
     "metadata": {},
     "output_type": "execute_result"
    }
   ],
   "source": [
    "x[2::3]"
   ]
  },
  {
   "cell_type": "code",
   "execution_count": 13,
   "id": "8e226bfc-4e20-4bcf-bed8-99e43b83c33a",
   "metadata": {},
   "outputs": [],
   "source": [
    "x.insert(3,11)"
   ]
  },
  {
   "cell_type": "code",
   "execution_count": 14,
   "id": "491ce346-6ffd-4050-897a-915a46d10f5e",
   "metadata": {},
   "outputs": [
    {
     "data": {
      "text/plain": [
       "[1, 2, 3, 11, 4, 5, 6, 7, 8]"
      ]
     },
     "execution_count": 14,
     "metadata": {},
     "output_type": "execute_result"
    }
   ],
   "source": [
    "x"
   ]
  },
  {
   "cell_type": "code",
   "execution_count": 15,
   "id": "318cdf01-4760-481c-ad7e-d6db40081027",
   "metadata": {},
   "outputs": [],
   "source": [
    "s = [80,40,50,60,50,40,80,30]"
   ]
  },
  {
   "cell_type": "code",
   "execution_count": 16,
   "id": "1965ae02-71be-41d3-b3c2-685454ba11fc",
   "metadata": {},
   "outputs": [
    {
     "data": {
      "text/plain": [
       "8"
      ]
     },
     "execution_count": 16,
     "metadata": {},
     "output_type": "execute_result"
    }
   ],
   "source": [
    "len(s)"
   ]
  },
  {
   "cell_type": "code",
   "execution_count": 17,
   "id": "04c9b252-07b1-4008-9475-6e7d2534a9dd",
   "metadata": {},
   "outputs": [
    {
     "data": {
      "text/plain": [
       "2"
      ]
     },
     "execution_count": 17,
     "metadata": {},
     "output_type": "execute_result"
    }
   ],
   "source": [
    "s.count(40)"
   ]
  },
  {
   "cell_type": "code",
   "execution_count": 20,
   "id": "7b6266fc-8825-4dd4-9196-85839b9648eb",
   "metadata": {},
   "outputs": [
    {
     "data": {
      "text/plain": [
       "2"
      ]
     },
     "execution_count": 20,
     "metadata": {},
     "output_type": "execute_result"
    }
   ],
   "source": [
    "s.count(50)"
   ]
  },
  {
   "cell_type": "code",
   "execution_count": 21,
   "id": "af3c370a-f852-4ad8-aeac-d658c4fc84a4",
   "metadata": {},
   "outputs": [],
   "source": [
    "s.append([10,20,70])"
   ]
  },
  {
   "cell_type": "code",
   "execution_count": 22,
   "id": "0db23cdc-437c-403c-93f4-7482c2a4b49c",
   "metadata": {},
   "outputs": [
    {
     "data": {
      "text/plain": [
       "[80, 40, 50, 60, 50, 40, 80, 30, [10, 20, 70]]"
      ]
     },
     "execution_count": 22,
     "metadata": {},
     "output_type": "execute_result"
    }
   ],
   "source": [
    "s"
   ]
  },
  {
   "cell_type": "code",
   "execution_count": 23,
   "id": "6653a218-2b10-4d29-9a0a-171c2248469e",
   "metadata": {},
   "outputs": [
    {
     "data": {
      "text/plain": [
       "0"
      ]
     },
     "execution_count": 23,
     "metadata": {},
     "output_type": "execute_result"
    }
   ],
   "source": [
    "s.index(80)"
   ]
  },
  {
   "cell_type": "code",
   "execution_count": 26,
   "id": "c0c417a3-1ce2-4f22-b97d-74256cc10da8",
   "metadata": {},
   "outputs": [
    {
     "data": {
      "text/plain": [
       "7"
      ]
     },
     "execution_count": 26,
     "metadata": {},
     "output_type": "execute_result"
    }
   ],
   "source": [
    "s.index(30)"
   ]
  },
  {
   "cell_type": "code",
   "execution_count": 27,
   "id": "1429169f-c51f-465c-afba-f163e847f9c2",
   "metadata": {},
   "outputs": [
    {
     "data": {
      "text/plain": [
       "list"
      ]
     },
     "execution_count": 27,
     "metadata": {},
     "output_type": "execute_result"
    }
   ],
   "source": [
    "type(s)"
   ]
  },
  {
   "cell_type": "code",
   "execution_count": 28,
   "id": "b7f8ee59-78ff-4722-8574-7c8e248c0599",
   "metadata": {},
   "outputs": [
    {
     "data": {
      "text/plain": [
       "[10, 20, 70]"
      ]
     },
     "execution_count": 28,
     "metadata": {},
     "output_type": "execute_result"
    }
   ],
   "source": [
    "s.pop()"
   ]
  },
  {
   "cell_type": "code",
   "execution_count": 29,
   "id": "0743e924-3328-4308-9b09-caada53a7783",
   "metadata": {},
   "outputs": [
    {
     "data": {
      "text/plain": [
       "[80, 40, 50, 60, 50, 40, 80, 30]"
      ]
     },
     "execution_count": 29,
     "metadata": {},
     "output_type": "execute_result"
    }
   ],
   "source": [
    "s"
   ]
  },
  {
   "cell_type": "code",
   "execution_count": 30,
   "id": "a6b1af70-a659-40ec-8a33-58a9dfa66b03",
   "metadata": {},
   "outputs": [],
   "source": [
    "s.sort()"
   ]
  },
  {
   "cell_type": "code",
   "execution_count": 31,
   "id": "5f08b5e5-1653-49d4-ad79-7ca3503294a2",
   "metadata": {},
   "outputs": [
    {
     "data": {
      "text/plain": [
       "[30, 40, 40, 50, 50, 60, 80, 80]"
      ]
     },
     "execution_count": 31,
     "metadata": {},
     "output_type": "execute_result"
    }
   ],
   "source": [
    "s"
   ]
  },
  {
   "cell_type": "markdown",
   "id": "2dd9c1bf-b6d8-4738-8ffb-f311d291edfe",
   "metadata": {},
   "source": [
    "# multiple condition"
   ]
  },
  {
   "cell_type": "code",
   "execution_count": 20,
   "id": "8d205390-76a6-4df9-b759-5dfb47fe79a8",
   "metadata": {},
   "outputs": [],
   "source": [
    "age = 29"
   ]
  },
  {
   "cell_type": "code",
   "execution_count": 21,
   "id": "468ed8c6-ebcd-4698-aaa5-07a82dd5d6e9",
   "metadata": {},
   "outputs": [
    {
     "name": "stdout",
     "output_type": "stream",
     "text": [
      "Student\n"
     ]
    }
   ],
   "source": [
    "if age > 90 :\n",
    "    print('old person')\n",
    "elif age > 30:\n",
    "    print('working person')\n",
    "elif age > 5 :\n",
    "    print('Student')\n",
    "else : \n",
    "    print('small baby')"
   ]
  },
  {
   "cell_type": "code",
   "execution_count": 11,
   "id": "cc169a50-394f-4b29-9ce9-6e7c9a232aed",
   "metadata": {},
   "outputs": [
    {
     "name": "stdout",
     "output_type": "stream",
     "text": [
      "Pass\n"
     ]
    }
   ],
   "source": [
    "marks = 40\n",
    "if marks > 90:\n",
    "    print('A+')\n",
    "elif marks > 70:\n",
    "    print('B')\n",
    "elif marks > 50:\n",
    "    print('C')\n",
    "elif marks > 35:\n",
    "    print('Pass')\n",
    "else: \n",
    "    print('Fail')"
   ]
  },
  {
   "cell_type": "code",
   "execution_count": 15,
   "id": "ae0f3761-ae11-4399-a2eb-716c53676970",
   "metadata": {},
   "outputs": [
    {
     "name": "stdout",
     "output_type": "stream",
     "text": [
      "Pass\n"
     ]
    }
   ],
   "source": [
    "marks = 45\n",
    "if marks > 90 and marks < 100:\n",
    "    print('A+')\n",
    "elif marks > 70 and marks < 90:\n",
    "    print('B')\n",
    "elif marks > 50 and marks < 70:\n",
    "    print('C')\n",
    "elif marks > 35 and marks < 50:\n",
    "    print('Pass')\n",
    "elif marks > 0 and marks < 35:\n",
    "    print('Fail')\n",
    "else:\n",
    "    print('please write between range of 0-100')\n",
    "    "
   ]
  },
  {
   "cell_type": "code",
   "execution_count": 17,
   "id": "5598586c-16a2-472e-a79f-2e0598d799c5",
   "metadata": {},
   "outputs": [
    {
     "name": "stdout",
     "output_type": "stream",
     "text": [
      "A+\n"
     ]
    }
   ],
   "source": [
    "marks = 90\n",
    "if marks >= 90 and marks < 100:\n",
    "    print('A+')\n",
    "elif marks >= 70 and marks < 90:\n",
    "    print('B')\n",
    "elif marks >= 50 and marks < 70:\n",
    "    print('C')\n",
    "elif marks >= 35 and marks < 50:\n",
    "    print('Pass')\n",
    "elif marks > 0 and marks < 35:\n",
    "    print('Fail')\n",
    "else:\n",
    "    print('please write between range of 0-100')\n",
    "    "
   ]
  },
  {
   "cell_type": "code",
   "execution_count": 19,
   "id": "8cbf28fe-9284-4683-9073-338de35b2803",
   "metadata": {},
   "outputs": [
    {
     "name": "stdout",
     "output_type": "stream",
     "text": [
      "True\n"
     ]
    }
   ],
   "source": [
    "if 10 > 60 or 10 < 20:\n",
    "    print (True)\n",
    "else:\n",
    "    print(False)\n"
   ]
  },
  {
   "cell_type": "markdown",
   "id": "bdf400b8-664c-43da-9801-559a51f7f95d",
   "metadata": {},
   "source": [
    "# Loops"
   ]
  },
  {
   "cell_type": "raw",
   "id": "943c8168-e5b5-4fc1-8cab-e4be30219611",
   "metadata": {},
   "source": [
    "# 5 Example"
   ]
  },
  {
   "cell_type": "code",
   "execution_count": 22,
   "id": "a10fe3ca-f68b-47ae-ae83-297d974aaa5a",
   "metadata": {},
   "outputs": [],
   "source": [
    "l = ['H','E','L','L','O','I']"
   ]
  },
  {
   "cell_type": "code",
   "execution_count": 23,
   "id": "599c0091-cae7-42ef-b49e-ebd5ea40eddb",
   "metadata": {},
   "outputs": [
    {
     "name": "stdout",
     "output_type": "stream",
     "text": [
      "H\n",
      "E\n",
      "L\n",
      "L\n",
      "O\n",
      "I\n"
     ]
    }
   ],
   "source": [
    "for char in l:\n",
    "    print(char)"
   ]
  },
  {
   "cell_type": "code",
   "execution_count": 24,
   "id": "81f17b64-46e1-498f-a722-ca6925844602",
   "metadata": {},
   "outputs": [
    {
     "name": "stdout",
     "output_type": "stream",
     "text": [
      "H\n",
      "E\n",
      "L\n",
      "L\n",
      "O\n",
      "I\n"
     ]
    }
   ],
   "source": [
    "for word in l:\n",
    "    print(word)"
   ]
  },
  {
   "cell_type": "raw",
   "id": "164aad9c-16b4-4181-b4bf-61780271d531",
   "metadata": {},
   "source": [
    "for loop is going to iterate object one by one."
   ]
  },
  {
   "cell_type": "code",
   "execution_count": 25,
   "id": "7166efd3-2622-4c12-afbd-f1c6f48908ec",
   "metadata": {},
   "outputs": [],
   "source": [
    "d = [10,20,30,40,50]"
   ]
  },
  {
   "cell_type": "code",
   "execution_count": 26,
   "id": "7b38d8b6-6a72-43c0-8d73-e11eea6ec339",
   "metadata": {},
   "outputs": [
    {
     "name": "stdout",
     "output_type": "stream",
     "text": [
      "10\n",
      "20\n",
      "30\n",
      "40\n",
      "50\n"
     ]
    }
   ],
   "source": [
    "for num in d:\n",
    "    print(num)"
   ]
  },
  {
   "cell_type": "code",
   "execution_count": 27,
   "id": "49c808a7-c517-44d9-b2eb-f0eac77ad524",
   "metadata": {},
   "outputs": [
    {
     "name": "stdout",
     "output_type": "stream",
     "text": [
      "11\n",
      "21\n",
      "31\n",
      "41\n",
      "51\n"
     ]
    }
   ],
   "source": [
    "for num in d:\n",
    "    print(num + 1)"
   ]
  },
  {
   "cell_type": "code",
   "execution_count": 28,
   "id": "ec604e30-7097-4dd0-8f3b-2d3bbde35abf",
   "metadata": {},
   "outputs": [
    {
     "name": "stdout",
     "output_type": "stream",
     "text": [
      "D\n",
      "a\n",
      "t\n",
      "a\n"
     ]
    }
   ],
   "source": [
    " for i in 'Data':\n",
    "     print(i)"
   ]
  },
  {
   "cell_type": "code",
   "execution_count": 29,
   "id": "6013415e-f6df-400f-9642-788340bd8482",
   "metadata": {},
   "outputs": [
    {
     "ename": "TypeError",
     "evalue": "'int' object is not iterable",
     "output_type": "error",
     "traceback": [
      "\u001b[1;31m---------------------------------------------------------------------------\u001b[0m",
      "\u001b[1;31mTypeError\u001b[0m                                 Traceback (most recent call last)",
      "Cell \u001b[1;32mIn[29], line 1\u001b[0m\n\u001b[1;32m----> 1\u001b[0m \u001b[38;5;28;01mfor\u001b[39;00m i \u001b[38;5;129;01min\u001b[39;00m \u001b[38;5;241m150\u001b[39m:\n\u001b[0;32m      2\u001b[0m     \u001b[38;5;28mprint\u001b[39m(i)\n",
      "\u001b[1;31mTypeError\u001b[0m: 'int' object is not iterable"
     ]
    }
   ],
   "source": [
    "for i in 150:\n",
    "    print(i)"
   ]
  },
  {
   "cell_type": "code",
   "execution_count": 30,
   "id": "f7c31514-ddb6-4ebc-804c-015162733878",
   "metadata": {},
   "outputs": [],
   "source": [
    "t = [1,2,3,4,5]"
   ]
  },
  {
   "cell_type": "code",
   "execution_count": 31,
   "id": "2a793633-fbfe-4e09-8632-f1489f65044c",
   "metadata": {},
   "outputs": [
    {
     "name": "stdout",
     "output_type": "stream",
     "text": [
      "1\n",
      "2\n",
      "3\n",
      "4\n",
      "5\n"
     ]
    }
   ],
   "source": [
    "for numbers in t:\n",
    "    print(numbers)"
   ]
  },
  {
   "cell_type": "code",
   "execution_count": 36,
   "id": "d6c0777c-416d-4ab6-9c97-277749de464b",
   "metadata": {},
   "outputs": [
    {
     "name": "stdout",
     "output_type": "stream",
     "text": [
      "s Hello\n",
      "c Hello\n",
      "i Hello\n",
      "e Hello\n",
      "n Hello\n",
      "c Hello\n",
      "e Hello\n"
     ]
    }
   ],
   "source": [
    "for i in 'science':\n",
    "    print(i + ' Hello')"
   ]
  },
  {
   "cell_type": "code",
   "execution_count": 33,
   "id": "6f7e3096-1ce5-4f54-a2cd-fb6b50a3d4cb",
   "metadata": {},
   "outputs": [],
   "source": [
    "names = ['Sneha','Santosh','Savita','Siddhant','Saurabh']"
   ]
  },
  {
   "cell_type": "code",
   "execution_count": 34,
   "id": "c4340be1-5fcd-4e20-b3ce-fc92e4fdd854",
   "metadata": {},
   "outputs": [
    {
     "name": "stdout",
     "output_type": "stream",
     "text": [
      "Hi Sneha\n",
      "Hi Santosh\n",
      "Hi Savita\n",
      "Hi Siddhant\n",
      "Hi Saurabh\n"
     ]
    }
   ],
   "source": [
    "for i in names:\n",
    "    print('Hi ' + i)"
   ]
  },
  {
   "cell_type": "code",
   "execution_count": null,
   "id": "ae7dd761-fc8b-4c37-aaf9-41609a92a38f",
   "metadata": {},
   "outputs": [],
   "source": []
  }
 ],
 "metadata": {
  "kernelspec": {
   "display_name": "Python 3 (ipykernel)",
   "language": "python",
   "name": "python3"
  },
  "language_info": {
   "codemirror_mode": {
    "name": "ipython",
    "version": 3
   },
   "file_extension": ".py",
   "mimetype": "text/x-python",
   "name": "python",
   "nbconvert_exporter": "python",
   "pygments_lexer": "ipython3",
   "version": "3.12.7"
  }
 },
 "nbformat": 4,
 "nbformat_minor": 5
}
